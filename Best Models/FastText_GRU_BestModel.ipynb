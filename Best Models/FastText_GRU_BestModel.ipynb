{
  "cells": [
    {
      "cell_type": "code",
      "execution_count": null,
      "metadata": {
        "id": "q7feVVqlc_Hr",
        "colab": {
          "base_uri": "https://localhost:8080/"
        },
        "outputId": "80f7a3d0-0d8a-4165-e03d-8a46d565d776"
      },
      "outputs": [
        {
          "output_type": "stream",
          "name": "stdout",
          "text": [
            "Drive already mounted at /content/drive; to attempt to forcibly remount, call drive.mount(\"/content/drive\", force_remount=True).\n"
          ]
        }
      ],
      "source": [
        "from google.colab import drive\n",
        "drive.mount('/content/drive')"
      ]
    },
    {
      "cell_type": "markdown",
      "source": [
        "# Libraries"
      ],
      "metadata": {
        "id": "oH1LiSCVO533"
      }
    },
    {
      "cell_type": "code",
      "execution_count": null,
      "metadata": {
        "id": "LuB6ODLFdNzP"
      },
      "outputs": [],
      "source": [
        "# Insert the directory\n",
        "import sys\n",
        "sys.path.insert(0,'/content/drive/Shareddrives/ProgettoHLT/FakeNewsDetection')"
      ]
    },
    {
      "cell_type": "code",
      "execution_count": null,
      "metadata": {
        "id": "-S-pI5KWhZw9"
      },
      "outputs": [],
      "source": [
        "import numpy as np\n",
        "import seaborn as sns\n",
        "import codecs\n",
        "from tqdm import tqdm\n",
        "from keras.models import load_model\n",
        "from tensorflow.keras.models import Sequential, Model\n",
        "from tensorflow.keras.layers import Dense, Flatten, Conv1D, GRU, Dropout, MaxPooling1D, Embedding, BatchNormalization\n",
        "from tensorflow.keras.callbacks import Callback\n",
        "from tensorflow.keras.callbacks import EarlyStopping\n",
        "from tensorflow.keras.optimizers import Adam\n",
        "from decimal import Decimal\n",
        "from sklearn.metrics import classification_report, accuracy_score\n",
        "from sklearn.metrics import confusion_matrix\n",
        "import matplotlib.pyplot as plt\n",
        "import warnings\n",
        "warnings.filterwarnings(\"ignore\")"
      ]
    },
    {
      "cell_type": "code",
      "execution_count": null,
      "metadata": {
        "id": "4l97cS3Bfe7H",
        "colab": {
          "base_uri": "https://localhost:8080/",
          "height": 434
        },
        "outputId": "674599f3-629a-4a45-cc71-a831989117a5"
      },
      "outputs": [
        {
          "output_type": "stream",
          "name": "stdout",
          "text": [
            "Drive already mounted at /content/drive; to attempt to forcibly remount, call drive.mount(\"/content/drive\", force_remount=True).\n",
            "Number of unique words:  123659\n"
          ]
        },
        {
          "output_type": "stream",
          "name": "stderr",
          "text": [
            "[nltk_data] Downloading package punkt to /root/nltk_data...\n",
            "[nltk_data]   Package punkt is already up-to-date!\n"
          ]
        },
        {
          "output_type": "stream",
          "name": "stdout",
          "text": [
            "Number of news: 16646\n",
            "Median length of the news: 317\n"
          ]
        },
        {
          "output_type": "display_data",
          "data": {
            "text/plain": [
              "<Figure size 432x288 with 1 Axes>"
            ],
            "image/png": "[encoded data removed]"
          },
          "metadata": {
            "needs_background": "light"
          }
        },
        {
          "output_type": "stream",
          "name": "stdout",
          "text": [
            "Number of True News in the Training Set: 8323\n",
            "Number of Fake News in the Training Set: 8323\n"
          ]
        }
      ],
      "source": [
        "from data_preprocessing_fulldataset import unique_words, padded_train, padded_test, Y_train, Y_test, median, word_index"
      ]
    },
    {
      "cell_type": "markdown",
      "metadata": {
        "id": "tqjeEJm3AuMr"
      },
      "source": [
        "# Best Model"
      ]
    },
    {
      "cell_type": "markdown",
      "source": [
        "Pre-trained Word Embedding with FastText"
      ],
      "metadata": {
        "id": "SF1xy0m1ibSw"
      }
    },
    {
      "cell_type": "code",
      "source": [
        "#load embeddings\n",
        "print('loading word embeddings...')\n",
        "embeddings_index = {}\n",
        "f = codecs.open('/content/drive/Shareddrives/ProgettoHLT/FakeNewsDetection/wiki-news-300d-1M.vec', encoding='utf-8')\n",
        "for line in tqdm(f):\n",
        "    values = line.rstrip().rsplit(' ')\n",
        "    word = values[0]\n",
        "    coefs = np.asarray(values[1:], dtype='float32')\n",
        "    embeddings_index[word] = coefs\n",
        "f.close()\n",
        "print('found %s word vectors' % len(embeddings_index))"
      ],
      "metadata": {
        "id": "8J5Cn__4ii1k",
        "colab": {
          "base_uri": "https://localhost:8080/"
        },
        "outputId": "97735031-f69f-4589-fa53-4b2212acdcab"
      },
      "execution_count": null,
      "outputs": [
        {
          "output_type": "stream",
          "name": "stdout",
          "text": [
            "loading word embeddings...\n"
          ]
        },
        {
          "output_type": "stream",
          "name": "stderr",
          "text": [
            "999995it [01:05, 15271.25it/s]"
          ]
        },
        {
          "output_type": "stream",
          "name": "stdout",
          "text": [
            "found 999995 word vectors\n"
          ]
        },
        {
          "output_type": "stream",
          "name": "stderr",
          "text": [
            "\n"
          ]
        }
      ]
    },
    {
      "cell_type": "code",
      "source": [
        "#embedding matrix\n",
        "print('preparing embedding matrix...')\n",
        "words_not_found = []\n",
        "nb_words = min(unique_words, len(word_index))+1\n",
        "embedding_matrix = np.zeros((nb_words, 300))\n",
        "for word, i in word_index.items():\n",
        "    if i >= nb_words:\n",
        "        continue\n",
        "    embedding_vector = embeddings_index.get(word)\n",
        "    if (embedding_vector is not None) and len(embedding_vector) > 0:\n",
        "        # words not found in embedding index will be all-zeros.\n",
        "        embedding_matrix[i] = embedding_vector\n",
        "    else:\n",
        "        words_not_found.append(word)\n",
        "print('number of null word embeddings: %d' % np.sum(np.sum(embedding_matrix, axis=1) == 0))"
      ],
      "metadata": {
        "id": "0Mm4BwYOioDk",
        "colab": {
          "base_uri": "https://localhost:8080/"
        },
        "outputId": "5d172272-2d40-417a-fcd6-a0c7db55d397"
      },
      "execution_count": null,
      "outputs": [
        {
          "output_type": "stream",
          "name": "stdout",
          "text": [
            "preparing embedding matrix...\n",
            "number of null word embeddings: 59785\n"
          ]
        }
      ]
    },
    {
      "cell_type": "code",
      "execution_count": null,
      "metadata": {
        "id": "Z0d7qNMLUCc3"
      },
      "outputs": [],
      "source": [
        "best_model = Sequential()\n",
        "\n",
        "best_model.add(Embedding(nb_words, output_dim = 300, input_length=median, weights=[embedding_matrix])) \n",
        "\n",
        "best_model.add(GRU(64))\n",
        "best_model.add(BatchNormalization())\n",
        "best_model.add(Dropout(0.1))\n",
        "\n",
        "best_model.add(Dense(128, activation=\"relu\"))\n",
        "best_model.add(Dense(1, activation='sigmoid'))\n",
        "\n",
        "best_model.compile(optimizer=Adam(learning_rate=0.001, clipnorm=1), loss=\"binary_crossentropy\", metrics=['accuracy'])"
      ]
    },
    {
      "cell_type": "code",
      "source": [
        "best_model.summary()"
      ],
      "metadata": {
        "id": "YOAwz3tTRNUZ",
        "colab": {
          "base_uri": "https://localhost:8080/"
        },
        "outputId": "a85d000b-def4-4014-a204-49a6b7b467a8"
      },
      "execution_count": null,
      "outputs": [
        {
          "output_type": "stream",
          "name": "stdout",
          "text": [
            "Model: \"sequential\"\n",
            "_________________________________________________________________\n",
            " Layer (type)                Output Shape              Param #   \n",
            "=================================================================\n",
            " embedding (Embedding)       (None, 317, 300)          35958600  \n",
            "                                                                 \n",
            " gru (GRU)                   (None, 64)                70272     \n",
            "                                                                 \n",
            " batch_normalization (BatchN  (None, 64)               256       \n",
            " ormalization)                                                   \n",
            "                                                                 \n",
            " dropout (Dropout)           (None, 64)                0         \n",
            "                                                                 \n",
            " dense (Dense)               (None, 128)               8320      \n",
            "                                                                 \n",
            " dense_1 (Dense)             (None, 1)                 129       \n",
            "                                                                 \n",
            "=================================================================\n",
            "Total params: 36,037,577\n",
            "Trainable params: 36,037,449\n",
            "Non-trainable params: 128\n",
            "_________________________________________________________________\n"
          ]
        }
      ]
    },
    {
      "cell_type": "markdown",
      "metadata": {
        "id": "au6R09KDTFsm"
      },
      "source": [
        "# Best Model Retraining on full dataset"
      ]
    },
    {
      "cell_type": "code",
      "source": [
        "# Train loss achieved with Model Selection\n",
        "train_thold = 0.0658"
      ],
      "metadata": {
        "id": "Kfs5OBKDDYQo"
      },
      "execution_count": null,
      "outputs": []
    },
    {
      "cell_type": "code",
      "source": [
        "# Stopping criterion (Retrain until the loss is above the threshold)\n",
        "\n",
        "class SOMT(Callback):\n",
        "\n",
        "    def __init__(self, model,  train_thold):\n",
        "        super(SOMT, self).__init__()\n",
        "        self.model=model        \n",
        "        self.train_thold=train_thold\n",
        "        \n",
        "    def on_epoch_end(self,epoch, logs={}): \n",
        "        tr_loss=logs.get('loss')\n",
        "        if tr_loss <= self.train_thold:\n",
        "            self.model.stop_training = True # stop training\n",
        "            print( f'\\nTraining stopped because loss reached the threshold')"
      ],
      "metadata": {
        "id": "4F8G_eHCs995"
      },
      "execution_count": null,
      "outputs": []
    },
    {
      "cell_type": "code",
      "source": [
        "Y_train = np.asarray(Y_train)"
      ],
      "metadata": {
        "id": "-XNXFVLnNfTf"
      },
      "execution_count": null,
      "outputs": []
    },
    {
      "cell_type": "code",
      "execution_count": null,
      "metadata": {
        "id": "9v_X2-T-ZeNh",
        "colab": {
          "base_uri": "https://localhost:8080/"
        },
        "outputId": "63430b2c-a6ad-4476-910e-0717aedc8fb7"
      },
      "outputs": [
        {
          "output_type": "stream",
          "name": "stdout",
          "text": [
            "Epoch 1/30\n",
            "1041/1041 [==============================] - 38s 33ms/step - loss: 0.3856 - accuracy: 0.8247\n",
            "Epoch 2/30\n",
            "1041/1041 [==============================] - 33s 32ms/step - loss: 0.0833 - accuracy: 0.9761\n",
            "Epoch 3/30\n",
            "1041/1041 [==============================] - ETA: 0s - loss: 0.0263 - accuracy: 0.9932\n",
            "Training stopped because loss reached the threshold\n",
            "1041/1041 [==============================] - 33s 32ms/step - loss: 0.0263 - accuracy: 0.9932\n"
          ]
        }
      ],
      "source": [
        "# Retraining Best Model\n",
        "es = EarlyStopping(monitor='loss', patience=30, restore_best_weights=True)\n",
        "history = best_model.fit(padded_train, Y_train, batch_size=16, epochs=30, callbacks=[es, SOMT(best_model, train_thold)])"
      ]
    },
    {
      "cell_type": "code",
      "source": [
        "best_ep = np.argmin(history.history[\"loss\"][:-1])+1"
      ],
      "metadata": {
        "id": "0hF8N4IsnJHB"
      },
      "execution_count": null,
      "outputs": []
    },
    {
      "cell_type": "code",
      "execution_count": null,
      "metadata": {
        "id": "R4LhVn9Qsx5T",
        "colab": {
          "base_uri": "https://localhost:8080/",
          "height": 300
        },
        "outputId": "4c9cb641-1961-4afd-9f1f-2461ad1ab7c6"
      },
      "outputs": [
        {
          "output_type": "execute_result",
          "data": {
            "text/plain": [
              "<matplotlib.legend.Legend at 0x7fccd5f93790>"
            ]
          },
          "metadata": {},
          "execution_count": 14
        },
        {
          "output_type": "display_data",
          "data": {
            "text/plain": [
              "<Figure size 432x288 with 1 Axes>"
            ],
            "image/png": "[encoded data removed]"
          },
          "metadata": {
            "needs_background": "light"
          }
        }
      ],
      "source": [
        "#Accuracy plot\n",
        "plt.plot(history.history[\"accuracy\"][0:best_ep], label='accuracy')       \n",
        "plt.xlabel('Epochs')\n",
        "plt.ylabel('Accuracy')\n",
        "plt.ylim([0.8,1])\n",
        "plt.xticks(np.arange(len(history.history[\"accuracy\"][0:best_ep])), np.arange(1, len(history.history[\"accuracy\"][0:best_ep])+1))\n",
        "plt.legend(loc = 'lower right')"
      ]
    },
    {
      "cell_type": "code",
      "execution_count": null,
      "metadata": {
        "id": "EP_WqF6Wsx5V",
        "colab": {
          "base_uri": "https://localhost:8080/",
          "height": 300
        },
        "outputId": "b23f096e-8408-43c7-b765-498a551cb375"
      },
      "outputs": [
        {
          "output_type": "execute_result",
          "data": {
            "text/plain": [
              "<matplotlib.legend.Legend at 0x7fccd5f3ae90>"
            ]
          },
          "metadata": {},
          "execution_count": 36
        },
        {
          "output_type": "display_data",
          "data": {
            "text/plain": [
              "<Figure size 432x288 with 1 Axes>"
            ],
            "image/png": "[encoded data removed]"
          },
          "metadata": {
            "needs_background": "light"
          }
        }
      ],
      "source": [
        "#Loss plot\n",
        "plt.plot(history.history[\"loss\"][0:best_ep], label='loss')       \n",
        "plt.xlabel('Epochs')\n",
        "plt.ylabel('Loss')\n",
        "plt.ylim([0,0.4])\n",
        "plt.xticks(np.arange(len(history.history[\"loss\"][0:best_ep])), np.arange(1, len(history.history[\"loss\"][0:best_ep])+1))\n",
        "plt.legend(loc = 'upper right')"
      ]
    },
    {
      "cell_type": "markdown",
      "metadata": {
        "id": "RXa2MqEQQ2ww"
      },
      "source": [
        "# Best Model Performance on Test Set\n"
      ]
    },
    {
      "cell_type": "markdown",
      "metadata": {
        "id": "SmrxIJ-i0S84"
      },
      "source": [
        "## Classification Threshold 0.50"
      ]
    },
    {
      "cell_type": "code",
      "execution_count": null,
      "metadata": {
        "id": "xStw-VQHtEzA"
      },
      "outputs": [],
      "source": [
        "pred = (best_model.predict(padded_test) > 0.5)"
      ]
    },
    {
      "cell_type": "code",
      "execution_count": null,
      "metadata": {
        "id": "X4Du8kVKtF9G",
        "colab": {
          "base_uri": "https://localhost:8080/"
        },
        "outputId": "5688fdab-6062-4f7f-ab2c-a2601515fc43"
      },
      "outputs": [
        {
          "output_type": "stream",
          "name": "stdout",
          "text": [
            "              precision    recall  f1-score   support\n",
            "\n",
            "           0     0.9877    0.9763    0.9820      1979\n",
            "           1     0.9774    0.9883    0.9828      2056\n",
            "\n",
            "    accuracy                         0.9824      4035\n",
            "   macro avg     0.9826    0.9823    0.9824      4035\n",
            "weighted avg     0.9825    0.9824    0.9824      4035\n",
            "\n"
          ]
        }
      ],
      "source": [
        "# Getting the Classification Report\n",
        "print(classification_report(list(Y_test), pred, digits=4))"
      ]
    },
    {
      "cell_type": "code",
      "execution_count": null,
      "metadata": {
        "id": "TfuCww40voXa",
        "colab": {
          "base_uri": "https://localhost:8080/"
        },
        "outputId": "a262f079-4ca7-4f61-ee61-b124a2dff339"
      },
      "outputs": [
        {
          "output_type": "stream",
          "name": "stdout",
          "text": [
            "Test Accuracy :  98.24 %\n"
          ]
        }
      ],
      "source": [
        "# Getting the Test Accuracy\n",
        "accuracy = accuracy_score(list(Y_test), pred)\n",
        "print(\"Test Accuracy : \", round(Decimal(accuracy*100),2),\"%\")"
      ]
    },
    {
      "cell_type": "code",
      "execution_count": null,
      "metadata": {
        "id": "4n2SFg45ww1f",
        "colab": {
          "base_uri": "https://localhost:8080/",
          "height": 297
        },
        "outputId": "e8eecf1f-92da-41c8-b416-061e2a1162d5"
      },
      "outputs": [
        {
          "output_type": "display_data",
          "data": {
            "text/plain": [
              "<Figure size 432x288 with 2 Axes>"
            ],
            "image/png": "[encoded data removed]"
          },
          "metadata": {
            "needs_background": "light"
          }
        },
        {
          "output_type": "display_data",
          "data": {
            "text/plain": [
              "<Figure size 720x720 with 0 Axes>"
            ]
          },
          "metadata": {}
        }
      ],
      "source": [
        "# Getting The Confusion Matrix\n",
        "cm = confusion_matrix(list(Y_test), pred)\n",
        "sns.heatmap(cm, annot = True)\n",
        "plt.ylabel('Test label')\n",
        "plt.xlabel('Predicted label')\n",
        "plt.figure(figsize = (10, 10))\n",
        "plt.show()"
      ]
    },
    {
      "cell_type": "markdown",
      "source": [
        "# Best Model Performance on Test Set with different Classification Thresholds"
      ],
      "metadata": {
        "id": "v8YlYWVBSKxH"
      }
    },
    {
      "cell_type": "markdown",
      "metadata": {
        "id": "SpC-jcMQ0aDQ"
      },
      "source": [
        "## Classification Threshold 0.80"
      ]
    },
    {
      "cell_type": "code",
      "execution_count": null,
      "metadata": {
        "id": "9lZyJcySvpnC"
      },
      "outputs": [],
      "source": [
        "pred = (best_model.predict(padded_test) > 0.8)"
      ]
    },
    {
      "cell_type": "code",
      "execution_count": null,
      "metadata": {
        "id": "VOPJcDXLvpnE",
        "colab": {
          "base_uri": "https://localhost:8080/"
        },
        "outputId": "11680024-909f-4443-8b06-b97d06b47e80"
      },
      "outputs": [
        {
          "output_type": "stream",
          "name": "stdout",
          "text": [
            "              precision    recall  f1-score   support\n",
            "\n",
            "           0     0.9813    0.9823    0.9818      1979\n",
            "           1     0.9830    0.9820    0.9825      2056\n",
            "\n",
            "    accuracy                         0.9822      4035\n",
            "   macro avg     0.9821    0.9822    0.9821      4035\n",
            "weighted avg     0.9822    0.9822    0.9822      4035\n",
            "\n"
          ]
        }
      ],
      "source": [
        "# Getting the Classification Report\n",
        "print(classification_report(list(Y_test), pred, digits=4))"
      ]
    },
    {
      "cell_type": "code",
      "execution_count": null,
      "metadata": {
        "id": "WjUcHez4voeu",
        "colab": {
          "base_uri": "https://localhost:8080/"
        },
        "outputId": "0bbdeda8-0284-46a2-8575-b5ee949bce82"
      },
      "outputs": [
        {
          "output_type": "stream",
          "name": "stdout",
          "text": [
            "Test Accuracy :  98.22 %\n"
          ]
        }
      ],
      "source": [
        "# Getting the Test Accuracy\n",
        "accuracy = accuracy_score(list(Y_test), pred)\n",
        "print(\"Test Accuracy : \", round(Decimal(accuracy*100),2),\"%\")"
      ]
    },
    {
      "cell_type": "code",
      "execution_count": null,
      "metadata": {
        "id": "xEwdHhyFvoid",
        "colab": {
          "base_uri": "https://localhost:8080/"
        },
        "outputId": "d0863166-3004-4ffa-ba62-205455f1cb1f"
      },
      "outputs": [
        {
          "output_type": "display_data",
          "data": {
            "text/plain": [
              "<Figure size 432x288 with 2 Axes>"
            ],
            "image/png": "[encoded data removed]"
          },
          "metadata": {
            "needs_background": "light"
          }
        },
        {
          "output_type": "display_data",
          "data": {
            "text/plain": [
              "<Figure size 720x720 with 0 Axes>"
            ]
          },
          "metadata": {}
        }
      ],
      "source": [
        "# Getting the Confusion Matrix\n",
        "cm = confusion_matrix(list(Y_test), pred)\n",
        "sns.heatmap(cm, annot = True)\n",
        "plt.ylabel('Test label')\n",
        "plt.xlabel('Predicted label')\n",
        "plt.figure(figsize = (10, 10))\n",
        "plt.show()"
      ]
    },
    {
      "cell_type": "markdown",
      "metadata": {
        "id": "InGebANf0eC0"
      },
      "source": [
        "## Classification Threshold 0.90"
      ]
    },
    {
      "cell_type": "code",
      "execution_count": null,
      "metadata": {
        "id": "CPyMQesi0lzV"
      },
      "outputs": [],
      "source": [
        "pred = (best_model.predict(padded_test) > 0.9)"
      ]
    },
    {
      "cell_type": "code",
      "execution_count": null,
      "metadata": {
        "id": "aHF1aC680lzX",
        "colab": {
          "base_uri": "https://localhost:8080/"
        },
        "outputId": "7eaecb89-cbbd-4619-e90b-cc3e5629b3b9"
      },
      "outputs": [
        {
          "output_type": "stream",
          "name": "stdout",
          "text": [
            "              precision    recall  f1-score   support\n",
            "\n",
            "           0     0.9765    0.9869    0.9817      1979\n",
            "           1     0.9872    0.9771    0.9822      2056\n",
            "\n",
            "    accuracy                         0.9819      4035\n",
            "   macro avg     0.9819    0.9820    0.9819      4035\n",
            "weighted avg     0.9820    0.9819    0.9819      4035\n",
            "\n"
          ]
        }
      ],
      "source": [
        "# Getting the Classification Report\n",
        "print(classification_report(list(Y_test), pred, digits=4))"
      ]
    },
    {
      "cell_type": "code",
      "execution_count": null,
      "metadata": {
        "id": "2f0jJ1Lo0lzY",
        "colab": {
          "base_uri": "https://localhost:8080/"
        },
        "outputId": "e6680ab9-3b1d-476f-f6c5-124b7c5f6892"
      },
      "outputs": [
        {
          "output_type": "stream",
          "name": "stdout",
          "text": [
            "Test Accuracy :  98.19 %\n"
          ]
        }
      ],
      "source": [
        "# Getting the Test Accuracy\n",
        "accuracy = accuracy_score(list(Y_test), pred)\n",
        "print(\"Test Accuracy : \", round(Decimal(accuracy*100),2),\"%\")"
      ]
    },
    {
      "cell_type": "code",
      "execution_count": null,
      "metadata": {
        "id": "jZvu6Gvw0lzb",
        "colab": {
          "base_uri": "https://localhost:8080/"
        },
        "outputId": "86e8dd4e-0349-43d5-e9e9-b4f2a07784bd"
      },
      "outputs": [
        {
          "output_type": "display_data",
          "data": {
            "text/plain": [
              "<Figure size 432x288 with 2 Axes>"
            ],
            "image/png": "[encoded data removed]"
          },
          "metadata": {
            "needs_background": "light"
          }
        },
        {
          "output_type": "display_data",
          "data": {
            "text/plain": [
              "<Figure size 720x720 with 0 Axes>"
            ]
          },
          "metadata": {}
        }
      ],
      "source": [
        "# Getting the Confusion Matrix\n",
        "cm = confusion_matrix(list(Y_test), pred)\n",
        "sns.heatmap(cm, annot = True)\n",
        "plt.ylabel('Test label')\n",
        "plt.xlabel('Predicted label')\n",
        "plt.figure(figsize = (10, 10))\n",
        "plt.show()"
      ]
    },
    {
      "cell_type": "markdown",
      "metadata": {
        "id": "384QCMNP0rh9"
      },
      "source": [
        "## Classification Threshold 0.95"
      ]
    },
    {
      "cell_type": "code",
      "execution_count": null,
      "metadata": {
        "id": "HaXD9jVf0t0P"
      },
      "outputs": [],
      "source": [
        "pred = (best_model.predict(padded_test) > 0.95)"
      ]
    },
    {
      "cell_type": "code",
      "execution_count": null,
      "metadata": {
        "id": "QGC6kS620t0U",
        "colab": {
          "base_uri": "https://localhost:8080/"
        },
        "outputId": "8add9dea-6af3-4e22-9f43-5eea96d5b3de"
      },
      "outputs": [
        {
          "output_type": "stream",
          "name": "stdout",
          "text": [
            "              precision    recall  f1-score   support\n",
            "\n",
            "           0     0.9694    0.9929    0.9810      1979\n",
            "           1     0.9930    0.9698    0.9813      2056\n",
            "\n",
            "    accuracy                         0.9812      4035\n",
            "   macro avg     0.9812    0.9814    0.9812      4035\n",
            "weighted avg     0.9814    0.9812    0.9812      4035\n",
            "\n"
          ]
        }
      ],
      "source": [
        "# Getting the Classification Report\n",
        "print(classification_report(list(Y_test), pred, digits=4))"
      ]
    },
    {
      "cell_type": "code",
      "execution_count": null,
      "metadata": {
        "id": "J_WkQ3KC0t0a",
        "colab": {
          "base_uri": "https://localhost:8080/"
        },
        "outputId": "73354cf7-c9e7-4f22-bb32-da7d2509a84b"
      },
      "outputs": [
        {
          "output_type": "stream",
          "name": "stdout",
          "text": [
            "Test Accuracy :  98.12 %\n"
          ]
        }
      ],
      "source": [
        "# Getting the Test Accuracy\n",
        "accuracy = accuracy_score(list(Y_test), pred)\n",
        "print(\"Test Accuracy : \", round(Decimal(accuracy*100),2),\"%\")"
      ]
    },
    {
      "cell_type": "code",
      "execution_count": null,
      "metadata": {
        "id": "gXjMcuHb0t0e",
        "colab": {
          "base_uri": "https://localhost:8080/"
        },
        "outputId": "fa552800-17e8-4680-a9f3-8b724518132c"
      },
      "outputs": [
        {
          "output_type": "display_data",
          "data": {
            "text/plain": [
              "<Figure size 432x288 with 2 Axes>"
            ],
            "image/png": "[encoded data removed]"
          },
          "metadata": {
            "needs_background": "light"
          }
        },
        {
          "output_type": "display_data",
          "data": {
            "text/plain": [
              "<Figure size 720x720 with 0 Axes>"
            ]
          },
          "metadata": {}
        }
      ],
      "source": [
        "# Getting the Confusion Matrix\n",
        "cm = confusion_matrix(list(Y_test), pred)\n",
        "sns.heatmap(cm, annot = True)\n",
        "plt.ylabel('Test label')\n",
        "plt.xlabel('Predicted label')\n",
        "plt.figure(figsize = (10, 10))\n",
        "plt.show()"
      ]
    },
    {
      "cell_type": "markdown",
      "metadata": {
        "id": "hOb09ZI72ze-"
      },
      "source": [
        "## Classification Threshold 0.99"
      ]
    },
    {
      "cell_type": "code",
      "execution_count": null,
      "metadata": {
        "id": "Ihb-AvAR2zfB"
      },
      "outputs": [],
      "source": [
        "pred = (best_model.predict(padded_test) > 0.99)"
      ]
    },
    {
      "cell_type": "code",
      "execution_count": null,
      "metadata": {
        "id": "tQbt_3lr2zfC",
        "colab": {
          "base_uri": "https://localhost:8080/"
        },
        "outputId": "a238c234-8509-4b11-a5a5-ab495e9477aa"
      },
      "outputs": [
        {
          "output_type": "stream",
          "name": "stdout",
          "text": [
            "              precision    recall  f1-score   support\n",
            "\n",
            "           0     0.9372    0.9955    0.9654      1979\n",
            "           1     0.9953    0.9358    0.9647      2056\n",
            "\n",
            "    accuracy                         0.9651      4035\n",
            "   macro avg     0.9663    0.9656    0.9651      4035\n",
            "weighted avg     0.9668    0.9651    0.9650      4035\n",
            "\n"
          ]
        }
      ],
      "source": [
        "# Getting the Classification Report\n",
        "print(classification_report(list(Y_test), pred, digits=4))"
      ]
    },
    {
      "cell_type": "code",
      "execution_count": null,
      "metadata": {
        "id": "EpEI88NY2zfE",
        "colab": {
          "base_uri": "https://localhost:8080/"
        },
        "outputId": "6306c83e-cf86-42ba-9206-ed3691f04ddb"
      },
      "outputs": [
        {
          "output_type": "stream",
          "name": "stdout",
          "text": [
            "Test Accuracy :  96.51 %\n"
          ]
        }
      ],
      "source": [
        "# Getting the Test Accuracy\n",
        "accuracy = accuracy_score(list(Y_test), pred)\n",
        "print(\"Test Accuracy : \", round(Decimal(accuracy*100),2),\"%\")"
      ]
    },
    {
      "cell_type": "code",
      "execution_count": null,
      "metadata": {
        "id": "n-5lbxzn2zfH",
        "colab": {
          "base_uri": "https://localhost:8080/"
        },
        "outputId": "47c6936b-4b2d-4337-a249-c3dc5c1906c6"
      },
      "outputs": [
        {
          "output_type": "display_data",
          "data": {
            "text/plain": [
              "<Figure size 432x288 with 2 Axes>"
            ],
            "image/png": "[encoded data removed]"
          },
          "metadata": {
            "needs_background": "light"
          }
        },
        {
          "output_type": "display_data",
          "data": {
            "text/plain": [
              "<Figure size 720x720 with 0 Axes>"
            ]
          },
          "metadata": {}
        }
      ],
      "source": [
        "# Getting the Confusion Matrix\n",
        "cm = confusion_matrix(list(Y_test), pred)\n",
        "sns.heatmap(cm, annot = True)\n",
        "plt.ylabel('Test label')\n",
        "plt.xlabel('Predicted label')\n",
        "plt.figure(figsize = (10, 10))\n",
        "plt.show()"
      ]
    }
  ],
  "metadata": {
    "colab": {
      "collapsed_sections": [
        "SmrxIJ-i0S84",
        "SpC-jcMQ0aDQ",
        "InGebANf0eC0",
        "384QCMNP0rh9",
        "hOb09ZI72ze-"
      ],
      "provenance": []
    },
    "kernelspec": {
      "display_name": "Python 3",
      "name": "python3"
    },
    "language_info": {
      "name": "python"
    },
    "gpuClass": "standard",
    "accelerator": "GPU"
  },
  "nbformat": 4,
  "nbformat_minor": 0
}