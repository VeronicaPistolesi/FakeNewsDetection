{
  "cells": [
    {
      "cell_type": "code",
      "execution_count": null,
      "metadata": {
        "colab": {
          "base_uri": "https://localhost:8080/"
        },
        "id": "q7feVVqlc_Hr",
        "outputId": "d5317426-92a2-40f0-d4de-123d8188b1c0"
      },
      "outputs": [
        {
          "output_type": "stream",
          "name": "stdout",
          "text": [
            "Mounted at /content/drive\n"
          ]
        }
      ],
      "source": [
        "from google.colab import drive\n",
        "drive.mount('/content/drive')"
      ]
    },
    {
      "cell_type": "markdown",
      "source": [
        "# Libraries"
      ],
      "metadata": {
        "id": "oH1LiSCVO533"
      }
    },
    {
      "cell_type": "code",
      "execution_count": null,
      "metadata": {
        "id": "LuB6ODLFdNzP"
      },
      "outputs": [],
      "source": [
        "# Insert the directory\n",
        "import sys\n",
        "sys.path.insert(0,'/content/drive/Shareddrives/ProgettoHLT/FakeNewsDetection')"
      ]
    },
    {
      "cell_type": "code",
      "execution_count": null,
      "metadata": {
        "id": "-S-pI5KWhZw9"
      },
      "outputs": [],
      "source": [
        "import numpy as np\n",
        "import seaborn as sns\n",
        "import codecs\n",
        "from tqdm import tqdm\n",
        "from keras.models import load_model\n",
        "from tensorflow.keras.models import Sequential, Model\n",
        "from tensorflow.keras.layers import Dense, Flatten, Conv1D, Dropout, MaxPooling1D, Embedding, Bidirectional, LSTM, GlobalMaxPool1D, BatchNormalization\n",
        "from tensorflow.keras.callbacks import Callback\n",
        "from tensorflow.keras.callbacks import EarlyStopping\n",
        "from tensorflow.keras.optimizers import Adam\n",
        "from decimal import Decimal\n",
        "from sklearn.metrics import classification_report, accuracy_score\n",
        "from sklearn.metrics import confusion_matrix\n",
        "import matplotlib.pyplot as plt\n",
        "import warnings\n",
        "warnings.filterwarnings(\"ignore\")"
      ]
    },
    {
      "cell_type": "code",
      "execution_count": null,
      "metadata": {
        "id": "4l97cS3Bfe7H",
        "colab": {
          "base_uri": "https://localhost:8080/",
          "height": 434
        },
        "outputId": "fd1407ab-7c73-4722-cba3-6ff452b1e3fd"
      },
      "outputs": [
        {
          "output_type": "stream",
          "name": "stdout",
          "text": [
            "Drive already mounted at /content/drive; to attempt to forcibly remount, call drive.mount(\"/content/drive\", force_remount=True).\n",
            "Number of unique words:  123659\n"
          ]
        },
        {
          "output_type": "stream",
          "name": "stderr",
          "text": [
            "[nltk_data] Downloading package punkt to /root/nltk_data...\n",
            "[nltk_data]   Unzipping tokenizers/punkt.zip.\n"
          ]
        },
        {
          "output_type": "stream",
          "name": "stdout",
          "text": [
            "Number of news: 16646\n",
            "Median length of the news: 317\n"
          ]
        },
        {
          "output_type": "display_data",
          "data": {
            "text/plain": [
              "<Figure size 432x288 with 1 Axes>"
            ],
            "image/png": "[encoded data removed]"
          },
          "metadata": {
            "needs_background": "light"
          }
        },
        {
          "output_type": "stream",
          "name": "stdout",
          "text": [
            "Number of True News in the Training Set: 8323\n",
            "Number of Fake News in the Training Set: 8323\n"
          ]
        }
      ],
      "source": [
        "from data_preprocessing_fulldataset import unique_words, padded_train, padded_test, Y_train, Y_test, median, word_index"
      ]
    },
    {
      "cell_type": "markdown",
      "metadata": {
        "id": "tqjeEJm3AuMr"
      },
      "source": [
        "# Best Model"
      ]
    },
    {
      "cell_type": "markdown",
      "source": [
        "Pre-trained Word Embedding with GloVe"
      ],
      "metadata": {
        "id": "SF1xy0m1ibSw"
      }
    },
    {
      "cell_type": "code",
      "source": [
        "#load embeddings\n",
        "print('loading word embeddings...')\n",
        "embeddings_index = {}\n",
        "f = codecs.open('/content/drive/Shareddrives/ProgettoHLT/FakeNewsDetection/glove.42B.300d.txt', encoding='utf-8')\n",
        "for line in tqdm(f):\n",
        "    values = line.rstrip().rsplit(' ')\n",
        "    word = values[0]\n",
        "    coefs = np.asarray(values[1:], dtype='float32')\n",
        "    embeddings_index[word] = coefs\n",
        "f.close()\n",
        "print('found %s word vectors' % len(embeddings_index))"
      ],
      "metadata": {
        "colab": {
          "base_uri": "https://localhost:8080/"
        },
        "id": "kUrOf3P8pxoj",
        "outputId": "41a7f202-5605-4bdb-a54d-1a56f41c6745"
      },
      "execution_count": null,
      "outputs": [
        {
          "output_type": "stream",
          "name": "stdout",
          "text": [
            "loading word embeddings...\n"
          ]
        },
        {
          "output_type": "stream",
          "name": "stderr",
          "text": [
            "1917495it [03:04, 10420.85it/s]"
          ]
        },
        {
          "output_type": "stream",
          "name": "stdout",
          "text": [
            "found 1917495 word vectors\n"
          ]
        },
        {
          "output_type": "stream",
          "name": "stderr",
          "text": [
            "\n"
          ]
        }
      ]
    },
    {
      "cell_type": "code",
      "source": [
        "#embedding matrix\n",
        "print('preparing embedding matrix...')\n",
        "words_not_found = []\n",
        "nb_words = min(unique_words, len(word_index))+1\n",
        "embedding_matrix = np.zeros((nb_words, 300))\n",
        "for word, i in word_index.items():\n",
        "    if i >= nb_words:\n",
        "        continue\n",
        "    embedding_vector = embeddings_index.get(word)\n",
        "    if (embedding_vector is not None) and len(embedding_vector) > 0:\n",
        "        # words not found in embedding index will be all-zeros.\n",
        "        embedding_matrix[i] = embedding_vector\n",
        "    else:\n",
        "        words_not_found.append(word)\n",
        "print('number of null word embeddings: %d' % np.sum(np.sum(embedding_matrix, axis=1) == 0))"
      ],
      "metadata": {
        "colab": {
          "base_uri": "https://localhost:8080/"
        },
        "id": "U_pav0JqpyWz",
        "outputId": "942a7993-0c67-46af-86b6-0078ae418b20"
      },
      "execution_count": null,
      "outputs": [
        {
          "output_type": "stream",
          "name": "stdout",
          "text": [
            "preparing embedding matrix...\n",
            "number of null word embeddings: 29840\n"
          ]
        }
      ]
    },
    {
      "cell_type": "code",
      "execution_count": null,
      "metadata": {
        "id": "Z0d7qNMLUCc3"
      },
      "outputs": [],
      "source": [
        "best_model= Sequential()\n",
        "\n",
        "best_model.add(Embedding(nb_words, output_dim = 300, input_length=median, weights=[embedding_matrix]))\n",
        "\n",
        "best_model.add(Conv1D(filters=64, kernel_size=3, activation=\"relu\"))\n",
        "best_model.add(MaxPooling1D(2))\n",
        "best_model.add(Dropout(0.3))\n",
        "\n",
        "best_model.add(Conv1D(filters=64, kernel_size=3, activation = \"relu\"))    \n",
        "best_model.add(MaxPooling1D(2))\n",
        "best_model.add(Dropout(0.3)) \n",
        "\n",
        "best_model.add(Conv1D(filters=64, kernel_size=3, activation = \"relu\"))    \n",
        "best_model.add(MaxPooling1D(2))\n",
        "best_model.add(Dropout(0.3)) \n",
        "                                  \n",
        "best_model.add(Bidirectional(LSTM(64, return_sequences=True)))\n",
        "best_model.add(GlobalMaxPool1D())\n",
        "best_model.add(Dropout(0.3))\n",
        "\n",
        "best_model.add(Dense(128, activation=\"relu\"))\n",
        "best_model.add(Dense(1, activation=\"sigmoid\"))\n",
        "\n",
        "best_model.compile(optimizer=Adam(lr=0.001, clipnorm=1), loss=\"binary_crossentropy\", metrics=['accuracy'])"
      ]
    },
    {
      "cell_type": "code",
      "source": [
        "best_model.summary()"
      ],
      "metadata": {
        "colab": {
          "base_uri": "https://localhost:8080/"
        },
        "id": "YOAwz3tTRNUZ",
        "outputId": "e4c4b60b-b07b-4b15-80e3-cb3016fa6b94"
      },
      "execution_count": null,
      "outputs": [
        {
          "output_type": "stream",
          "name": "stdout",
          "text": [
            "Model: \"sequential\"\n",
            "_________________________________________________________________\n",
            " Layer (type)                Output Shape              Param #   \n",
            "=================================================================\n",
            " embedding (Embedding)       (None, 317, 300)          35958600  \n",
            "                                                                 \n",
            " conv1d (Conv1D)             (None, 315, 64)           57664     \n",
            "                                                                 \n",
            " max_pooling1d (MaxPooling1D  (None, 157, 64)          0         \n",
            " )                                                               \n",
            "                                                                 \n",
            " dropout (Dropout)           (None, 157, 64)           0         \n",
            "                                                                 \n",
            " conv1d_1 (Conv1D)           (None, 155, 64)           12352     \n",
            "                                                                 \n",
            " max_pooling1d_1 (MaxPooling  (None, 77, 64)           0         \n",
            " 1D)                                                             \n",
            "                                                                 \n",
            " dropout_1 (Dropout)         (None, 77, 64)            0         \n",
            "                                                                 \n",
            " conv1d_2 (Conv1D)           (None, 75, 64)            12352     \n",
            "                                                                 \n",
            " max_pooling1d_2 (MaxPooling  (None, 37, 64)           0         \n",
            " 1D)                                                             \n",
            "                                                                 \n",
            " dropout_2 (Dropout)         (None, 37, 64)            0         \n",
            "                                                                 \n",
            " bidirectional (Bidirectiona  (None, 37, 128)          66048     \n",
            " l)                                                              \n",
            "                                                                 \n",
            " global_max_pooling1d (Globa  (None, 128)              0         \n",
            " lMaxPooling1D)                                                  \n",
            "                                                                 \n",
            " dropout_3 (Dropout)         (None, 128)               0         \n",
            "                                                                 \n",
            " dense (Dense)               (None, 128)               16512     \n",
            "                                                                 \n",
            " dense_1 (Dense)             (None, 1)                 129       \n",
            "                                                                 \n",
            "=================================================================\n",
            "Total params: 36,123,657\n",
            "Trainable params: 36,123,657\n",
            "Non-trainable params: 0\n",
            "_________________________________________________________________\n"
          ]
        }
      ]
    },
    {
      "cell_type": "markdown",
      "metadata": {
        "id": "au6R09KDTFsm"
      },
      "source": [
        "# Best Model Retraining on full dataset"
      ]
    },
    {
      "cell_type": "code",
      "source": [
        "# Train loss achieved with Model Selection\n",
        "train_thold = 0.0117"
      ],
      "metadata": {
        "id": "Kfs5OBKDDYQo"
      },
      "execution_count": null,
      "outputs": []
    },
    {
      "cell_type": "code",
      "source": [
        "# Stopping criterion (Retrain until the loss is above the threshold)\n",
        "\n",
        "class SOMT(Callback):\n",
        "\n",
        "    def __init__(self, model,  train_thold):\n",
        "        super(SOMT, self).__init__()\n",
        "        self.model=model        \n",
        "        self.train_thold=train_thold\n",
        "        \n",
        "    def on_epoch_end(self,epoch, logs={}): \n",
        "        tr_loss=logs.get('loss')\n",
        "        if tr_loss <= self.train_thold:\n",
        "            self.model.stop_training = True # stop training\n",
        "            print( f'\\nTraining stopped because loss reached the threshold')"
      ],
      "metadata": {
        "id": "6W9EKcb5s_0j"
      },
      "execution_count": null,
      "outputs": []
    },
    {
      "cell_type": "code",
      "source": [
        "Y_train = np.asarray(Y_train)"
      ],
      "metadata": {
        "id": "-XNXFVLnNfTf"
      },
      "execution_count": null,
      "outputs": []
    },
    {
      "cell_type": "code",
      "execution_count": null,
      "metadata": {
        "colab": {
          "base_uri": "https://localhost:8080/"
        },
        "id": "9v_X2-T-ZeNh",
        "outputId": "1a848d57-ad56-490c-c5f5-d313f6c3701e"
      },
      "outputs": [
        {
          "output_type": "stream",
          "name": "stdout",
          "text": [
            "Epoch 1/30\n",
            "1041/1041 [==============================] - 52s 32ms/step - loss: 0.1770 - accuracy: 0.9193\n",
            "Epoch 2/30\n",
            "1041/1041 [==============================] - 32s 31ms/step - loss: 0.0404 - accuracy: 0.9871\n",
            "Epoch 3/30\n",
            "1041/1041 [==============================] - 32s 31ms/step - loss: 0.0159 - accuracy: 0.9948\n",
            "Epoch 4/30\n",
            "1041/1041 [==============================] - ETA: 0s - loss: 0.0087 - accuracy: 0.9981\n",
            "Training stopped because loss reached the threshold\n",
            "1041/1041 [==============================] - 32s 31ms/step - loss: 0.0087 - accuracy: 0.9981\n"
          ]
        }
      ],
      "source": [
        "# Retraining Best Model\n",
        "es = EarlyStopping(monitor='loss', patience=30, restore_best_weights=True)\n",
        "history = best_model.fit(padded_train, Y_train, batch_size=16, epochs=30, callbacks=[SOMT(best_model, train_thold),es])"
      ]
    },
    {
      "cell_type": "code",
      "source": [
        "best_ep = np.argmin(history.history[\"loss\"][:-1])+1"
      ],
      "metadata": {
        "id": "0hF8N4IsnJHB"
      },
      "execution_count": null,
      "outputs": []
    },
    {
      "cell_type": "code",
      "execution_count": null,
      "metadata": {
        "colab": {
          "base_uri": "https://localhost:8080/",
          "height": 300
        },
        "outputId": "6220c80b-e2e0-4db9-88f5-4afff66a1bb3",
        "id": "SQOAYcP7s2Vo"
      },
      "outputs": [
        {
          "output_type": "execute_result",
          "data": {
            "text/plain": [
              "<matplotlib.legend.Legend at 0x7fe3dbffad10>"
            ]
          },
          "metadata": {},
          "execution_count": 14
        },
        {
          "output_type": "display_data",
          "data": {
            "text/plain": [
              "<Figure size 432x288 with 1 Axes>"
            ],
            "image/png": "[encoded data removed]"
          },
          "metadata": {
            "needs_background": "light"
          }
        }
      ],
      "source": [
        "#Accuracy plot\n",
        "plt.plot(history.history[\"accuracy\"][0:best_ep], label='accuracy')       \n",
        "plt.xlabel('Epochs')\n",
        "plt.ylabel('Accuracy')\n",
        "plt.ylim([0.5,1])\n",
        "plt.xticks(np.arange(len(history.history[\"accuracy\"][0:best_ep])), np.arange(1, len(history.history[\"accuracy\"][0:best_ep])+1))\n",
        "plt.legend(loc = 'lower right')"
      ]
    },
    {
      "cell_type": "code",
      "execution_count": null,
      "metadata": {
        "colab": {
          "base_uri": "https://localhost:8080/",
          "height": 300
        },
        "outputId": "3af22115-c09a-4254-8c7c-c7369b3cab34",
        "id": "G8X9jRi2s2Vr"
      },
      "outputs": [
        {
          "output_type": "execute_result",
          "data": {
            "text/plain": [
              "<matplotlib.legend.Legend at 0x7fe3dbfb0390>"
            ]
          },
          "metadata": {},
          "execution_count": 15
        },
        {
          "output_type": "display_data",
          "data": {
            "text/plain": [
              "<Figure size 432x288 with 1 Axes>"
            ],
            "image/png": "[encoded data removed]"
          },
          "metadata": {
            "needs_background": "light"
          }
        }
      ],
      "source": [
        "#Loss plot\n",
        "plt.plot(history.history[\"loss\"][0:best_ep], label='loss')       \n",
        "plt.xlabel('Epochs')\n",
        "plt.ylabel('Loss')\n",
        "plt.ylim([0,0.5])\n",
        "plt.xticks(np.arange(len(history.history[\"loss\"][0:best_ep])), np.arange(1, len(history.history[\"loss\"][0:best_ep])+1))\n",
        "plt.legend(loc = 'upper right')"
      ]
    },
    {
      "cell_type": "markdown",
      "metadata": {
        "id": "RXa2MqEQQ2ww"
      },
      "source": [
        "# Best Model Performance on Test Set\n"
      ]
    },
    {
      "cell_type": "markdown",
      "metadata": {
        "id": "SmrxIJ-i0S84"
      },
      "source": [
        "## Classification Threshold 0.50"
      ]
    },
    {
      "cell_type": "code",
      "execution_count": null,
      "metadata": {
        "id": "xStw-VQHtEzA"
      },
      "outputs": [],
      "source": [
        "pred = (best_model.predict(padded_test) > 0.5)"
      ]
    },
    {
      "cell_type": "code",
      "execution_count": null,
      "metadata": {
        "colab": {
          "base_uri": "https://localhost:8080/"
        },
        "id": "X4Du8kVKtF9G",
        "outputId": "50e9d480-09e0-4bcb-8ab9-f0a752a9d53a"
      },
      "outputs": [
        {
          "output_type": "stream",
          "name": "stdout",
          "text": [
            "              precision    recall  f1-score   support\n",
            "\n",
            "           0     0.9755    0.9874    0.9814      1979\n",
            "           1     0.9877    0.9762    0.9819      2056\n",
            "\n",
            "    accuracy                         0.9817      4035\n",
            "   macro avg     0.9816    0.9818    0.9817      4035\n",
            "weighted avg     0.9817    0.9817    0.9817      4035\n",
            "\n"
          ]
        }
      ],
      "source": [
        "# Getting the Classification Report\n",
        "print(classification_report(list(Y_test), pred, digits=4))"
      ]
    },
    {
      "cell_type": "code",
      "execution_count": null,
      "metadata": {
        "colab": {
          "base_uri": "https://localhost:8080/"
        },
        "id": "TfuCww40voXa",
        "outputId": "132082a3-642c-4c5e-da3f-8e6b18befa64"
      },
      "outputs": [
        {
          "output_type": "stream",
          "name": "stdout",
          "text": [
            "Test Accuracy :  98.17 %\n"
          ]
        }
      ],
      "source": [
        "# Getting the Test Accuracy\n",
        "accuracy = accuracy_score(list(Y_test), pred)\n",
        "print(\"Test Accuracy : \", round(Decimal(accuracy*100),2),\"%\")"
      ]
    },
    {
      "cell_type": "code",
      "execution_count": null,
      "metadata": {
        "colab": {
          "base_uri": "https://localhost:8080/",
          "height": 300
        },
        "id": "4n2SFg45ww1f",
        "outputId": "f6adcb75-5f2e-4489-fb13-c7b5ce0c8525"
      },
      "outputs": [
        {
          "output_type": "display_data",
          "data": {
            "text/plain": [
              "<Figure size 432x288 with 2 Axes>"
            ],
            "image/png": "[encoded data removed]"
          },
          "metadata": {
            "needs_background": "light"
          }
        },
        {
          "output_type": "display_data",
          "data": {
            "text/plain": [
              "<Figure size 720x720 with 0 Axes>"
            ]
          },
          "metadata": {}
        }
      ],
      "source": [
        "# Getting The Confusion Matrix\n",
        "cm = confusion_matrix(list(Y_test), pred)\n",
        "sns.heatmap(cm, annot = True)\n",
        "plt.ylabel('Test label')\n",
        "plt.xlabel('Predicted label')\n",
        "plt.figure(figsize = (10, 10))\n",
        "plt.show()"
      ]
    },
    {
      "cell_type": "markdown",
      "source": [
        "# Best Model Performance on Test Set with different Classification Thresholds"
      ],
      "metadata": {
        "id": "v8YlYWVBSKxH"
      }
    },
    {
      "cell_type": "markdown",
      "metadata": {
        "id": "SpC-jcMQ0aDQ"
      },
      "source": [
        "## Classification Threshold 0.80"
      ]
    },
    {
      "cell_type": "code",
      "execution_count": null,
      "metadata": {
        "id": "9lZyJcySvpnC"
      },
      "outputs": [],
      "source": [
        "pred = (best_model.predict(padded_test) > 0.8)"
      ]
    },
    {
      "cell_type": "code",
      "execution_count": null,
      "metadata": {
        "colab": {
          "base_uri": "https://localhost:8080/"
        },
        "id": "VOPJcDXLvpnE",
        "outputId": "8aaabb26-700a-4715-82c0-7878bfe3e134"
      },
      "outputs": [
        {
          "output_type": "stream",
          "name": "stdout",
          "text": [
            "              precision    recall  f1-score   support\n",
            "\n",
            "           0     0.9717    0.9894    0.9805      1979\n",
            "           1     0.9896    0.9723    0.9809      2056\n",
            "\n",
            "    accuracy                         0.9807      4035\n",
            "   macro avg     0.9807    0.9808    0.9807      4035\n",
            "weighted avg     0.9808    0.9807    0.9807      4035\n",
            "\n"
          ]
        }
      ],
      "source": [
        "# Getting the Classification Report\n",
        "print(classification_report(list(Y_test), pred, digits=4))"
      ]
    },
    {
      "cell_type": "code",
      "execution_count": null,
      "metadata": {
        "colab": {
          "base_uri": "https://localhost:8080/"
        },
        "id": "WjUcHez4voeu",
        "outputId": "6bb87e71-a6ac-4ccd-ab38-f131432f7e5f"
      },
      "outputs": [
        {
          "output_type": "stream",
          "name": "stdout",
          "text": [
            "Test Accuracy :  98.07 %\n"
          ]
        }
      ],
      "source": [
        "# Getting the Test Accuracy\n",
        "accuracy = accuracy_score(list(Y_test), pred)\n",
        "print(\"Test Accuracy : \", round(Decimal(accuracy*100),2),\"%\")"
      ]
    },
    {
      "cell_type": "code",
      "execution_count": null,
      "metadata": {
        "colab": {
          "base_uri": "https://localhost:8080/",
          "height": 159
        },
        "id": "xEwdHhyFvoid",
        "outputId": "f0e51a10-a2ff-4b0c-d657-02b713e25209"
      },
      "outputs": [
        {
          "output_type": "display_data",
          "data": {
            "text/plain": [
              "<Figure size 432x288 with 2 Axes>"
            ],
            "image/png": "[encoded data removed]"
          },
          "metadata": {
            "needs_background": "light"
          }
        },
        {
          "output_type": "display_data",
          "data": {
            "text/plain": [
              "<Figure size 720x720 with 0 Axes>"
            ]
          },
          "metadata": {}
        }
      ],
      "source": [
        "# Getting the Confusion Matrix\n",
        "cm = confusion_matrix(list(Y_test), pred)\n",
        "sns.heatmap(cm, annot = True)\n",
        "plt.ylabel('Test label')\n",
        "plt.xlabel('Predicted label')\n",
        "plt.figure(figsize = (10, 10))\n",
        "plt.show()"
      ]
    },
    {
      "cell_type": "markdown",
      "metadata": {
        "id": "InGebANf0eC0"
      },
      "source": [
        "## Classification Threshold 0.90"
      ]
    },
    {
      "cell_type": "code",
      "execution_count": null,
      "metadata": {
        "id": "CPyMQesi0lzV"
      },
      "outputs": [],
      "source": [
        "pred = (best_model.predict(padded_test) > 0.9)"
      ]
    },
    {
      "cell_type": "code",
      "execution_count": null,
      "metadata": {
        "colab": {
          "base_uri": "https://localhost:8080/"
        },
        "id": "aHF1aC680lzX",
        "outputId": "514a37df-069d-4128-b042-a88c073ac00e"
      },
      "outputs": [
        {
          "output_type": "stream",
          "name": "stdout",
          "text": [
            "              precision    recall  f1-score   support\n",
            "\n",
            "           0     0.9699    0.9924    0.9810      1979\n",
            "           1     0.9925    0.9703    0.9813      2056\n",
            "\n",
            "    accuracy                         0.9812      4035\n",
            "   macro avg     0.9812    0.9814    0.9812      4035\n",
            "weighted avg     0.9814    0.9812    0.9812      4035\n",
            "\n"
          ]
        }
      ],
      "source": [
        "# Getting the Classification Report\n",
        "print(classification_report(list(Y_test), pred, digits=4))"
      ]
    },
    {
      "cell_type": "code",
      "execution_count": null,
      "metadata": {
        "colab": {
          "base_uri": "https://localhost:8080/"
        },
        "id": "2f0jJ1Lo0lzY",
        "outputId": "a180991d-e597-41c4-86c3-53066af20e42"
      },
      "outputs": [
        {
          "output_type": "stream",
          "name": "stdout",
          "text": [
            "Test Accuracy :  98.12 %\n"
          ]
        }
      ],
      "source": [
        "# Getting the Test Accuracy\n",
        "accuracy = accuracy_score(list(Y_test), pred)\n",
        "print(\"Test Accuracy : \", round(Decimal(accuracy*100),2),\"%\")"
      ]
    },
    {
      "cell_type": "code",
      "execution_count": null,
      "metadata": {
        "colab": {
          "base_uri": "https://localhost:8080/",
          "height": 159
        },
        "id": "jZvu6Gvw0lzb",
        "outputId": "67b21464-054e-407e-a182-e31fd92e85a0"
      },
      "outputs": [
        {
          "output_type": "display_data",
          "data": {
            "text/plain": [
              "<Figure size 432x288 with 2 Axes>"
            ],
            "image/png": "[encoded data removed]"
          },
          "metadata": {
            "needs_background": "light"
          }
        },
        {
          "output_type": "display_data",
          "data": {
            "text/plain": [
              "<Figure size 720x720 with 0 Axes>"
            ]
          },
          "metadata": {}
        }
      ],
      "source": [
        "# Getting the Confusion Matrix\n",
        "cm = confusion_matrix(list(Y_test), pred)\n",
        "sns.heatmap(cm, annot = True)\n",
        "plt.ylabel('Test label')\n",
        "plt.xlabel('Predicted label')\n",
        "plt.figure(figsize = (10, 10))\n",
        "plt.show()"
      ]
    },
    {
      "cell_type": "markdown",
      "metadata": {
        "id": "384QCMNP0rh9"
      },
      "source": [
        "## Classification Threshold 0.95"
      ]
    },
    {
      "cell_type": "code",
      "execution_count": null,
      "metadata": {
        "id": "HaXD9jVf0t0P"
      },
      "outputs": [],
      "source": [
        "pred = (best_model.predict(padded_test) > 0.95)"
      ]
    },
    {
      "cell_type": "code",
      "execution_count": null,
      "metadata": {
        "colab": {
          "base_uri": "https://localhost:8080/"
        },
        "id": "QGC6kS620t0U",
        "outputId": "02891fc6-5e9d-416c-cfa6-6c9647e64784"
      },
      "outputs": [
        {
          "output_type": "stream",
          "name": "stdout",
          "text": [
            "              precision    recall  f1-score   support\n",
            "\n",
            "           0     0.9671    0.9944    0.9806      1979\n",
            "           1     0.9945    0.9674    0.9808      2056\n",
            "\n",
            "    accuracy                         0.9807      4035\n",
            "   macro avg     0.9808    0.9809    0.9807      4035\n",
            "weighted avg     0.9810    0.9807    0.9807      4035\n",
            "\n"
          ]
        }
      ],
      "source": [
        "# Getting the Classification Report\n",
        "print(classification_report(list(Y_test), pred, digits=4))"
      ]
    },
    {
      "cell_type": "code",
      "execution_count": null,
      "metadata": {
        "colab": {
          "base_uri": "https://localhost:8080/"
        },
        "id": "J_WkQ3KC0t0a",
        "outputId": "9c0ab543-2ddd-440a-dad8-ff3d3cb17d22"
      },
      "outputs": [
        {
          "output_type": "stream",
          "name": "stdout",
          "text": [
            "Test Accuracy :  98.07 %\n"
          ]
        }
      ],
      "source": [
        "# Getting the Test Accuracy\n",
        "accuracy = accuracy_score(list(Y_test), pred)\n",
        "print(\"Test Accuracy : \", round(Decimal(accuracy*100),2),\"%\")"
      ]
    },
    {
      "cell_type": "code",
      "execution_count": null,
      "metadata": {
        "id": "gXjMcuHb0t0e",
        "colab": {
          "base_uri": "https://localhost:8080/",
          "height": 159
        },
        "outputId": "90cb489a-c37c-4d34-b90d-e3f18ac1858e"
      },
      "outputs": [
        {
          "output_type": "display_data",
          "data": {
            "text/plain": [
              "<Figure size 432x288 with 2 Axes>"
            ],
            "image/png": "[encoded data removed]"
          },
          "metadata": {
            "needs_background": "light"
          }
        },
        {
          "output_type": "display_data",
          "data": {
            "text/plain": [
              "<Figure size 720x720 with 0 Axes>"
            ]
          },
          "metadata": {}
        }
      ],
      "source": [
        "# Getting the Confusion Matrix\n",
        "cm = confusion_matrix(list(Y_test), pred)\n",
        "sns.heatmap(cm, annot = True)\n",
        "plt.ylabel('Test label')\n",
        "plt.xlabel('Predicted label')\n",
        "plt.figure(figsize = (10, 10))\n",
        "plt.show()"
      ]
    },
    {
      "cell_type": "markdown",
      "metadata": {
        "id": "hOb09ZI72ze-"
      },
      "source": [
        "## Classification Threshold 0.99"
      ]
    },
    {
      "cell_type": "code",
      "execution_count": null,
      "metadata": {
        "id": "Ihb-AvAR2zfB"
      },
      "outputs": [],
      "source": [
        "pred = (best_model.predict(padded_test) > 0.99)"
      ]
    },
    {
      "cell_type": "code",
      "execution_count": null,
      "metadata": {
        "colab": {
          "base_uri": "https://localhost:8080/"
        },
        "id": "tQbt_3lr2zfC",
        "outputId": "9ee8e280-5621-41ff-ebfa-549b817be949"
      },
      "outputs": [
        {
          "output_type": "stream",
          "name": "stdout",
          "text": [
            "              precision    recall  f1-score   support\n",
            "\n",
            "           0     0.9577    0.9960    0.9765      1979\n",
            "           1     0.9960    0.9577    0.9764      2056\n",
            "\n",
            "    accuracy                         0.9765      4035\n",
            "   macro avg     0.9768    0.9768    0.9765      4035\n",
            "weighted avg     0.9772    0.9765    0.9765      4035\n",
            "\n"
          ]
        }
      ],
      "source": [
        "# Getting the Classification Report\n",
        "print(classification_report(list(Y_test), pred, digits=4))"
      ]
    },
    {
      "cell_type": "code",
      "execution_count": null,
      "metadata": {
        "id": "EpEI88NY2zfE",
        "colab": {
          "base_uri": "https://localhost:8080/"
        },
        "outputId": "78e3ce05-3116-40f0-c2c3-d7be6d634375"
      },
      "outputs": [
        {
          "output_type": "stream",
          "name": "stdout",
          "text": [
            "Test Accuracy :  97.65 %\n"
          ]
        }
      ],
      "source": [
        "# Getting the Test Accuracy\n",
        "accuracy = accuracy_score(list(Y_test), pred)\n",
        "print(\"Test Accuracy : \", round(Decimal(accuracy*100),2),\"%\")"
      ]
    },
    {
      "cell_type": "code",
      "execution_count": null,
      "metadata": {
        "id": "n-5lbxzn2zfH",
        "colab": {
          "base_uri": "https://localhost:8080/",
          "height": 159
        },
        "outputId": "cd7ec6a0-d1a4-45ad-a036-9e1e5c4b5e6a"
      },
      "outputs": [
        {
          "output_type": "display_data",
          "data": {
            "text/plain": [
              "<Figure size 432x288 with 2 Axes>"
            ],
            "image/png": "[encoded data removed]"
          },
          "metadata": {
            "needs_background": "light"
          }
        },
        {
          "output_type": "display_data",
          "data": {
            "text/plain": [
              "<Figure size 720x720 with 0 Axes>"
            ]
          },
          "metadata": {}
        }
      ],
      "source": [
        "# Getting the Confusion Matrix\n",
        "cm = confusion_matrix(list(Y_test), pred)\n",
        "sns.heatmap(cm, annot = True)\n",
        "plt.ylabel('Test label')\n",
        "plt.xlabel('Predicted label')\n",
        "plt.figure(figsize = (10, 10))\n",
        "plt.show()"
      ]
    }
  ],
  "metadata": {
    "colab": {
      "collapsed_sections": [
        "SpC-jcMQ0aDQ",
        "384QCMNP0rh9",
        "hOb09ZI72ze-"
      ],
      "provenance": []
    },
    "kernelspec": {
      "display_name": "Python 3",
      "name": "python3"
    },
    "language_info": {
      "name": "python"
    },
    "gpuClass": "standard",
    "accelerator": "GPU"
  },
  "nbformat": 4,
  "nbformat_minor": 0
}