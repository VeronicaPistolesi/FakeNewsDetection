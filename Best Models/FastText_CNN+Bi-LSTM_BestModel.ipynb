{
  "cells": [
    {
      "cell_type": "code",
      "execution_count": null,
      "metadata": {
        "colab": {
          "base_uri": "https://localhost:8080/"
        },
        "id": "q7feVVqlc_Hr",
        "outputId": "1ed97940-592b-42fe-d517-f6fe588d9961"
      },
      "outputs": [
        {
          "output_type": "stream",
          "name": "stdout",
          "text": [
            "Drive already mounted at /content/drive; to attempt to forcibly remount, call drive.mount(\"/content/drive\", force_remount=True).\n"
          ]
        }
      ],
      "source": [
        "from google.colab import drive\n",
        "drive.mount('/content/drive')"
      ]
    },
    {
      "cell_type": "markdown",
      "source": [
        "# Libraries"
      ],
      "metadata": {
        "id": "oH1LiSCVO533"
      }
    },
    {
      "cell_type": "code",
      "execution_count": null,
      "metadata": {
        "id": "LuB6ODLFdNzP"
      },
      "outputs": [],
      "source": [
        "# Insert the directory\n",
        "import sys\n",
        "sys.path.insert(0,'/content/drive/Shareddrives/ProgettoHLT/FakeNewsDetection')"
      ]
    },
    {
      "cell_type": "code",
      "execution_count": null,
      "metadata": {
        "id": "-S-pI5KWhZw9"
      },
      "outputs": [],
      "source": [
        "import numpy as np\n",
        "import seaborn as sns\n",
        "import codecs\n",
        "from tqdm import tqdm\n",
        "from keras.models import load_model\n",
        "from tensorflow.keras.models import Sequential, Model\n",
        "from tensorflow.keras.layers import Dense, Flatten, Conv1D, Dropout, MaxPooling1D, Embedding, Bidirectional, LSTM, GlobalMaxPool1D, BatchNormalization\n",
        "from tensorflow.keras.callbacks import Callback\n",
        "from tensorflow.keras.callbacks import EarlyStopping\n",
        "from tensorflow.keras.optimizers import Adam\n",
        "from decimal import Decimal\n",
        "from sklearn.metrics import classification_report, accuracy_score\n",
        "from sklearn.metrics import confusion_matrix\n",
        "import matplotlib.pyplot as plt\n",
        "import warnings\n",
        "warnings.filterwarnings(\"ignore\")"
      ]
    },
    {
      "cell_type": "code",
      "execution_count": null,
      "metadata": {
        "id": "4l97cS3Bfe7H",
        "colab": {
          "base_uri": "https://localhost:8080/",
          "height": 434
        },
        "outputId": "f83a2c1f-e973-4f29-9fa9-b06accd4e3bb"
      },
      "outputs": [
        {
          "output_type": "stream",
          "name": "stdout",
          "text": [
            "Drive already mounted at /content/drive; to attempt to forcibly remount, call drive.mount(\"/content/drive\", force_remount=True).\n",
            "Number of unique words:  123659\n"
          ]
        },
        {
          "output_type": "stream",
          "name": "stderr",
          "text": [
            "[nltk_data] Downloading package punkt to /root/nltk_data...\n",
            "[nltk_data]   Package punkt is already up-to-date!\n"
          ]
        },
        {
          "output_type": "stream",
          "name": "stdout",
          "text": [
            "Number of news: 16646\n",
            "Median length of the news: 317\n"
          ]
        },
        {
          "output_type": "display_data",
          "data": {
            "text/plain": [
              "<Figure size 432x288 with 1 Axes>"
            ],
            "image/png": "[encoded data removed]"
          },
          "metadata": {
            "needs_background": "light"
          }
        },
        {
          "output_type": "stream",
          "name": "stdout",
          "text": [
            "Number of True News in the Training Set: 8323\n",
            "Number of Fake News in the Training Set: 8323\n"
          ]
        }
      ],
      "source": [
        "from data_preprocessing_fulldataset import unique_words, padded_train, padded_test, Y_train, Y_test, median, word_index"
      ]
    },
    {
      "cell_type": "markdown",
      "metadata": {
        "id": "tqjeEJm3AuMr"
      },
      "source": [
        "# Best Model"
      ]
    },
    {
      "cell_type": "markdown",
      "source": [
        "Pre-trained Word Embedding with FastText"
      ],
      "metadata": {
        "id": "SF1xy0m1ibSw"
      }
    },
    {
      "cell_type": "code",
      "source": [
        "#load embeddings\n",
        "print('loading word embeddings...')\n",
        "embeddings_index = {}\n",
        "f = codecs.open('/content/drive/Shareddrives/ProgettoHLT/FakeNewsDetection/wiki-news-300d-1M.vec', encoding='utf-8')\n",
        "for line in tqdm(f):\n",
        "    values = line.rstrip().rsplit(' ')\n",
        "    word = values[0]\n",
        "    coefs = np.asarray(values[1:], dtype='float32')\n",
        "    embeddings_index[word] = coefs\n",
        "f.close()\n",
        "print('found %s word vectors' % len(embeddings_index))"
      ],
      "metadata": {
        "id": "8J5Cn__4ii1k",
        "colab": {
          "base_uri": "https://localhost:8080/"
        },
        "outputId": "2b0e5df8-5671-4a9f-ca93-2b006bb5ff66"
      },
      "execution_count": null,
      "outputs": [
        {
          "output_type": "stream",
          "name": "stdout",
          "text": [
            "loading word embeddings...\n"
          ]
        },
        {
          "output_type": "stream",
          "name": "stderr",
          "text": [
            "999995it [01:09, 14312.39it/s]"
          ]
        },
        {
          "output_type": "stream",
          "name": "stdout",
          "text": [
            "found 999995 word vectors\n"
          ]
        },
        {
          "output_type": "stream",
          "name": "stderr",
          "text": [
            "\n"
          ]
        }
      ]
    },
    {
      "cell_type": "code",
      "source": [
        "#embedding matrix\n",
        "print('preparing embedding matrix...')\n",
        "words_not_found = []\n",
        "nb_words = min(unique_words, len(word_index))+1\n",
        "embedding_matrix = np.zeros((nb_words, 300))\n",
        "for word, i in word_index.items():\n",
        "    if i >= nb_words:\n",
        "        continue\n",
        "    embedding_vector = embeddings_index.get(word)\n",
        "    if (embedding_vector is not None) and len(embedding_vector) > 0:\n",
        "        # words not found in embedding index will be all-zeros.\n",
        "        embedding_matrix[i] = embedding_vector\n",
        "    else:\n",
        "        words_not_found.append(word)\n",
        "print('number of null word embeddings: %d' % np.sum(np.sum(embedding_matrix, axis=1) == 0))"
      ],
      "metadata": {
        "id": "0Mm4BwYOioDk",
        "colab": {
          "base_uri": "https://localhost:8080/"
        },
        "outputId": "5a9771a8-6bd5-40ec-eb44-2f7809544faf"
      },
      "execution_count": null,
      "outputs": [
        {
          "output_type": "stream",
          "name": "stdout",
          "text": [
            "preparing embedding matrix...\n",
            "number of null word embeddings: 59785\n"
          ]
        }
      ]
    },
    {
      "cell_type": "code",
      "execution_count": null,
      "metadata": {
        "id": "Z0d7qNMLUCc3"
      },
      "outputs": [],
      "source": [
        "best_model= Sequential()\n",
        "\n",
        "best_model.add(Embedding(nb_words, output_dim = 300, input_length=median, weights=[embedding_matrix]))\n",
        "\n",
        "best_model.add(Conv1D(filters=128, kernel_size=3, activation=\"relu\"))\n",
        "best_model.add(MaxPooling1D(2))\n",
        "best_model.add(Dropout(0.1))\n",
        "\n",
        "best_model.add(Conv1D(filters=128, kernel_size=3, activation = \"relu\"))    \n",
        "best_model.add(MaxPooling1D(2))\n",
        "best_model.add(Dropout(0.1)) \n",
        "\n",
        "best_model.add(Conv1D(filters=128, kernel_size=3, activation = \"relu\"))    \n",
        "best_model.add(MaxPooling1D(2))\n",
        "best_model.add(Dropout(0.1)) \n",
        "                                  \n",
        "best_model.add(Bidirectional(LSTM(64, return_sequences=True)))\n",
        "best_model.add(GlobalMaxPool1D())\n",
        "best_model.add(Dropout(0.1))\n",
        "\n",
        "best_model.add(Dense(64, activation=\"relu\"))\n",
        "best_model.add(Dense(1, activation=\"sigmoid\"))\n",
        "\n",
        "best_model.compile(optimizer=Adam(lr=0.001, clipnorm=5), loss=\"binary_crossentropy\", metrics=['accuracy'])"
      ]
    },
    {
      "cell_type": "code",
      "source": [
        "best_model.summary()"
      ],
      "metadata": {
        "colab": {
          "base_uri": "https://localhost:8080/"
        },
        "id": "YOAwz3tTRNUZ",
        "outputId": "2e24d262-362a-4f7c-fa3f-947fb387a63b"
      },
      "execution_count": null,
      "outputs": [
        {
          "output_type": "stream",
          "name": "stdout",
          "text": [
            "Model: \"sequential\"\n",
            "_________________________________________________________________\n",
            " Layer (type)                Output Shape              Param #   \n",
            "=================================================================\n",
            " embedding (Embedding)       (None, 317, 300)          35958600  \n",
            "                                                                 \n",
            " conv1d (Conv1D)             (None, 315, 128)          115328    \n",
            "                                                                 \n",
            " max_pooling1d (MaxPooling1D  (None, 157, 128)         0         \n",
            " )                                                               \n",
            "                                                                 \n",
            " dropout (Dropout)           (None, 157, 128)          0         \n",
            "                                                                 \n",
            " conv1d_1 (Conv1D)           (None, 155, 128)          49280     \n",
            "                                                                 \n",
            " max_pooling1d_1 (MaxPooling  (None, 77, 128)          0         \n",
            " 1D)                                                             \n",
            "                                                                 \n",
            " dropout_1 (Dropout)         (None, 77, 128)           0         \n",
            "                                                                 \n",
            " conv1d_2 (Conv1D)           (None, 75, 128)           49280     \n",
            "                                                                 \n",
            " max_pooling1d_2 (MaxPooling  (None, 37, 128)          0         \n",
            " 1D)                                                             \n",
            "                                                                 \n",
            " dropout_2 (Dropout)         (None, 37, 128)           0         \n",
            "                                                                 \n",
            " bidirectional (Bidirectiona  (None, 37, 128)          98816     \n",
            " l)                                                              \n",
            "                                                                 \n",
            " global_max_pooling1d (Globa  (None, 128)              0         \n",
            " lMaxPooling1D)                                                  \n",
            "                                                                 \n",
            " dropout_3 (Dropout)         (None, 128)               0         \n",
            "                                                                 \n",
            " dense (Dense)               (None, 64)                8256      \n",
            "                                                                 \n",
            " dense_1 (Dense)             (None, 1)                 65        \n",
            "                                                                 \n",
            "=================================================================\n",
            "Total params: 36,279,625\n",
            "Trainable params: 36,279,625\n",
            "Non-trainable params: 0\n",
            "_________________________________________________________________\n"
          ]
        }
      ]
    },
    {
      "cell_type": "markdown",
      "metadata": {
        "id": "au6R09KDTFsm"
      },
      "source": [
        "# Best Model Retraining on full dataset"
      ]
    },
    {
      "cell_type": "code",
      "source": [
        "# Train loss achieved with Model Selection\n",
        "train_thold = 0.0015"
      ],
      "metadata": {
        "id": "Kfs5OBKDDYQo"
      },
      "execution_count": null,
      "outputs": []
    },
    {
      "cell_type": "code",
      "source": [
        "# Stopping criterion (Retrain until the loss is above the threshold)\n",
        "\n",
        "class SOMT(Callback):\n",
        "\n",
        "    def __init__(self, model,  train_thold):\n",
        "        super(SOMT, self).__init__()\n",
        "        self.model=model        \n",
        "        self.train_thold=train_thold\n",
        "        \n",
        "    def on_epoch_end(self,epoch, logs={}): \n",
        "        tr_loss=logs.get('loss')\n",
        "        if tr_loss <= self.train_thold:\n",
        "            self.model.stop_training = True # stop training\n",
        "            print( f'\\nTraining stopped because loss reached the threshold')"
      ],
      "metadata": {
        "id": "4F8G_eHCs995"
      },
      "execution_count": null,
      "outputs": []
    },
    {
      "cell_type": "code",
      "source": [
        "Y_train = np.asarray(Y_train)"
      ],
      "metadata": {
        "id": "-XNXFVLnNfTf"
      },
      "execution_count": null,
      "outputs": []
    },
    {
      "cell_type": "code",
      "execution_count": null,
      "metadata": {
        "colab": {
          "base_uri": "https://localhost:8080/"
        },
        "id": "9v_X2-T-ZeNh",
        "outputId": "0d46a57b-25cc-4469-97c5-e2550d1474d0"
      },
      "outputs": [
        {
          "output_type": "stream",
          "name": "stdout",
          "text": [
            "Epoch 1/30\n",
            "261/261 [==============================] - 17s 39ms/step - loss: 0.1850 - accuracy: 0.9098\n",
            "Epoch 2/30\n",
            "261/261 [==============================] - 9s 36ms/step - loss: 0.0250 - accuracy: 0.9923\n",
            "Epoch 3/30\n",
            "261/261 [==============================] - 9s 36ms/step - loss: 0.0099 - accuracy: 0.9968\n",
            "Epoch 4/30\n",
            "261/261 [==============================] - 10s 37ms/step - loss: 0.0017 - accuracy: 0.9995\n",
            "Epoch 5/30\n",
            "261/261 [==============================] - ETA: 0s - loss: 3.5929e-04 - accuracy: 1.0000\n",
            "Training stopped because loss reached the threshold\n",
            "261/261 [==============================] - 9s 36ms/step - loss: 3.5929e-04 - accuracy: 1.0000\n"
          ]
        }
      ],
      "source": [
        "# Retraining Best Model\n",
        "es = EarlyStopping(monitor='loss', patience=30, restore_best_weights=True)\n",
        "history = best_model.fit(padded_train, Y_train, batch_size=64, epochs=30, callbacks=[es, SOMT(best_model, train_thold)])"
      ]
    },
    {
      "cell_type": "code",
      "source": [
        "best_ep = np.argmin(history.history[\"loss\"][:-1])+1"
      ],
      "metadata": {
        "id": "0hF8N4IsnJHB"
      },
      "execution_count": null,
      "outputs": []
    },
    {
      "cell_type": "code",
      "execution_count": null,
      "metadata": {
        "colab": {
          "base_uri": "https://localhost:8080/",
          "height": 300
        },
        "outputId": "f0b2fac5-e1b8-4622-b18f-b0eca3d1698e",
        "id": "R4LhVn9Qsx5T"
      },
      "outputs": [
        {
          "output_type": "execute_result",
          "data": {
            "text/plain": [
              "<matplotlib.legend.Legend at 0x7fe3e3fe8b50>"
            ]
          },
          "metadata": {},
          "execution_count": 14
        },
        {
          "output_type": "display_data",
          "data": {
            "text/plain": [
              "<Figure size 432x288 with 1 Axes>"
            ],
            "image/png": "[encoded data removed]"
          },
          "metadata": {
            "needs_background": "light"
          }
        }
      ],
      "source": [
        "#Accuracy plot\n",
        "plt.plot(history.history[\"accuracy\"][0:best_ep], label='accuracy')       \n",
        "plt.xlabel('Epochs')\n",
        "plt.ylabel('Accuracy')\n",
        "plt.ylim([0.9,1])\n",
        "plt.xticks(np.arange(len(history.history[\"accuracy\"][0:best_ep])), np.arange(1, len(history.history[\"accuracy\"][0:best_ep])+1))\n",
        "plt.legend(loc = 'lower right')"
      ]
    },
    {
      "cell_type": "code",
      "execution_count": null,
      "metadata": {
        "colab": {
          "base_uri": "https://localhost:8080/",
          "height": 300
        },
        "outputId": "2ef6f19e-602f-4db9-ef86-64dd77f16f49",
        "id": "EP_WqF6Wsx5V"
      },
      "outputs": [
        {
          "output_type": "execute_result",
          "data": {
            "text/plain": [
              "<matplotlib.legend.Legend at 0x7fe3e3f96cd0>"
            ]
          },
          "metadata": {},
          "execution_count": 15
        },
        {
          "output_type": "display_data",
          "data": {
            "text/plain": [
              "<Figure size 432x288 with 1 Axes>"
            ],
            "image/png": "[encoded data removed]"
          },
          "metadata": {
            "needs_background": "light"
          }
        }
      ],
      "source": [
        "#Loss plot\n",
        "plt.plot(history.history[\"loss\"][0:best_ep], label='loss')       \n",
        "plt.xlabel('Epochs')\n",
        "plt.ylabel('Loss')\n",
        "plt.ylim([0,0.2])\n",
        "plt.xticks(np.arange(len(history.history[\"loss\"][0:best_ep])), np.arange(1, len(history.history[\"loss\"][0:best_ep])+1))\n",
        "plt.legend(loc = 'upper right')"
      ]
    },
    {
      "cell_type": "markdown",
      "metadata": {
        "id": "RXa2MqEQQ2ww"
      },
      "source": [
        "# Best Model Performance on Test Set\n"
      ]
    },
    {
      "cell_type": "markdown",
      "metadata": {
        "id": "SmrxIJ-i0S84"
      },
      "source": [
        "## Classification Threshold 0.50"
      ]
    },
    {
      "cell_type": "code",
      "execution_count": null,
      "metadata": {
        "id": "xStw-VQHtEzA"
      },
      "outputs": [],
      "source": [
        "pred = (best_model.predict(padded_test) > 0.5)"
      ]
    },
    {
      "cell_type": "code",
      "execution_count": null,
      "metadata": {
        "colab": {
          "base_uri": "https://localhost:8080/"
        },
        "id": "X4Du8kVKtF9G",
        "outputId": "c0685cc7-ae60-4431-ca5b-13fa30e58bac"
      },
      "outputs": [
        {
          "output_type": "stream",
          "name": "stdout",
          "text": [
            "              precision    recall  f1-score   support\n",
            "\n",
            "           0     0.9760    0.9859    0.9809      1979\n",
            "           1     0.9862    0.9767    0.9814      2056\n",
            "\n",
            "    accuracy                         0.9812      4035\n",
            "   macro avg     0.9811    0.9813    0.9812      4035\n",
            "weighted avg     0.9812    0.9812    0.9812      4035\n",
            "\n"
          ]
        }
      ],
      "source": [
        "# Getting the Classification Report\n",
        "print(classification_report(list(Y_test), pred, digits=4))"
      ]
    },
    {
      "cell_type": "code",
      "execution_count": null,
      "metadata": {
        "colab": {
          "base_uri": "https://localhost:8080/"
        },
        "id": "TfuCww40voXa",
        "outputId": "e56e7c0e-90e2-4b99-e88f-66ae3aff4c27"
      },
      "outputs": [
        {
          "output_type": "stream",
          "name": "stdout",
          "text": [
            "Test Accuracy :  98.12 %\n"
          ]
        }
      ],
      "source": [
        "# Getting the Test Accuracy\n",
        "accuracy = accuracy_score(list(Y_test), pred)\n",
        "print(\"Test Accuracy : \", round(Decimal(accuracy*100),2),\"%\")"
      ]
    },
    {
      "cell_type": "code",
      "execution_count": null,
      "metadata": {
        "colab": {
          "base_uri": "https://localhost:8080/",
          "height": 299
        },
        "id": "4n2SFg45ww1f",
        "outputId": "d4958b88-46c6-4236-e64a-e9f3f247d759"
      },
      "outputs": [
        {
          "output_type": "display_data",
          "data": {
            "text/plain": [
              "<Figure size 432x288 with 2 Axes>"
            ],
            "image/png": "[encoded data removed]"
          },
          "metadata": {
            "needs_background": "light"
          }
        },
        {
          "output_type": "display_data",
          "data": {
            "text/plain": [
              "<Figure size 720x720 with 0 Axes>"
            ]
          },
          "metadata": {}
        }
      ],
      "source": [
        "# Getting The Confusion Matrix\n",
        "cm = confusion_matrix(list(Y_test), pred)\n",
        "sns.heatmap(cm, annot = True)\n",
        "plt.ylabel('Test label')\n",
        "plt.xlabel('Predicted label')\n",
        "plt.figure(figsize = (10, 10))\n",
        "plt.show()"
      ]
    },
    {
      "cell_type": "markdown",
      "source": [
        "# Best Model Performance on Test Set with different Classification Thresholds"
      ],
      "metadata": {
        "id": "v8YlYWVBSKxH"
      }
    },
    {
      "cell_type": "markdown",
      "metadata": {
        "id": "SpC-jcMQ0aDQ"
      },
      "source": [
        "## Classification Threshold 0.80"
      ]
    },
    {
      "cell_type": "code",
      "execution_count": null,
      "metadata": {
        "id": "9lZyJcySvpnC"
      },
      "outputs": [],
      "source": [
        "pred = (best_model.predict(padded_test) > 0.8)"
      ]
    },
    {
      "cell_type": "code",
      "execution_count": null,
      "metadata": {
        "colab": {
          "base_uri": "https://localhost:8080/"
        },
        "id": "VOPJcDXLvpnE",
        "outputId": "aa8912d9-852e-4c5b-9e90-e76216f8d70a"
      },
      "outputs": [
        {
          "output_type": "stream",
          "name": "stdout",
          "text": [
            "              precision    recall  f1-score   support\n",
            "\n",
            "           0     0.9712    0.9884    0.9797      1979\n",
            "           1     0.9886    0.9718    0.9801      2056\n",
            "\n",
            "    accuracy                         0.9799      4035\n",
            "   macro avg     0.9799    0.9801    0.9799      4035\n",
            "weighted avg     0.9801    0.9799    0.9799      4035\n",
            "\n"
          ]
        }
      ],
      "source": [
        "# Getting the Classification Report\n",
        "print(classification_report(list(Y_test), pred, digits=4))"
      ]
    },
    {
      "cell_type": "code",
      "execution_count": null,
      "metadata": {
        "colab": {
          "base_uri": "https://localhost:8080/"
        },
        "id": "WjUcHez4voeu",
        "outputId": "13bf0a3b-ef09-4413-b200-f5e76f13dbbb"
      },
      "outputs": [
        {
          "output_type": "stream",
          "name": "stdout",
          "text": [
            "Test Accuracy :  97.99 %\n"
          ]
        }
      ],
      "source": [
        "# Getting the Test Accuracy\n",
        "accuracy = accuracy_score(list(Y_test), pred)\n",
        "print(\"Test Accuracy : \", round(Decimal(accuracy*100),2),\"%\")"
      ]
    },
    {
      "cell_type": "code",
      "execution_count": null,
      "metadata": {
        "colab": {
          "base_uri": "https://localhost:8080/"
        },
        "id": "xEwdHhyFvoid",
        "outputId": "c295c2db-e0e6-4956-cb2b-edf6a959ef6f"
      },
      "outputs": [
        {
          "output_type": "display_data",
          "data": {
            "text/plain": [
              "<Figure size 432x288 with 2 Axes>"
            ],
            "image/png": "[encoded data removed]"
          },
          "metadata": {
            "needs_background": "light"
          }
        },
        {
          "output_type": "display_data",
          "data": {
            "text/plain": [
              "<Figure size 720x720 with 0 Axes>"
            ]
          },
          "metadata": {}
        }
      ],
      "source": [
        "# Getting the Confusion Matrix\n",
        "cm = confusion_matrix(list(Y_test), pred)\n",
        "sns.heatmap(cm, annot = True)\n",
        "plt.ylabel('Test label')\n",
        "plt.xlabel('Predicted label')\n",
        "plt.figure(figsize = (10, 10))\n",
        "plt.show()"
      ]
    },
    {
      "cell_type": "markdown",
      "metadata": {
        "id": "InGebANf0eC0"
      },
      "source": [
        "## Classification Threshold 0.90"
      ]
    },
    {
      "cell_type": "code",
      "execution_count": null,
      "metadata": {
        "id": "CPyMQesi0lzV"
      },
      "outputs": [],
      "source": [
        "pred = (best_model.predict(padded_test) > 0.9)"
      ]
    },
    {
      "cell_type": "code",
      "execution_count": null,
      "metadata": {
        "colab": {
          "base_uri": "https://localhost:8080/"
        },
        "id": "aHF1aC680lzX",
        "outputId": "8cc80a62-5b61-447f-9fcc-65907c43cd46"
      },
      "outputs": [
        {
          "output_type": "stream",
          "name": "stdout",
          "text": [
            "              precision    recall  f1-score   support\n",
            "\n",
            "           0     0.9656    0.9919    0.9786      1979\n",
            "           1     0.9920    0.9660    0.9788      2056\n",
            "\n",
            "    accuracy                         0.9787      4035\n",
            "   macro avg     0.9788    0.9789    0.9787      4035\n",
            "weighted avg     0.9790    0.9787    0.9787      4035\n",
            "\n"
          ]
        }
      ],
      "source": [
        "# Getting the Classification Report\n",
        "print(classification_report(list(Y_test), pred, digits=4))"
      ]
    },
    {
      "cell_type": "code",
      "execution_count": null,
      "metadata": {
        "colab": {
          "base_uri": "https://localhost:8080/"
        },
        "id": "2f0jJ1Lo0lzY",
        "outputId": "c8ed52b4-2bba-4245-e8fa-775758db8ace"
      },
      "outputs": [
        {
          "output_type": "stream",
          "name": "stdout",
          "text": [
            "Test Accuracy :  97.87 %\n"
          ]
        }
      ],
      "source": [
        "# Getting the Test Accuracy\n",
        "accuracy = accuracy_score(list(Y_test), pred)\n",
        "print(\"Test Accuracy : \", round(Decimal(accuracy*100),2),\"%\")"
      ]
    },
    {
      "cell_type": "code",
      "execution_count": null,
      "metadata": {
        "colab": {
          "base_uri": "https://localhost:8080/"
        },
        "id": "jZvu6Gvw0lzb",
        "outputId": "59347410-7196-4447-bf32-f0a1fa003a5a"
      },
      "outputs": [
        {
          "output_type": "display_data",
          "data": {
            "text/plain": [
              "<Figure size 432x288 with 2 Axes>"
            ],
            "image/png": "[encoded data removed]"
          },
          "metadata": {
            "needs_background": "light"
          }
        },
        {
          "output_type": "display_data",
          "data": {
            "text/plain": [
              "<Figure size 720x720 with 0 Axes>"
            ]
          },
          "metadata": {}
        }
      ],
      "source": [
        "# Getting the Confusion Matrix\n",
        "cm = confusion_matrix(list(Y_test), pred)\n",
        "sns.heatmap(cm, annot = True)\n",
        "plt.ylabel('Test label')\n",
        "plt.xlabel('Predicted label')\n",
        "plt.figure(figsize = (10, 10))\n",
        "plt.show()"
      ]
    },
    {
      "cell_type": "markdown",
      "metadata": {
        "id": "384QCMNP0rh9"
      },
      "source": [
        "## Classification Threshold 0.95"
      ]
    },
    {
      "cell_type": "code",
      "execution_count": null,
      "metadata": {
        "id": "HaXD9jVf0t0P"
      },
      "outputs": [],
      "source": [
        "pred = (best_model.predict(padded_test) > 0.95)"
      ]
    },
    {
      "cell_type": "code",
      "execution_count": null,
      "metadata": {
        "colab": {
          "base_uri": "https://localhost:8080/"
        },
        "id": "QGC6kS620t0U",
        "outputId": "3e4f49e7-f913-45c7-f46e-144bd80e1826"
      },
      "outputs": [
        {
          "output_type": "stream",
          "name": "stdout",
          "text": [
            "              precision    recall  f1-score   support\n",
            "\n",
            "           0     0.9614    0.9939    0.9774      1979\n",
            "           1     0.9940    0.9616    0.9775      2056\n",
            "\n",
            "    accuracy                         0.9774      4035\n",
            "   macro avg     0.9777    0.9778    0.9774      4035\n",
            "weighted avg     0.9780    0.9774    0.9774      4035\n",
            "\n"
          ]
        }
      ],
      "source": [
        "# Getting the Classification Report\n",
        "print(classification_report(list(Y_test), pred, digits=4))"
      ]
    },
    {
      "cell_type": "code",
      "execution_count": null,
      "metadata": {
        "colab": {
          "base_uri": "https://localhost:8080/"
        },
        "id": "J_WkQ3KC0t0a",
        "outputId": "b7de75a5-8394-49d9-9be1-3c355b9991a2"
      },
      "outputs": [
        {
          "output_type": "stream",
          "name": "stdout",
          "text": [
            "Test Accuracy :  97.74 %\n"
          ]
        }
      ],
      "source": [
        "# Getting the Test Accuracy\n",
        "accuracy = accuracy_score(list(Y_test), pred)\n",
        "print(\"Test Accuracy : \", round(Decimal(accuracy*100),2),\"%\")"
      ]
    },
    {
      "cell_type": "code",
      "execution_count": null,
      "metadata": {
        "id": "gXjMcuHb0t0e",
        "colab": {
          "base_uri": "https://localhost:8080/"
        },
        "outputId": "7f09cffb-5507-4428-8ad9-c3f6d0ab6d02"
      },
      "outputs": [
        {
          "output_type": "display_data",
          "data": {
            "text/plain": [
              "<Figure size 432x288 with 2 Axes>"
            ],
            "image/png": "[encoded data removed]"
          },
          "metadata": {
            "needs_background": "light"
          }
        },
        {
          "output_type": "display_data",
          "data": {
            "text/plain": [
              "<Figure size 720x720 with 0 Axes>"
            ]
          },
          "metadata": {}
        }
      ],
      "source": [
        "# Getting the Confusion Matrix\n",
        "cm = confusion_matrix(list(Y_test), pred)\n",
        "sns.heatmap(cm, annot = True)\n",
        "plt.ylabel('Test label')\n",
        "plt.xlabel('Predicted label')\n",
        "plt.figure(figsize = (10, 10))\n",
        "plt.show()"
      ]
    },
    {
      "cell_type": "markdown",
      "metadata": {
        "id": "hOb09ZI72ze-"
      },
      "source": [
        "## Classification Threshold 0.99"
      ]
    },
    {
      "cell_type": "code",
      "execution_count": null,
      "metadata": {
        "id": "Ihb-AvAR2zfB"
      },
      "outputs": [],
      "source": [
        "pred = (best_model.predict(padded_test) > 0.99)"
      ]
    },
    {
      "cell_type": "code",
      "execution_count": null,
      "metadata": {
        "colab": {
          "base_uri": "https://localhost:8080/"
        },
        "id": "tQbt_3lr2zfC",
        "outputId": "83db340d-e5d6-49aa-f12e-4593e992ca41"
      },
      "outputs": [
        {
          "output_type": "stream",
          "name": "stdout",
          "text": [
            "              precision    recall  f1-score   support\n",
            "\n",
            "           0     0.9508    0.9960    0.9729      1979\n",
            "           1     0.9959    0.9504    0.9726      2056\n",
            "\n",
            "    accuracy                         0.9727      4035\n",
            "   macro avg     0.9734    0.9732    0.9727      4035\n",
            "weighted avg     0.9738    0.9727    0.9727      4035\n",
            "\n"
          ]
        }
      ],
      "source": [
        "# Getting the Classification Report\n",
        "print(classification_report(list(Y_test), pred, digits=4))"
      ]
    },
    {
      "cell_type": "code",
      "execution_count": null,
      "metadata": {
        "id": "EpEI88NY2zfE",
        "colab": {
          "base_uri": "https://localhost:8080/"
        },
        "outputId": "6eb8ccf3-2719-463f-d073-f77734d1c2ac"
      },
      "outputs": [
        {
          "output_type": "stream",
          "name": "stdout",
          "text": [
            "Test Accuracy :  97.27 %\n"
          ]
        }
      ],
      "source": [
        "# Getting the Test Accuracy\n",
        "accuracy = accuracy_score(list(Y_test), pred)\n",
        "print(\"Test Accuracy : \", round(Decimal(accuracy*100),2),\"%\")"
      ]
    },
    {
      "cell_type": "code",
      "execution_count": null,
      "metadata": {
        "id": "n-5lbxzn2zfH",
        "colab": {
          "base_uri": "https://localhost:8080/"
        },
        "outputId": "16a3e903-4b3d-451b-ced2-37e3774415d0"
      },
      "outputs": [
        {
          "output_type": "display_data",
          "data": {
            "text/plain": [
              "<Figure size 432x288 with 2 Axes>"
            ],
            "image/png": "[encoded data removed]"
          },
          "metadata": {
            "needs_background": "light"
          }
        },
        {
          "output_type": "display_data",
          "data": {
            "text/plain": [
              "<Figure size 720x720 with 0 Axes>"
            ]
          },
          "metadata": {}
        }
      ],
      "source": [
        "# Getting the Confusion Matrix\n",
        "cm = confusion_matrix(list(Y_test), pred)\n",
        "sns.heatmap(cm, annot = True)\n",
        "plt.ylabel('Test label')\n",
        "plt.xlabel('Predicted label')\n",
        "plt.figure(figsize = (10, 10))\n",
        "plt.show()"
      ]
    }
  ],
  "metadata": {
    "colab": {
      "collapsed_sections": [
        "SpC-jcMQ0aDQ",
        "InGebANf0eC0",
        "384QCMNP0rh9",
        "hOb09ZI72ze-"
      ],
      "provenance": []
    },
    "kernelspec": {
      "display_name": "Python 3",
      "name": "python3"
    },
    "language_info": {
      "name": "python"
    },
    "gpuClass": "standard",
    "accelerator": "GPU"
  },
  "nbformat": 4,
  "nbformat_minor": 0
}