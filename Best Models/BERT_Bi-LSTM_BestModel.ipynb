{
  "nbformat": 4,
  "nbformat_minor": 0,
  "metadata": {
    "colab": {
      "provenance": [],
      "collapsed_sections": [],
      "machine_shape": "hm"
    },
    "kernelspec": {
      "name": "python3",
      "display_name": "Python 3"
    },
    "language_info": {
      "name": "python"
    },
    "accelerator": "GPU",
    "gpuClass": "premium",
    "widgets": {
      "application/vnd.jupyter.widget-state+json": {
        "4c5b026d550d4c61902acd8c5f87fd18": {
          "model_module": "@jupyter-widgets/controls",
          "model_name": "HBoxModel",
          "model_module_version": "1.5.0",
          "state": {
            "_dom_classes": [],
            "_model_module": "@jupyter-widgets/controls",
            "_model_module_version": "1.5.0",
            "_model_name": "HBoxModel",
            "_view_count": null,
            "_view_module": "@jupyter-widgets/controls",
            "_view_module_version": "1.5.0",
            "_view_name": "HBoxView",
            "box_style": "",
            "children": [
              "IPY_MODEL_d04fa8d2880941d7b14f166ffb12576d",
              "IPY_MODEL_2734b86d60f047838d588bbb2229414b",
              "IPY_MODEL_2dfb9801cebb467ba01881a260a162e5"
            ],
            "layout": "IPY_MODEL_107f3298649046da9bbe6de0b3c3e8cc"
          }
        },
        "d04fa8d2880941d7b14f166ffb12576d": {
          "model_module": "@jupyter-widgets/controls",
          "model_name": "HTMLModel",
          "model_module_version": "1.5.0",
          "state": {
            "_dom_classes": [],
            "_model_module": "@jupyter-widgets/controls",
            "_model_module_version": "1.5.0",
            "_model_name": "HTMLModel",
            "_view_count": null,
            "_view_module": "@jupyter-widgets/controls",
            "_view_module_version": "1.5.0",
            "_view_name": "HTMLView",
            "description": "",
            "description_tooltip": null,
            "layout": "IPY_MODEL_0db3bcf2f5f843158416c96c9850e152",
            "placeholder": "​",
            "style": "IPY_MODEL_347381c68d844acfb72a21556f14f904",
            "value": "Downloading: 100%"
          }
        },
        "2734b86d60f047838d588bbb2229414b": {
          "model_module": "@jupyter-widgets/controls",
          "model_name": "FloatProgressModel",
          "model_module_version": "1.5.0",
          "state": {
            "_dom_classes": [],
            "_model_module": "@jupyter-widgets/controls",
            "_model_module_version": "1.5.0",
            "_model_name": "FloatProgressModel",
            "_view_count": null,
            "_view_module": "@jupyter-widgets/controls",
            "_view_module_version": "1.5.0",
            "_view_name": "ProgressView",
            "bar_style": "success",
            "description": "",
            "description_tooltip": null,
            "layout": "IPY_MODEL_0299c962b99f4ea39f7b345c758eba65",
            "max": 28,
            "min": 0,
            "orientation": "horizontal",
            "style": "IPY_MODEL_3f2fa896a625470bbb3e363e2990ba3b",
            "value": 28
          }
        },
        "2dfb9801cebb467ba01881a260a162e5": {
          "model_module": "@jupyter-widgets/controls",
          "model_name": "HTMLModel",
          "model_module_version": "1.5.0",
          "state": {
            "_dom_classes": [],
            "_model_module": "@jupyter-widgets/controls",
            "_model_module_version": "1.5.0",
            "_model_name": "HTMLModel",
            "_view_count": null,
            "_view_module": "@jupyter-widgets/controls",
            "_view_module_version": "1.5.0",
            "_view_name": "HTMLView",
            "description": "",
            "description_tooltip": null,
            "layout": "IPY_MODEL_394fe0c730f1400ea5a883d541567f00",
            "placeholder": "​",
            "style": "IPY_MODEL_b92d41db9b754f2284561c0d128a7a18",
            "value": " 28.0/28.0 [00:00&lt;00:00, 714B/s]"
          }
        },
        "107f3298649046da9bbe6de0b3c3e8cc": {
          "model_module": "@jupyter-widgets/base",
          "model_name": "LayoutModel",
          "model_module_version": "1.2.0",
          "state": {
            "_model_module": "@jupyter-widgets/base",
            "_model_module_version": "1.2.0",
            "_model_name": "LayoutModel",
            "_view_count": null,
            "_view_module": "@jupyter-widgets/base",
            "_view_module_version": "1.2.0",
            "_view_name": "LayoutView",
            "align_content": null,
            "align_items": null,
            "align_self": null,
            "border": null,
            "bottom": null,
            "display": null,
            "flex": null,
            "flex_flow": null,
            "grid_area": null,
            "grid_auto_columns": null,
            "grid_auto_flow": null,
            "grid_auto_rows": null,
            "grid_column": null,
            "grid_gap": null,
            "grid_row": null,
            "grid_template_areas": null,
            "grid_template_columns": null,
            "grid_template_rows": null,
            "height": null,
            "justify_content": null,
            "justify_items": null,
            "left": null,
            "margin": null,
            "max_height": null,
            "max_width": null,
            "min_height": null,
            "min_width": null,
            "object_fit": null,
            "object_position": null,
            "order": null,
            "overflow": null,
            "overflow_x": null,
            "overflow_y": null,
            "padding": null,
            "right": null,
            "top": null,
            "visibility": null,
            "width": null
          }
        },
        "0db3bcf2f5f843158416c96c9850e152": {
          "model_module": "@jupyter-widgets/base",
          "model_name": "LayoutModel",
          "model_module_version": "1.2.0",
          "state": {
            "_model_module": "@jupyter-widgets/base",
            "_model_module_version": "1.2.0",
            "_model_name": "LayoutModel",
            "_view_count": null,
            "_view_module": "@jupyter-widgets/base",
            "_view_module_version": "1.2.0",
            "_view_name": "LayoutView",
            "align_content": null,
            "align_items": null,
            "align_self": null,
            "border": null,
            "bottom": null,
            "display": null,
            "flex": null,
            "flex_flow": null,
            "grid_area": null,
            "grid_auto_columns": null,
            "grid_auto_flow": null,
            "grid_auto_rows": null,
            "grid_column": null,
            "grid_gap": null,
            "grid_row": null,
            "grid_template_areas": null,
            "grid_template_columns": null,
            "grid_template_rows": null,
            "height": null,
            "justify_content": null,
            "justify_items": null,
            "left": null,
            "margin": null,
            "max_height": null,
            "max_width": null,
            "min_height": null,
            "min_width": null,
            "object_fit": null,
            "object_position": null,
            "order": null,
            "overflow": null,
            "overflow_x": null,
            "overflow_y": null,
            "padding": null,
            "right": null,
            "top": null,
            "visibility": null,
            "width": null
          }
        },
        "347381c68d844acfb72a21556f14f904": {
          "model_module": "@jupyter-widgets/controls",
          "model_name": "DescriptionStyleModel",
          "model_module_version": "1.5.0",
          "state": {
            "_model_module": "@jupyter-widgets/controls",
            "_model_module_version": "1.5.0",
            "_model_name": "DescriptionStyleModel",
            "_view_count": null,
            "_view_module": "@jupyter-widgets/base",
            "_view_module_version": "1.2.0",
            "_view_name": "StyleView",
            "description_width": ""
          }
        },
        "0299c962b99f4ea39f7b345c758eba65": {
          "model_module": "@jupyter-widgets/base",
          "model_name": "LayoutModel",
          "model_module_version": "1.2.0",
          "state": {
            "_model_module": "@jupyter-widgets/base",
            "_model_module_version": "1.2.0",
            "_model_name": "LayoutModel",
            "_view_count": null,
            "_view_module": "@jupyter-widgets/base",
            "_view_module_version": "1.2.0",
            "_view_name": "LayoutView",
            "align_content": null,
            "align_items": null,
            "align_self": null,
            "border": null,
            "bottom": null,
            "display": null,
            "flex": null,
            "flex_flow": null,
            "grid_area": null,
            "grid_auto_columns": null,
            "grid_auto_flow": null,
            "grid_auto_rows": null,
            "grid_column": null,
            "grid_gap": null,
            "grid_row": null,
            "grid_template_areas": null,
            "grid_template_columns": null,
            "grid_template_rows": null,
            "height": null,
            "justify_content": null,
            "justify_items": null,
            "left": null,
            "margin": null,
            "max_height": null,
            "max_width": null,
            "min_height": null,
            "min_width": null,
            "object_fit": null,
            "object_position": null,
            "order": null,
            "overflow": null,
            "overflow_x": null,
            "overflow_y": null,
            "padding": null,
            "right": null,
            "top": null,
            "visibility": null,
            "width": null
          }
        },
        "3f2fa896a625470bbb3e363e2990ba3b": {
          "model_module": "@jupyter-widgets/controls",
          "model_name": "ProgressStyleModel",
          "model_module_version": "1.5.0",
          "state": {
            "_model_module": "@jupyter-widgets/controls",
            "_model_module_version": "1.5.0",
            "_model_name": "ProgressStyleModel",
            "_view_count": null,
            "_view_module": "@jupyter-widgets/base",
            "_view_module_version": "1.2.0",
            "_view_name": "StyleView",
            "bar_color": null,
            "description_width": ""
          }
        },
        "394fe0c730f1400ea5a883d541567f00": {
          "model_module": "@jupyter-widgets/base",
          "model_name": "LayoutModel",
          "model_module_version": "1.2.0",
          "state": {
            "_model_module": "@jupyter-widgets/base",
            "_model_module_version": "1.2.0",
            "_model_name": "LayoutModel",
            "_view_count": null,
            "_view_module": "@jupyter-widgets/base",
            "_view_module_version": "1.2.0",
            "_view_name": "LayoutView",
            "align_content": null,
            "align_items": null,
            "align_self": null,
            "border": null,
            "bottom": null,
            "display": null,
            "flex": null,
            "flex_flow": null,
            "grid_area": null,
            "grid_auto_columns": null,
            "grid_auto_flow": null,
            "grid_auto_rows": null,
            "grid_column": null,
            "grid_gap": null,
            "grid_row": null,
            "grid_template_areas": null,
            "grid_template_columns": null,
            "grid_template_rows": null,
            "height": null,
            "justify_content": null,
            "justify_items": null,
            "left": null,
            "margin": null,
            "max_height": null,
            "max_width": null,
            "min_height": null,
            "min_width": null,
            "object_fit": null,
            "object_position": null,
            "order": null,
            "overflow": null,
            "overflow_x": null,
            "overflow_y": null,
            "padding": null,
            "right": null,
            "top": null,
            "visibility": null,
            "width": null
          }
        },
        "b92d41db9b754f2284561c0d128a7a18": {
          "model_module": "@jupyter-widgets/controls",
          "model_name": "DescriptionStyleModel",
          "model_module_version": "1.5.0",
          "state": {
            "_model_module": "@jupyter-widgets/controls",
            "_model_module_version": "1.5.0",
            "_model_name": "DescriptionStyleModel",
            "_view_count": null,
            "_view_module": "@jupyter-widgets/base",
            "_view_module_version": "1.2.0",
            "_view_name": "StyleView",
            "description_width": ""
          }
        },
        "730ace79c0054a0d82e52ed8b01ff8a0": {
          "model_module": "@jupyter-widgets/controls",
          "model_name": "HBoxModel",
          "model_module_version": "1.5.0",
          "state": {
            "_dom_classes": [],
            "_model_module": "@jupyter-widgets/controls",
            "_model_module_version": "1.5.0",
            "_model_name": "HBoxModel",
            "_view_count": null,
            "_view_module": "@jupyter-widgets/controls",
            "_view_module_version": "1.5.0",
            "_view_name": "HBoxView",
            "box_style": "",
            "children": [
              "IPY_MODEL_194ddfbd49844bbcb1f90141afe824d9",
              "IPY_MODEL_8b4f96fb2c8f4fb7ac1bd1f86130700a",
              "IPY_MODEL_d4bd7019a05c4905817e3b45833c61fe"
            ],
            "layout": "IPY_MODEL_1955de624e1d46a5aa20109820a41590"
          }
        },
        "194ddfbd49844bbcb1f90141afe824d9": {
          "model_module": "@jupyter-widgets/controls",
          "model_name": "HTMLModel",
          "model_module_version": "1.5.0",
          "state": {
            "_dom_classes": [],
            "_model_module": "@jupyter-widgets/controls",
            "_model_module_version": "1.5.0",
            "_model_name": "HTMLModel",
            "_view_count": null,
            "_view_module": "@jupyter-widgets/controls",
            "_view_module_version": "1.5.0",
            "_view_name": "HTMLView",
            "description": "",
            "description_tooltip": null,
            "layout": "IPY_MODEL_13c2257a834148f4b22c6d1d5aec011e",
            "placeholder": "​",
            "style": "IPY_MODEL_9a96569233534db0817502338433f333",
            "value": "Downloading: 100%"
          }
        },
        "8b4f96fb2c8f4fb7ac1bd1f86130700a": {
          "model_module": "@jupyter-widgets/controls",
          "model_name": "FloatProgressModel",
          "model_module_version": "1.5.0",
          "state": {
            "_dom_classes": [],
            "_model_module": "@jupyter-widgets/controls",
            "_model_module_version": "1.5.0",
            "_model_name": "FloatProgressModel",
            "_view_count": null,
            "_view_module": "@jupyter-widgets/controls",
            "_view_module_version": "1.5.0",
            "_view_name": "ProgressView",
            "bar_style": "success",
            "description": "",
            "description_tooltip": null,
            "layout": "IPY_MODEL_9b4f0d1c47a644a09773ac755751616a",
            "max": 570,
            "min": 0,
            "orientation": "horizontal",
            "style": "IPY_MODEL_d3484b0ab51140e59e82af17f75b1f99",
            "value": 570
          }
        },
        "d4bd7019a05c4905817e3b45833c61fe": {
          "model_module": "@jupyter-widgets/controls",
          "model_name": "HTMLModel",
          "model_module_version": "1.5.0",
          "state": {
            "_dom_classes": [],
            "_model_module": "@jupyter-widgets/controls",
            "_model_module_version": "1.5.0",
            "_model_name": "HTMLModel",
            "_view_count": null,
            "_view_module": "@jupyter-widgets/controls",
            "_view_module_version": "1.5.0",
            "_view_name": "HTMLView",
            "description": "",
            "description_tooltip": null,
            "layout": "IPY_MODEL_00a7e5d855444521a3947ec1aa14caf8",
            "placeholder": "​",
            "style": "IPY_MODEL_40fb254d55494f1398e890df1b8fd333",
            "value": " 570/570 [00:00&lt;00:00, 16.4kB/s]"
          }
        },
        "1955de624e1d46a5aa20109820a41590": {
          "model_module": "@jupyter-widgets/base",
          "model_name": "LayoutModel",
          "model_module_version": "1.2.0",
          "state": {
            "_model_module": "@jupyter-widgets/base",
            "_model_module_version": "1.2.0",
            "_model_name": "LayoutModel",
            "_view_count": null,
            "_view_module": "@jupyter-widgets/base",
            "_view_module_version": "1.2.0",
            "_view_name": "LayoutView",
            "align_content": null,
            "align_items": null,
            "align_self": null,
            "border": null,
            "bottom": null,
            "display": null,
            "flex": null,
            "flex_flow": null,
            "grid_area": null,
            "grid_auto_columns": null,
            "grid_auto_flow": null,
            "grid_auto_rows": null,
            "grid_column": null,
            "grid_gap": null,
            "grid_row": null,
            "grid_template_areas": null,
            "grid_template_columns": null,
            "grid_template_rows": null,
            "height": null,
            "justify_content": null,
            "justify_items": null,
            "left": null,
            "margin": null,
            "max_height": null,
            "max_width": null,
            "min_height": null,
            "min_width": null,
            "object_fit": null,
            "object_position": null,
            "order": null,
            "overflow": null,
            "overflow_x": null,
            "overflow_y": null,
            "padding": null,
            "right": null,
            "top": null,
            "visibility": null,
            "width": null
          }
        },
        "13c2257a834148f4b22c6d1d5aec011e": {
          "model_module": "@jupyter-widgets/base",
          "model_name": "LayoutModel",
          "model_module_version": "1.2.0",
          "state": {
            "_model_module": "@jupyter-widgets/base",
            "_model_module_version": "1.2.0",
            "_model_name": "LayoutModel",
            "_view_count": null,
            "_view_module": "@jupyter-widgets/base",
            "_view_module_version": "1.2.0",
            "_view_name": "LayoutView",
            "align_content": null,
            "align_items": null,
            "align_self": null,
            "border": null,
            "bottom": null,
            "display": null,
            "flex": null,
            "flex_flow": null,
            "grid_area": null,
            "grid_auto_columns": null,
            "grid_auto_flow": null,
            "grid_auto_rows": null,
            "grid_column": null,
            "grid_gap": null,
            "grid_row": null,
            "grid_template_areas": null,
            "grid_template_columns": null,
            "grid_template_rows": null,
            "height": null,
            "justify_content": null,
            "justify_items": null,
            "left": null,
            "margin": null,
            "max_height": null,
            "max_width": null,
            "min_height": null,
            "min_width": null,
            "object_fit": null,
            "object_position": null,
            "order": null,
            "overflow": null,
            "overflow_x": null,
            "overflow_y": null,
            "padding": null,
            "right": null,
            "top": null,
            "visibility": null,
            "width": null
          }
        },
        "9a96569233534db0817502338433f333": {
          "model_module": "@jupyter-widgets/controls",
          "model_name": "DescriptionStyleModel",
          "model_module_version": "1.5.0",
          "state": {
            "_model_module": "@jupyter-widgets/controls",
            "_model_module_version": "1.5.0",
            "_model_name": "DescriptionStyleModel",
            "_view_count": null,
            "_view_module": "@jupyter-widgets/base",
            "_view_module_version": "1.2.0",
            "_view_name": "StyleView",
            "description_width": ""
          }
        },
        "9b4f0d1c47a644a09773ac755751616a": {
          "model_module": "@jupyter-widgets/base",
          "model_name": "LayoutModel",
          "model_module_version": "1.2.0",
          "state": {
            "_model_module": "@jupyter-widgets/base",
            "_model_module_version": "1.2.0",
            "_model_name": "LayoutModel",
            "_view_count": null,
            "_view_module": "@jupyter-widgets/base",
            "_view_module_version": "1.2.0",
            "_view_name": "LayoutView",
            "align_content": null,
            "align_items": null,
            "align_self": null,
            "border": null,
            "bottom": null,
            "display": null,
            "flex": null,
            "flex_flow": null,
            "grid_area": null,
            "grid_auto_columns": null,
            "grid_auto_flow": null,
            "grid_auto_rows": null,
            "grid_column": null,
            "grid_gap": null,
            "grid_row": null,
            "grid_template_areas": null,
            "grid_template_columns": null,
            "grid_template_rows": null,
            "height": null,
            "justify_content": null,
            "justify_items": null,
            "left": null,
            "margin": null,
            "max_height": null,
            "max_width": null,
            "min_height": null,
            "min_width": null,
            "object_fit": null,
            "object_position": null,
            "order": null,
            "overflow": null,
            "overflow_x": null,
            "overflow_y": null,
            "padding": null,
            "right": null,
            "top": null,
            "visibility": null,
            "width": null
          }
        },
        "d3484b0ab51140e59e82af17f75b1f99": {
          "model_module": "@jupyter-widgets/controls",
          "model_name": "ProgressStyleModel",
          "model_module_version": "1.5.0",
          "state": {
            "_model_module": "@jupyter-widgets/controls",
            "_model_module_version": "1.5.0",
            "_model_name": "ProgressStyleModel",
            "_view_count": null,
            "_view_module": "@jupyter-widgets/base",
            "_view_module_version": "1.2.0",
            "_view_name": "StyleView",
            "bar_color": null,
            "description_width": ""
          }
        },
        "00a7e5d855444521a3947ec1aa14caf8": {
          "model_module": "@jupyter-widgets/base",
          "model_name": "LayoutModel",
          "model_module_version": "1.2.0",
          "state": {
            "_model_module": "@jupyter-widgets/base",
            "_model_module_version": "1.2.0",
            "_model_name": "LayoutModel",
            "_view_count": null,
            "_view_module": "@jupyter-widgets/base",
            "_view_module_version": "1.2.0",
            "_view_name": "LayoutView",
            "align_content": null,
            "align_items": null,
            "align_self": null,
            "border": null,
            "bottom": null,
            "display": null,
            "flex": null,
            "flex_flow": null,
            "grid_area": null,
            "grid_auto_columns": null,
            "grid_auto_flow": null,
            "grid_auto_rows": null,
            "grid_column": null,
            "grid_gap": null,
            "grid_row": null,
            "grid_template_areas": null,
            "grid_template_columns": null,
            "grid_template_rows": null,
            "height": null,
            "justify_content": null,
            "justify_items": null,
            "left": null,
            "margin": null,
            "max_height": null,
            "max_width": null,
            "min_height": null,
            "min_width": null,
            "object_fit": null,
            "object_position": null,
            "order": null,
            "overflow": null,
            "overflow_x": null,
            "overflow_y": null,
            "padding": null,
            "right": null,
            "top": null,
            "visibility": null,
            "width": null
          }
        },
        "40fb254d55494f1398e890df1b8fd333": {
          "model_module": "@jupyter-widgets/controls",
          "model_name": "DescriptionStyleModel",
          "model_module_version": "1.5.0",
          "state": {
            "_model_module": "@jupyter-widgets/controls",
            "_model_module_version": "1.5.0",
            "_model_name": "DescriptionStyleModel",
            "_view_count": null,
            "_view_module": "@jupyter-widgets/base",
            "_view_module_version": "1.2.0",
            "_view_name": "StyleView",
            "description_width": ""
          }
        },
        "af85bb07a1b24419b9b09a7c46bcc47b": {
          "model_module": "@jupyter-widgets/controls",
          "model_name": "HBoxModel",
          "model_module_version": "1.5.0",
          "state": {
            "_dom_classes": [],
            "_model_module": "@jupyter-widgets/controls",
            "_model_module_version": "1.5.0",
            "_model_name": "HBoxModel",
            "_view_count": null,
            "_view_module": "@jupyter-widgets/controls",
            "_view_module_version": "1.5.0",
            "_view_name": "HBoxView",
            "box_style": "",
            "children": [
              "IPY_MODEL_4b7efe4071834827b500a9ba0bd7a0c8",
              "IPY_MODEL_a9df54c372514feeac53e438c8ba5fde",
              "IPY_MODEL_107f7954c51d4b06a0219a0d31c8b9a0"
            ],
            "layout": "IPY_MODEL_7e5e33a25d48404c809cb7d478792212"
          }
        },
        "4b7efe4071834827b500a9ba0bd7a0c8": {
          "model_module": "@jupyter-widgets/controls",
          "model_name": "HTMLModel",
          "model_module_version": "1.5.0",
          "state": {
            "_dom_classes": [],
            "_model_module": "@jupyter-widgets/controls",
            "_model_module_version": "1.5.0",
            "_model_name": "HTMLModel",
            "_view_count": null,
            "_view_module": "@jupyter-widgets/controls",
            "_view_module_version": "1.5.0",
            "_view_name": "HTMLView",
            "description": "",
            "description_tooltip": null,
            "layout": "IPY_MODEL_503b1ee2563e4b80b8e84828dd2a449c",
            "placeholder": "​",
            "style": "IPY_MODEL_0f4e069354204a0d95e5391fee6bb643",
            "value": "Downloading: 100%"
          }
        },
        "a9df54c372514feeac53e438c8ba5fde": {
          "model_module": "@jupyter-widgets/controls",
          "model_name": "FloatProgressModel",
          "model_module_version": "1.5.0",
          "state": {
            "_dom_classes": [],
            "_model_module": "@jupyter-widgets/controls",
            "_model_module_version": "1.5.0",
            "_model_name": "FloatProgressModel",
            "_view_count": null,
            "_view_module": "@jupyter-widgets/controls",
            "_view_module_version": "1.5.0",
            "_view_name": "ProgressView",
            "bar_style": "success",
            "description": "",
            "description_tooltip": null,
            "layout": "IPY_MODEL_f8139f0051254d799f3ec07adccd846b",
            "max": 231508,
            "min": 0,
            "orientation": "horizontal",
            "style": "IPY_MODEL_0b0824a8ca0b4cf6b52fd4f286d88825",
            "value": 231508
          }
        },
        "107f7954c51d4b06a0219a0d31c8b9a0": {
          "model_module": "@jupyter-widgets/controls",
          "model_name": "HTMLModel",
          "model_module_version": "1.5.0",
          "state": {
            "_dom_classes": [],
            "_model_module": "@jupyter-widgets/controls",
            "_model_module_version": "1.5.0",
            "_model_name": "HTMLModel",
            "_view_count": null,
            "_view_module": "@jupyter-widgets/controls",
            "_view_module_version": "1.5.0",
            "_view_name": "HTMLView",
            "description": "",
            "description_tooltip": null,
            "layout": "IPY_MODEL_2dad5e1f0be34eaca7c6101ce793b149",
            "placeholder": "​",
            "style": "IPY_MODEL_adc619b3fd03409b9116b9aa4488762c",
            "value": " 232k/232k [00:00&lt;00:00, 254kB/s]"
          }
        },
        "7e5e33a25d48404c809cb7d478792212": {
          "model_module": "@jupyter-widgets/base",
          "model_name": "LayoutModel",
          "model_module_version": "1.2.0",
          "state": {
            "_model_module": "@jupyter-widgets/base",
            "_model_module_version": "1.2.0",
            "_model_name": "LayoutModel",
            "_view_count": null,
            "_view_module": "@jupyter-widgets/base",
            "_view_module_version": "1.2.0",
            "_view_name": "LayoutView",
            "align_content": null,
            "align_items": null,
            "align_self": null,
            "border": null,
            "bottom": null,
            "display": null,
            "flex": null,
            "flex_flow": null,
            "grid_area": null,
            "grid_auto_columns": null,
            "grid_auto_flow": null,
            "grid_auto_rows": null,
            "grid_column": null,
            "grid_gap": null,
            "grid_row": null,
            "grid_template_areas": null,
            "grid_template_columns": null,
            "grid_template_rows": null,
            "height": null,
            "justify_content": null,
            "justify_items": null,
            "left": null,
            "margin": null,
            "max_height": null,
            "max_width": null,
            "min_height": null,
            "min_width": null,
            "object_fit": null,
            "object_position": null,
            "order": null,
            "overflow": null,
            "overflow_x": null,
            "overflow_y": null,
            "padding": null,
            "right": null,
            "top": null,
            "visibility": null,
            "width": null
          }
        },
        "503b1ee2563e4b80b8e84828dd2a449c": {
          "model_module": "@jupyter-widgets/base",
          "model_name": "LayoutModel",
          "model_module_version": "1.2.0",
          "state": {
            "_model_module": "@jupyter-widgets/base",
            "_model_module_version": "1.2.0",
            "_model_name": "LayoutModel",
            "_view_count": null,
            "_view_module": "@jupyter-widgets/base",
            "_view_module_version": "1.2.0",
            "_view_name": "LayoutView",
            "align_content": null,
            "align_items": null,
            "align_self": null,
            "border": null,
            "bottom": null,
            "display": null,
            "flex": null,
            "flex_flow": null,
            "grid_area": null,
            "grid_auto_columns": null,
            "grid_auto_flow": null,
            "grid_auto_rows": null,
            "grid_column": null,
            "grid_gap": null,
            "grid_row": null,
            "grid_template_areas": null,
            "grid_template_columns": null,
            "grid_template_rows": null,
            "height": null,
            "justify_content": null,
            "justify_items": null,
            "left": null,
            "margin": null,
            "max_height": null,
            "max_width": null,
            "min_height": null,
            "min_width": null,
            "object_fit": null,
            "object_position": null,
            "order": null,
            "overflow": null,
            "overflow_x": null,
            "overflow_y": null,
            "padding": null,
            "right": null,
            "top": null,
            "visibility": null,
            "width": null
          }
        },
        "0f4e069354204a0d95e5391fee6bb643": {
          "model_module": "@jupyter-widgets/controls",
          "model_name": "DescriptionStyleModel",
          "model_module_version": "1.5.0",
          "state": {
            "_model_module": "@jupyter-widgets/controls",
            "_model_module_version": "1.5.0",
            "_model_name": "DescriptionStyleModel",
            "_view_count": null,
            "_view_module": "@jupyter-widgets/base",
            "_view_module_version": "1.2.0",
            "_view_name": "StyleView",
            "description_width": ""
          }
        },
        "f8139f0051254d799f3ec07adccd846b": {
          "model_module": "@jupyter-widgets/base",
          "model_name": "LayoutModel",
          "model_module_version": "1.2.0",
          "state": {
            "_model_module": "@jupyter-widgets/base",
            "_model_module_version": "1.2.0",
            "_model_name": "LayoutModel",
            "_view_count": null,
            "_view_module": "@jupyter-widgets/base",
            "_view_module_version": "1.2.0",
            "_view_name": "LayoutView",
            "align_content": null,
            "align_items": null,
            "align_self": null,
            "border": null,
            "bottom": null,
            "display": null,
            "flex": null,
            "flex_flow": null,
            "grid_area": null,
            "grid_auto_columns": null,
            "grid_auto_flow": null,
            "grid_auto_rows": null,
            "grid_column": null,
            "grid_gap": null,
            "grid_row": null,
            "grid_template_areas": null,
            "grid_template_columns": null,
            "grid_template_rows": null,
            "height": null,
            "justify_content": null,
            "justify_items": null,
            "left": null,
            "margin": null,
            "max_height": null,
            "max_width": null,
            "min_height": null,
            "min_width": null,
            "object_fit": null,
            "object_position": null,
            "order": null,
            "overflow": null,
            "overflow_x": null,
            "overflow_y": null,
            "padding": null,
            "right": null,
            "top": null,
            "visibility": null,
            "width": null
          }
        },
        "0b0824a8ca0b4cf6b52fd4f286d88825": {
          "model_module": "@jupyter-widgets/controls",
          "model_name": "ProgressStyleModel",
          "model_module_version": "1.5.0",
          "state": {
            "_model_module": "@jupyter-widgets/controls",
            "_model_module_version": "1.5.0",
            "_model_name": "ProgressStyleModel",
            "_view_count": null,
            "_view_module": "@jupyter-widgets/base",
            "_view_module_version": "1.2.0",
            "_view_name": "StyleView",
            "bar_color": null,
            "description_width": ""
          }
        },
        "2dad5e1f0be34eaca7c6101ce793b149": {
          "model_module": "@jupyter-widgets/base",
          "model_name": "LayoutModel",
          "model_module_version": "1.2.0",
          "state": {
            "_model_module": "@jupyter-widgets/base",
            "_model_module_version": "1.2.0",
            "_model_name": "LayoutModel",
            "_view_count": null,
            "_view_module": "@jupyter-widgets/base",
            "_view_module_version": "1.2.0",
            "_view_name": "LayoutView",
            "align_content": null,
            "align_items": null,
            "align_self": null,
            "border": null,
            "bottom": null,
            "display": null,
            "flex": null,
            "flex_flow": null,
            "grid_area": null,
            "grid_auto_columns": null,
            "grid_auto_flow": null,
            "grid_auto_rows": null,
            "grid_column": null,
            "grid_gap": null,
            "grid_row": null,
            "grid_template_areas": null,
            "grid_template_columns": null,
            "grid_template_rows": null,
            "height": null,
            "justify_content": null,
            "justify_items": null,
            "left": null,
            "margin": null,
            "max_height": null,
            "max_width": null,
            "min_height": null,
            "min_width": null,
            "object_fit": null,
            "object_position": null,
            "order": null,
            "overflow": null,
            "overflow_x": null,
            "overflow_y": null,
            "padding": null,
            "right": null,
            "top": null,
            "visibility": null,
            "width": null
          }
        },
        "adc619b3fd03409b9116b9aa4488762c": {
          "model_module": "@jupyter-widgets/controls",
          "model_name": "DescriptionStyleModel",
          "model_module_version": "1.5.0",
          "state": {
            "_model_module": "@jupyter-widgets/controls",
            "_model_module_version": "1.5.0",
            "_model_name": "DescriptionStyleModel",
            "_view_count": null,
            "_view_module": "@jupyter-widgets/base",
            "_view_module_version": "1.2.0",
            "_view_name": "StyleView",
            "description_width": ""
          }
        },
        "b385ee6b81bd40a79a2f3624ddd4ffe2": {
          "model_module": "@jupyter-widgets/controls",
          "model_name": "HBoxModel",
          "model_module_version": "1.5.0",
          "state": {
            "_dom_classes": [],
            "_model_module": "@jupyter-widgets/controls",
            "_model_module_version": "1.5.0",
            "_model_name": "HBoxModel",
            "_view_count": null,
            "_view_module": "@jupyter-widgets/controls",
            "_view_module_version": "1.5.0",
            "_view_name": "HBoxView",
            "box_style": "",
            "children": [
              "IPY_MODEL_466f68c749b941ef86ec1057bb2c89a5",
              "IPY_MODEL_78faa3de1b414c2db9ca685060c87750",
              "IPY_MODEL_5d0028d3c8b14a21aee824fac70e9c46"
            ],
            "layout": "IPY_MODEL_d4ab808ea9244edc8773e041b57a4298"
          }
        },
        "466f68c749b941ef86ec1057bb2c89a5": {
          "model_module": "@jupyter-widgets/controls",
          "model_name": "HTMLModel",
          "model_module_version": "1.5.0",
          "state": {
            "_dom_classes": [],
            "_model_module": "@jupyter-widgets/controls",
            "_model_module_version": "1.5.0",
            "_model_name": "HTMLModel",
            "_view_count": null,
            "_view_module": "@jupyter-widgets/controls",
            "_view_module_version": "1.5.0",
            "_view_name": "HTMLView",
            "description": "",
            "description_tooltip": null,
            "layout": "IPY_MODEL_ced92f66bfc94a98b0ac28459e951edf",
            "placeholder": "​",
            "style": "IPY_MODEL_2694a3e286b743808168231302bd5f18",
            "value": "Downloading: 100%"
          }
        },
        "78faa3de1b414c2db9ca685060c87750": {
          "model_module": "@jupyter-widgets/controls",
          "model_name": "FloatProgressModel",
          "model_module_version": "1.5.0",
          "state": {
            "_dom_classes": [],
            "_model_module": "@jupyter-widgets/controls",
            "_model_module_version": "1.5.0",
            "_model_name": "FloatProgressModel",
            "_view_count": null,
            "_view_module": "@jupyter-widgets/controls",
            "_view_module_version": "1.5.0",
            "_view_name": "ProgressView",
            "bar_style": "success",
            "description": "",
            "description_tooltip": null,
            "layout": "IPY_MODEL_a0f4169277064390a25bdb69e09d43e1",
            "max": 466062,
            "min": 0,
            "orientation": "horizontal",
            "style": "IPY_MODEL_a22da4f1906e4f53b41a07d2576855e8",
            "value": 466062
          }
        },
        "5d0028d3c8b14a21aee824fac70e9c46": {
          "model_module": "@jupyter-widgets/controls",
          "model_name": "HTMLModel",
          "model_module_version": "1.5.0",
          "state": {
            "_dom_classes": [],
            "_model_module": "@jupyter-widgets/controls",
            "_model_module_version": "1.5.0",
            "_model_name": "HTMLModel",
            "_view_count": null,
            "_view_module": "@jupyter-widgets/controls",
            "_view_module_version": "1.5.0",
            "_view_name": "HTMLView",
            "description": "",
            "description_tooltip": null,
            "layout": "IPY_MODEL_1ded7d4df8cf4c8484cbeea08b363102",
            "placeholder": "​",
            "style": "IPY_MODEL_3bbcf6af72e944fe87b3fdaead67ae34",
            "value": " 466k/466k [00:01&lt;00:00, 520kB/s]"
          }
        },
        "d4ab808ea9244edc8773e041b57a4298": {
          "model_module": "@jupyter-widgets/base",
          "model_name": "LayoutModel",
          "model_module_version": "1.2.0",
          "state": {
            "_model_module": "@jupyter-widgets/base",
            "_model_module_version": "1.2.0",
            "_model_name": "LayoutModel",
            "_view_count": null,
            "_view_module": "@jupyter-widgets/base",
            "_view_module_version": "1.2.0",
            "_view_name": "LayoutView",
            "align_content": null,
            "align_items": null,
            "align_self": null,
            "border": null,
            "bottom": null,
            "display": null,
            "flex": null,
            "flex_flow": null,
            "grid_area": null,
            "grid_auto_columns": null,
            "grid_auto_flow": null,
            "grid_auto_rows": null,
            "grid_column": null,
            "grid_gap": null,
            "grid_row": null,
            "grid_template_areas": null,
            "grid_template_columns": null,
            "grid_template_rows": null,
            "height": null,
            "justify_content": null,
            "justify_items": null,
            "left": null,
            "margin": null,
            "max_height": null,
            "max_width": null,
            "min_height": null,
            "min_width": null,
            "object_fit": null,
            "object_position": null,
            "order": null,
            "overflow": null,
            "overflow_x": null,
            "overflow_y": null,
            "padding": null,
            "right": null,
            "top": null,
            "visibility": null,
            "width": null
          }
        },
        "ced92f66bfc94a98b0ac28459e951edf": {
          "model_module": "@jupyter-widgets/base",
          "model_name": "LayoutModel",
          "model_module_version": "1.2.0",
          "state": {
            "_model_module": "@jupyter-widgets/base",
            "_model_module_version": "1.2.0",
            "_model_name": "LayoutModel",
            "_view_count": null,
            "_view_module": "@jupyter-widgets/base",
            "_view_module_version": "1.2.0",
            "_view_name": "LayoutView",
            "align_content": null,
            "align_items": null,
            "align_self": null,
            "border": null,
            "bottom": null,
            "display": null,
            "flex": null,
            "flex_flow": null,
            "grid_area": null,
            "grid_auto_columns": null,
            "grid_auto_flow": null,
            "grid_auto_rows": null,
            "grid_column": null,
            "grid_gap": null,
            "grid_row": null,
            "grid_template_areas": null,
            "grid_template_columns": null,
            "grid_template_rows": null,
            "height": null,
            "justify_content": null,
            "justify_items": null,
            "left": null,
            "margin": null,
            "max_height": null,
            "max_width": null,
            "min_height": null,
            "min_width": null,
            "object_fit": null,
            "object_position": null,
            "order": null,
            "overflow": null,
            "overflow_x": null,
            "overflow_y": null,
            "padding": null,
            "right": null,
            "top": null,
            "visibility": null,
            "width": null
          }
        },
        "2694a3e286b743808168231302bd5f18": {
          "model_module": "@jupyter-widgets/controls",
          "model_name": "DescriptionStyleModel",
          "model_module_version": "1.5.0",
          "state": {
            "_model_module": "@jupyter-widgets/controls",
            "_model_module_version": "1.5.0",
            "_model_name": "DescriptionStyleModel",
            "_view_count": null,
            "_view_module": "@jupyter-widgets/base",
            "_view_module_version": "1.2.0",
            "_view_name": "StyleView",
            "description_width": ""
          }
        },
        "a0f4169277064390a25bdb69e09d43e1": {
          "model_module": "@jupyter-widgets/base",
          "model_name": "LayoutModel",
          "model_module_version": "1.2.0",
          "state": {
            "_model_module": "@jupyter-widgets/base",
            "_model_module_version": "1.2.0",
            "_model_name": "LayoutModel",
            "_view_count": null,
            "_view_module": "@jupyter-widgets/base",
            "_view_module_version": "1.2.0",
            "_view_name": "LayoutView",
            "align_content": null,
            "align_items": null,
            "align_self": null,
            "border": null,
            "bottom": null,
            "display": null,
            "flex": null,
            "flex_flow": null,
            "grid_area": null,
            "grid_auto_columns": null,
            "grid_auto_flow": null,
            "grid_auto_rows": null,
            "grid_column": null,
            "grid_gap": null,
            "grid_row": null,
            "grid_template_areas": null,
            "grid_template_columns": null,
            "grid_template_rows": null,
            "height": null,
            "justify_content": null,
            "justify_items": null,
            "left": null,
            "margin": null,
            "max_height": null,
            "max_width": null,
            "min_height": null,
            "min_width": null,
            "object_fit": null,
            "object_position": null,
            "order": null,
            "overflow": null,
            "overflow_x": null,
            "overflow_y": null,
            "padding": null,
            "right": null,
            "top": null,
            "visibility": null,
            "width": null
          }
        },
        "a22da4f1906e4f53b41a07d2576855e8": {
          "model_module": "@jupyter-widgets/controls",
          "model_name": "ProgressStyleModel",
          "model_module_version": "1.5.0",
          "state": {
            "_model_module": "@jupyter-widgets/controls",
            "_model_module_version": "1.5.0",
            "_model_name": "ProgressStyleModel",
            "_view_count": null,
            "_view_module": "@jupyter-widgets/base",
            "_view_module_version": "1.2.0",
            "_view_name": "StyleView",
            "bar_color": null,
            "description_width": ""
          }
        },
        "1ded7d4df8cf4c8484cbeea08b363102": {
          "model_module": "@jupyter-widgets/base",
          "model_name": "LayoutModel",
          "model_module_version": "1.2.0",
          "state": {
            "_model_module": "@jupyter-widgets/base",
            "_model_module_version": "1.2.0",
            "_model_name": "LayoutModel",
            "_view_count": null,
            "_view_module": "@jupyter-widgets/base",
            "_view_module_version": "1.2.0",
            "_view_name": "LayoutView",
            "align_content": null,
            "align_items": null,
            "align_self": null,
            "border": null,
            "bottom": null,
            "display": null,
            "flex": null,
            "flex_flow": null,
            "grid_area": null,
            "grid_auto_columns": null,
            "grid_auto_flow": null,
            "grid_auto_rows": null,
            "grid_column": null,
            "grid_gap": null,
            "grid_row": null,
            "grid_template_areas": null,
            "grid_template_columns": null,
            "grid_template_rows": null,
            "height": null,
            "justify_content": null,
            "justify_items": null,
            "left": null,
            "margin": null,
            "max_height": null,
            "max_width": null,
            "min_height": null,
            "min_width": null,
            "object_fit": null,
            "object_position": null,
            "order": null,
            "overflow": null,
            "overflow_x": null,
            "overflow_y": null,
            "padding": null,
            "right": null,
            "top": null,
            "visibility": null,
            "width": null
          }
        },
        "3bbcf6af72e944fe87b3fdaead67ae34": {
          "model_module": "@jupyter-widgets/controls",
          "model_name": "DescriptionStyleModel",
          "model_module_version": "1.5.0",
          "state": {
            "_model_module": "@jupyter-widgets/controls",
            "_model_module_version": "1.5.0",
            "_model_name": "DescriptionStyleModel",
            "_view_count": null,
            "_view_module": "@jupyter-widgets/base",
            "_view_module_version": "1.2.0",
            "_view_name": "StyleView",
            "description_width": ""
          }
        },
        "45c5433bbe7c4c1f8c12ae7a6dcf075d": {
          "model_module": "@jupyter-widgets/controls",
          "model_name": "HBoxModel",
          "model_module_version": "1.5.0",
          "state": {
            "_dom_classes": [],
            "_model_module": "@jupyter-widgets/controls",
            "_model_module_version": "1.5.0",
            "_model_name": "HBoxModel",
            "_view_count": null,
            "_view_module": "@jupyter-widgets/controls",
            "_view_module_version": "1.5.0",
            "_view_name": "HBoxView",
            "box_style": "",
            "children": [
              "IPY_MODEL_826495cdabc3411bb3206d5cd228ab3a",
              "IPY_MODEL_9b897c722e6a4913846ef1c3382fdebf",
              "IPY_MODEL_9e66d0fee44e4cd4a603d7a4d8c0efbe"
            ],
            "layout": "IPY_MODEL_21e9d63bcbb94fea811ba456641a5283"
          }
        },
        "826495cdabc3411bb3206d5cd228ab3a": {
          "model_module": "@jupyter-widgets/controls",
          "model_name": "HTMLModel",
          "model_module_version": "1.5.0",
          "state": {
            "_dom_classes": [],
            "_model_module": "@jupyter-widgets/controls",
            "_model_module_version": "1.5.0",
            "_model_name": "HTMLModel",
            "_view_count": null,
            "_view_module": "@jupyter-widgets/controls",
            "_view_module_version": "1.5.0",
            "_view_name": "HTMLView",
            "description": "",
            "description_tooltip": null,
            "layout": "IPY_MODEL_50f092ff2f5f4533b35059ed8ee0e9d5",
            "placeholder": "​",
            "style": "IPY_MODEL_5a724f628d034284bd088e47132db16f",
            "value": "Downloading: 100%"
          }
        },
        "9b897c722e6a4913846ef1c3382fdebf": {
          "model_module": "@jupyter-widgets/controls",
          "model_name": "FloatProgressModel",
          "model_module_version": "1.5.0",
          "state": {
            "_dom_classes": [],
            "_model_module": "@jupyter-widgets/controls",
            "_model_module_version": "1.5.0",
            "_model_name": "FloatProgressModel",
            "_view_count": null,
            "_view_module": "@jupyter-widgets/controls",
            "_view_module_version": "1.5.0",
            "_view_name": "ProgressView",
            "bar_style": "success",
            "description": "",
            "description_tooltip": null,
            "layout": "IPY_MODEL_495fe6045f10492c9b3f62f6b5e6264c",
            "max": 536063208,
            "min": 0,
            "orientation": "horizontal",
            "style": "IPY_MODEL_ef24ca7f5d36443d9b282387c257006a",
            "value": 536063208
          }
        },
        "9e66d0fee44e4cd4a603d7a4d8c0efbe": {
          "model_module": "@jupyter-widgets/controls",
          "model_name": "HTMLModel",
          "model_module_version": "1.5.0",
          "state": {
            "_dom_classes": [],
            "_model_module": "@jupyter-widgets/controls",
            "_model_module_version": "1.5.0",
            "_model_name": "HTMLModel",
            "_view_count": null,
            "_view_module": "@jupyter-widgets/controls",
            "_view_module_version": "1.5.0",
            "_view_name": "HTMLView",
            "description": "",
            "description_tooltip": null,
            "layout": "IPY_MODEL_06b8ff5c96f443d990ccea36631cc1fc",
            "placeholder": "​",
            "style": "IPY_MODEL_0ac25b7de41b44ebb9bdc4f6bfac76bd",
            "value": " 536M/536M [00:09&lt;00:00, 58.6MB/s]"
          }
        },
        "21e9d63bcbb94fea811ba456641a5283": {
          "model_module": "@jupyter-widgets/base",
          "model_name": "LayoutModel",
          "model_module_version": "1.2.0",
          "state": {
            "_model_module": "@jupyter-widgets/base",
            "_model_module_version": "1.2.0",
            "_model_name": "LayoutModel",
            "_view_count": null,
            "_view_module": "@jupyter-widgets/base",
            "_view_module_version": "1.2.0",
            "_view_name": "LayoutView",
            "align_content": null,
            "align_items": null,
            "align_self": null,
            "border": null,
            "bottom": null,
            "display": null,
            "flex": null,
            "flex_flow": null,
            "grid_area": null,
            "grid_auto_columns": null,
            "grid_auto_flow": null,
            "grid_auto_rows": null,
            "grid_column": null,
            "grid_gap": null,
            "grid_row": null,
            "grid_template_areas": null,
            "grid_template_columns": null,
            "grid_template_rows": null,
            "height": null,
            "justify_content": null,
            "justify_items": null,
            "left": null,
            "margin": null,
            "max_height": null,
            "max_width": null,
            "min_height": null,
            "min_width": null,
            "object_fit": null,
            "object_position": null,
            "order": null,
            "overflow": null,
            "overflow_x": null,
            "overflow_y": null,
            "padding": null,
            "right": null,
            "top": null,
            "visibility": null,
            "width": null
          }
        },
        "50f092ff2f5f4533b35059ed8ee0e9d5": {
          "model_module": "@jupyter-widgets/base",
          "model_name": "LayoutModel",
          "model_module_version": "1.2.0",
          "state": {
            "_model_module": "@jupyter-widgets/base",
            "_model_module_version": "1.2.0",
            "_model_name": "LayoutModel",
            "_view_count": null,
            "_view_module": "@jupyter-widgets/base",
            "_view_module_version": "1.2.0",
            "_view_name": "LayoutView",
            "align_content": null,
            "align_items": null,
            "align_self": null,
            "border": null,
            "bottom": null,
            "display": null,
            "flex": null,
            "flex_flow": null,
            "grid_area": null,
            "grid_auto_columns": null,
            "grid_auto_flow": null,
            "grid_auto_rows": null,
            "grid_column": null,
            "grid_gap": null,
            "grid_row": null,
            "grid_template_areas": null,
            "grid_template_columns": null,
            "grid_template_rows": null,
            "height": null,
            "justify_content": null,
            "justify_items": null,
            "left": null,
            "margin": null,
            "max_height": null,
            "max_width": null,
            "min_height": null,
            "min_width": null,
            "object_fit": null,
            "object_position": null,
            "order": null,
            "overflow": null,
            "overflow_x": null,
            "overflow_y": null,
            "padding": null,
            "right": null,
            "top": null,
            "visibility": null,
            "width": null
          }
        },
        "5a724f628d034284bd088e47132db16f": {
          "model_module": "@jupyter-widgets/controls",
          "model_name": "DescriptionStyleModel",
          "model_module_version": "1.5.0",
          "state": {
            "_model_module": "@jupyter-widgets/controls",
            "_model_module_version": "1.5.0",
            "_model_name": "DescriptionStyleModel",
            "_view_count": null,
            "_view_module": "@jupyter-widgets/base",
            "_view_module_version": "1.2.0",
            "_view_name": "StyleView",
            "description_width": ""
          }
        },
        "495fe6045f10492c9b3f62f6b5e6264c": {
          "model_module": "@jupyter-widgets/base",
          "model_name": "LayoutModel",
          "model_module_version": "1.2.0",
          "state": {
            "_model_module": "@jupyter-widgets/base",
            "_model_module_version": "1.2.0",
            "_model_name": "LayoutModel",
            "_view_count": null,
            "_view_module": "@jupyter-widgets/base",
            "_view_module_version": "1.2.0",
            "_view_name": "LayoutView",
            "align_content": null,
            "align_items": null,
            "align_self": null,
            "border": null,
            "bottom": null,
            "display": null,
            "flex": null,
            "flex_flow": null,
            "grid_area": null,
            "grid_auto_columns": null,
            "grid_auto_flow": null,
            "grid_auto_rows": null,
            "grid_column": null,
            "grid_gap": null,
            "grid_row": null,
            "grid_template_areas": null,
            "grid_template_columns": null,
            "grid_template_rows": null,
            "height": null,
            "justify_content": null,
            "justify_items": null,
            "left": null,
            "margin": null,
            "max_height": null,
            "max_width": null,
            "min_height": null,
            "min_width": null,
            "object_fit": null,
            "object_position": null,
            "order": null,
            "overflow": null,
            "overflow_x": null,
            "overflow_y": null,
            "padding": null,
            "right": null,
            "top": null,
            "visibility": null,
            "width": null
          }
        },
        "ef24ca7f5d36443d9b282387c257006a": {
          "model_module": "@jupyter-widgets/controls",
          "model_name": "ProgressStyleModel",
          "model_module_version": "1.5.0",
          "state": {
            "_model_module": "@jupyter-widgets/controls",
            "_model_module_version": "1.5.0",
            "_model_name": "ProgressStyleModel",
            "_view_count": null,
            "_view_module": "@jupyter-widgets/base",
            "_view_module_version": "1.2.0",
            "_view_name": "StyleView",
            "bar_color": null,
            "description_width": ""
          }
        },
        "06b8ff5c96f443d990ccea36631cc1fc": {
          "model_module": "@jupyter-widgets/base",
          "model_name": "LayoutModel",
          "model_module_version": "1.2.0",
          "state": {
            "_model_module": "@jupyter-widgets/base",
            "_model_module_version": "1.2.0",
            "_model_name": "LayoutModel",
            "_view_count": null,
            "_view_module": "@jupyter-widgets/base",
            "_view_module_version": "1.2.0",
            "_view_name": "LayoutView",
            "align_content": null,
            "align_items": null,
            "align_self": null,
            "border": null,
            "bottom": null,
            "display": null,
            "flex": null,
            "flex_flow": null,
            "grid_area": null,
            "grid_auto_columns": null,
            "grid_auto_flow": null,
            "grid_auto_rows": null,
            "grid_column": null,
            "grid_gap": null,
            "grid_row": null,
            "grid_template_areas": null,
            "grid_template_columns": null,
            "grid_template_rows": null,
            "height": null,
            "justify_content": null,
            "justify_items": null,
            "left": null,
            "margin": null,
            "max_height": null,
            "max_width": null,
            "min_height": null,
            "min_width": null,
            "object_fit": null,
            "object_position": null,
            "order": null,
            "overflow": null,
            "overflow_x": null,
            "overflow_y": null,
            "padding": null,
            "right": null,
            "top": null,
            "visibility": null,
            "width": null
          }
        },
        "0ac25b7de41b44ebb9bdc4f6bfac76bd": {
          "model_module": "@jupyter-widgets/controls",
          "model_name": "DescriptionStyleModel",
          "model_module_version": "1.5.0",
          "state": {
            "_model_module": "@jupyter-widgets/controls",
            "_model_module_version": "1.5.0",
            "_model_name": "DescriptionStyleModel",
            "_view_count": null,
            "_view_module": "@jupyter-widgets/base",
            "_view_module_version": "1.2.0",
            "_view_name": "StyleView",
            "description_width": ""
          }
        }
      }
    }
  },
  "cells": [
    {
      "cell_type": "code",
      "execution_count": null,
      "metadata": {
        "id": "q7feVVqlc_Hr",
        "colab": {
          "base_uri": "https://localhost:8080/"
        },
        "outputId": "14c3930f-be50-4e6e-c083-4e78a80e84a7"
      },
      "outputs": [
        {
          "output_type": "stream",
          "name": "stdout",
          "text": [
            "Mounted at /content/drive\n"
          ]
        }
      ],
      "source": [
        "from google.colab import drive\n",
        "drive.mount('/content/drive')"
      ]
    },
    {
      "cell_type": "markdown",
      "source": [
        "# Libraries"
      ],
      "metadata": {
        "id": "H7vS3zFUjZSn"
      }
    },
    {
      "cell_type": "code",
      "execution_count": null,
      "metadata": {
        "id": "LuB6ODLFdNzP"
      },
      "outputs": [],
      "source": [
        "# Insert the directory\n",
        "import sys\n",
        "sys.path.insert(0,'/content/drive/Shareddrives/ProgettoHLT/FakeNewsDetection')"
      ]
    },
    {
      "cell_type": "code",
      "source": [
        "PATH= '/content/drive/Shareddrives/ProgettoHLT/FakeNewsDetection/Data/'"
      ],
      "metadata": {
        "id": "SaYk0UQH5zKP"
      },
      "execution_count": null,
      "outputs": []
    },
    {
      "cell_type": "code",
      "source": [
        "import numpy as np\n",
        "import seaborn as sns\n",
        "import pandas as pd\n",
        "import tensorflow as tf\n",
        "from tensorflow.keras.models import Sequential, Model\n",
        "from tensorflow.keras.layers import Input, Dense, Embedding, LSTM, Bidirectional, Dropout, GlobalMaxPool1D\n",
        "from tensorflow.keras.callbacks import Callback\n",
        "from tensorflow.keras.callbacks import EarlyStopping\n",
        "from tensorflow.keras.optimizers import Adam\n",
        "from decimal import Decimal\n",
        "from sklearn.metrics import classification_report, accuracy_score\n",
        "from sklearn.metrics import confusion_matrix\n",
        "import matplotlib.pyplot as plt\n",
        "import warnings\n",
        "warnings.filterwarnings(\"ignore\")"
      ],
      "metadata": {
        "id": "qIN47l2qJ9Uz"
      },
      "execution_count": null,
      "outputs": []
    },
    {
      "cell_type": "code",
      "source": [
        "!pip install transformers"
      ],
      "metadata": {
        "colab": {
          "base_uri": "https://localhost:8080/"
        },
        "id": "NsreO6GCKHE9",
        "outputId": "1bb0abbb-8478-4e79-fbed-b805f74bd5bc"
      },
      "execution_count": null,
      "outputs": [
        {
          "output_type": "stream",
          "name": "stdout",
          "text": [
            "Looking in indexes: https://pypi.org/simple, https://us-python.pkg.dev/colab-wheels/public/simple/\n",
            "Collecting transformers\n",
            "  Downloading transformers-4.23.1-py3-none-any.whl (5.3 MB)\n",
            "\u001b[K     |████████████████████████████████| 5.3 MB 33.5 MB/s \n",
            "\u001b[?25hRequirement already satisfied: packaging>=20.0 in /usr/local/lib/python3.7/dist-packages (from transformers) (21.3)\n",
            "Requirement already satisfied: tqdm>=4.27 in /usr/local/lib/python3.7/dist-packages (from transformers) (4.64.1)\n",
            "Requirement already satisfied: importlib-metadata in /usr/local/lib/python3.7/dist-packages (from transformers) (5.0.0)\n",
            "Requirement already satisfied: pyyaml>=5.1 in /usr/local/lib/python3.7/dist-packages (from transformers) (6.0)\n",
            "Requirement already satisfied: regex!=2019.12.17 in /usr/local/lib/python3.7/dist-packages (from transformers) (2022.6.2)\n",
            "Collecting tokenizers!=0.11.3,<0.14,>=0.11.1\n",
            "  Downloading tokenizers-0.13.1-cp37-cp37m-manylinux_2_17_x86_64.manylinux2014_x86_64.whl (7.6 MB)\n",
            "\u001b[K     |████████████████████████████████| 7.6 MB 55.4 MB/s \n",
            "\u001b[?25hRequirement already satisfied: numpy>=1.17 in /usr/local/lib/python3.7/dist-packages (from transformers) (1.21.6)\n",
            "Collecting huggingface-hub<1.0,>=0.10.0\n",
            "  Downloading huggingface_hub-0.10.1-py3-none-any.whl (163 kB)\n",
            "\u001b[K     |████████████████████████████████| 163 kB 72.8 MB/s \n",
            "\u001b[?25hRequirement already satisfied: filelock in /usr/local/lib/python3.7/dist-packages (from transformers) (3.8.0)\n",
            "Requirement already satisfied: requests in /usr/local/lib/python3.7/dist-packages (from transformers) (2.23.0)\n",
            "Requirement already satisfied: typing-extensions>=3.7.4.3 in /usr/local/lib/python3.7/dist-packages (from huggingface-hub<1.0,>=0.10.0->transformers) (4.1.1)\n",
            "Requirement already satisfied: pyparsing!=3.0.5,>=2.0.2 in /usr/local/lib/python3.7/dist-packages (from packaging>=20.0->transformers) (3.0.9)\n",
            "Requirement already satisfied: zipp>=0.5 in /usr/local/lib/python3.7/dist-packages (from importlib-metadata->transformers) (3.9.0)\n",
            "Requirement already satisfied: urllib3!=1.25.0,!=1.25.1,<1.26,>=1.21.1 in /usr/local/lib/python3.7/dist-packages (from requests->transformers) (1.24.3)\n",
            "Requirement already satisfied: idna<3,>=2.5 in /usr/local/lib/python3.7/dist-packages (from requests->transformers) (2.10)\n",
            "Requirement already satisfied: chardet<4,>=3.0.2 in /usr/local/lib/python3.7/dist-packages (from requests->transformers) (3.0.4)\n",
            "Requirement already satisfied: certifi>=2017.4.17 in /usr/local/lib/python3.7/dist-packages (from requests->transformers) (2022.9.24)\n",
            "Installing collected packages: tokenizers, huggingface-hub, transformers\n",
            "Successfully installed huggingface-hub-0.10.1 tokenizers-0.13.1 transformers-4.23.1\n"
          ]
        }
      ]
    },
    {
      "cell_type": "code",
      "source": [
        "train = pd.read_csv('/content/drive/Shareddrives/ProgettoHLT/FakeNewsDetection/Data/train.csv')\n",
        "test = pd.read_csv('/content/drive/Shareddrives/ProgettoHLT/FakeNewsDetection/Data/test.csv')"
      ],
      "metadata": {
        "id": "jCV_RzUjJydX"
      },
      "execution_count": null,
      "outputs": []
    },
    {
      "cell_type": "markdown",
      "source": [
        "# BERT"
      ],
      "metadata": {
        "id": "xCUkA_u3jciT"
      }
    },
    {
      "cell_type": "code",
      "source": [
        "from transformers import AutoTokenizer\n",
        "\n",
        "SEQ_LEN = 317  # we will cut/pad our sequences to a length of 317 tokens\n",
        "\n",
        "tokenizer = AutoTokenizer.from_pretrained('bert-base-uncased')\n",
        "\n",
        "def tokenize(sentence):\n",
        "    tokens = tokenizer.encode_plus(sentence, max_length=SEQ_LEN,\n",
        "                                   truncation=True, padding='max_length',\n",
        "                                   add_special_tokens=True, return_attention_mask=True,\n",
        "                                   return_token_type_ids=False, return_tensors='tf')\n",
        "    return tokens['input_ids'], tokens['attention_mask']"
      ],
      "metadata": {
        "id": "9z_hw3HCGtDz",
        "colab": {
          "base_uri": "https://localhost:8080/",
          "height": 145,
          "referenced_widgets": [
            "4c5b026d550d4c61902acd8c5f87fd18",
            "d04fa8d2880941d7b14f166ffb12576d",
            "2734b86d60f047838d588bbb2229414b",
            "2dfb9801cebb467ba01881a260a162e5",
            "107f3298649046da9bbe6de0b3c3e8cc",
            "0db3bcf2f5f843158416c96c9850e152",
            "347381c68d844acfb72a21556f14f904",
            "0299c962b99f4ea39f7b345c758eba65",
            "3f2fa896a625470bbb3e363e2990ba3b",
            "394fe0c730f1400ea5a883d541567f00",
            "b92d41db9b754f2284561c0d128a7a18",
            "730ace79c0054a0d82e52ed8b01ff8a0",
            "194ddfbd49844bbcb1f90141afe824d9",
            "8b4f96fb2c8f4fb7ac1bd1f86130700a",
            "d4bd7019a05c4905817e3b45833c61fe",
            "1955de624e1d46a5aa20109820a41590",
            "13c2257a834148f4b22c6d1d5aec011e",
            "9a96569233534db0817502338433f333",
            "9b4f0d1c47a644a09773ac755751616a",
            "d3484b0ab51140e59e82af17f75b1f99",
            "00a7e5d855444521a3947ec1aa14caf8",
            "40fb254d55494f1398e890df1b8fd333",
            "af85bb07a1b24419b9b09a7c46bcc47b",
            "4b7efe4071834827b500a9ba0bd7a0c8",
            "a9df54c372514feeac53e438c8ba5fde",
            "107f7954c51d4b06a0219a0d31c8b9a0",
            "7e5e33a25d48404c809cb7d478792212",
            "503b1ee2563e4b80b8e84828dd2a449c",
            "0f4e069354204a0d95e5391fee6bb643",
            "f8139f0051254d799f3ec07adccd846b",
            "0b0824a8ca0b4cf6b52fd4f286d88825",
            "2dad5e1f0be34eaca7c6101ce793b149",
            "adc619b3fd03409b9116b9aa4488762c",
            "b385ee6b81bd40a79a2f3624ddd4ffe2",
            "466f68c749b941ef86ec1057bb2c89a5",
            "78faa3de1b414c2db9ca685060c87750",
            "5d0028d3c8b14a21aee824fac70e9c46",
            "d4ab808ea9244edc8773e041b57a4298",
            "ced92f66bfc94a98b0ac28459e951edf",
            "2694a3e286b743808168231302bd5f18",
            "a0f4169277064390a25bdb69e09d43e1",
            "a22da4f1906e4f53b41a07d2576855e8",
            "1ded7d4df8cf4c8484cbeea08b363102",
            "3bbcf6af72e944fe87b3fdaead67ae34"
          ]
        },
        "outputId": "ed428a30-29a7-49b2-a55f-3f0aa8167f34"
      },
      "execution_count": null,
      "outputs": [
        {
          "output_type": "display_data",
          "data": {
            "text/plain": [
              "Downloading:   0%|          | 0.00/28.0 [00:00<?, ?B/s]"
            ],
            "application/vnd.jupyter.widget-view+json": {
              "version_major": 2,
              "version_minor": 0,
              "model_id": "4c5b026d550d4c61902acd8c5f87fd18"
            }
          },
          "metadata": {}
        },
        {
          "output_type": "display_data",
          "data": {
            "text/plain": [
              "Downloading:   0%|          | 0.00/570 [00:00<?, ?B/s]"
            ],
            "application/vnd.jupyter.widget-view+json": {
              "version_major": 2,
              "version_minor": 0,
              "model_id": "730ace79c0054a0d82e52ed8b01ff8a0"
            }
          },
          "metadata": {}
        },
        {
          "output_type": "display_data",
          "data": {
            "text/plain": [
              "Downloading:   0%|          | 0.00/232k [00:00<?, ?B/s]"
            ],
            "application/vnd.jupyter.widget-view+json": {
              "version_major": 2,
              "version_minor": 0,
              "model_id": "af85bb07a1b24419b9b09a7c46bcc47b"
            }
          },
          "metadata": {}
        },
        {
          "output_type": "display_data",
          "data": {
            "text/plain": [
              "Downloading:   0%|          | 0.00/466k [00:00<?, ?B/s]"
            ],
            "application/vnd.jupyter.widget-view+json": {
              "version_major": 2,
              "version_minor": 0,
              "model_id": "b385ee6b81bd40a79a2f3624ddd4ffe2"
            }
          },
          "metadata": {}
        }
      ]
    },
    {
      "cell_type": "code",
      "source": [
        "# initialize two arrays for input tensors\n",
        "Xids = np.zeros((len(train['text']), SEQ_LEN))\n",
        "Xmask = np.zeros((len(train['text']), SEQ_LEN))\n",
        "\n",
        "for i, sentence in enumerate(train['text']):\n",
        "    Xids[i, :], Xmask[i, :] = tokenize(sentence)\n",
        "\n",
        "labels= train['label'] "
      ],
      "metadata": {
        "id": "WJ4zYqSmx8ln"
      },
      "execution_count": null,
      "outputs": []
    },
    {
      "cell_type": "code",
      "source": [
        "BATCH_SIZE = 128  # we will use batches of 128\n",
        "\n",
        "# load arrays into tensorflow dataset\n",
        "dataset = tf.data.Dataset.from_tensor_slices((Xids, Xmask, labels))\n",
        "\n",
        "# create a mapping function that we use to restructure our dataset\n",
        "def map_func(input_ids, masks, labels):\n",
        "    return {'input_ids': input_ids, 'attention_mask': masks}, labels\n",
        "\n",
        "# using map method to apply map_func to dataset\n",
        "dataset = dataset.map(map_func)\n",
        "\n",
        "# batch data\n",
        "dataset = dataset.batch(BATCH_SIZE) \n",
        "train=dataset"
      ],
      "metadata": {
        "id": "QIfyKzDMHVWK"
      },
      "execution_count": null,
      "outputs": []
    },
    {
      "cell_type": "code",
      "source": [
        "XidsTest = np.zeros((len(test['text']), SEQ_LEN))\n",
        "XmaskTest = np.zeros((len(test['text']), SEQ_LEN))\n",
        "\n",
        "for i, sentence in enumerate(test['text']):\n",
        "    XidsTest[i, :], XmaskTest[i, :] = tokenize(sentence)\n",
        "\n",
        "labelsT= test['label']\n",
        "\n",
        "dataset = tf.data.Dataset.from_tensor_slices((XidsTest, XmaskTest, labelsT))\n",
        "dataset = dataset.map(map_func)\n",
        "dataset = dataset.batch(BATCH_SIZE)\n",
        "test = dataset\n",
        "\n",
        "del dataset  # delete dataset to free up disk-space"
      ],
      "metadata": {
        "id": "6utMEIfTHZGb"
      },
      "execution_count": null,
      "outputs": []
    },
    {
      "cell_type": "markdown",
      "source": [
        "# Best Model"
      ],
      "metadata": {
        "id": "Xuwf3cKWjsOH"
      }
    },
    {
      "cell_type": "code",
      "source": [
        "from transformers import TFAutoModel\n",
        "\n",
        "# initialize uncased BERT model\n",
        "bert = TFAutoModel.from_pretrained('bert-base-uncased')\n",
        "\n",
        "input_ids = Input(shape=(317,), name='input_ids', dtype='int32')\n",
        "mask = Input(shape=(317,), name='attention_mask', dtype='int32')\n",
        "\n",
        "# we consume the last_hidden_state tensor from bert (discarding pooled_outputs)\n",
        "embeddings = bert(input_ids, attention_mask=mask)[0]\n",
        "\n",
        "X = Bidirectional(LSTM(64, return_sequences= True))(embeddings)\n",
        "X = GlobalMaxPool1D()(X)\n",
        "X = Dropout(0.3)(X)\n",
        "\n",
        "X = Dense(32, activation='relu')(X)\n",
        "y = Dense(1, activation='sigmoid', name='outputs')(X)\n",
        "\n",
        "# define input and output layers of our model\n",
        "best_model = Model(inputs=[input_ids, mask], outputs=y)\n",
        "\n",
        "# freeze the BERT layer - otherwise we will be training 100M+ parameters...\n",
        "best_model.layers[2].trainable = False\n",
        "\n",
        "best_model.compile(optimizer=Adam(lr=0.0005, clipnorm=3), loss=\"binary_crossentropy\", metrics=['accuracy'])"
      ],
      "metadata": {
        "id": "30ClHsjzHeOT",
        "colab": {
          "base_uri": "https://localhost:8080/",
          "height": 156,
          "referenced_widgets": [
            "45c5433bbe7c4c1f8c12ae7a6dcf075d",
            "826495cdabc3411bb3206d5cd228ab3a",
            "9b897c722e6a4913846ef1c3382fdebf",
            "9e66d0fee44e4cd4a603d7a4d8c0efbe",
            "21e9d63bcbb94fea811ba456641a5283",
            "50f092ff2f5f4533b35059ed8ee0e9d5",
            "5a724f628d034284bd088e47132db16f",
            "495fe6045f10492c9b3f62f6b5e6264c",
            "ef24ca7f5d36443d9b282387c257006a",
            "06b8ff5c96f443d990ccea36631cc1fc",
            "0ac25b7de41b44ebb9bdc4f6bfac76bd"
          ]
        },
        "outputId": "4b65c7ed-97cf-4faf-f91d-92673558da32"
      },
      "execution_count": null,
      "outputs": [
        {
          "output_type": "display_data",
          "data": {
            "text/plain": [
              "Downloading:   0%|          | 0.00/536M [00:00<?, ?B/s]"
            ],
            "application/vnd.jupyter.widget-view+json": {
              "version_major": 2,
              "version_minor": 0,
              "model_id": "45c5433bbe7c4c1f8c12ae7a6dcf075d"
            }
          },
          "metadata": {}
        },
        {
          "output_type": "stream",
          "name": "stderr",
          "text": [
            "Some layers from the model checkpoint at bert-base-uncased were not used when initializing TFBertModel: ['nsp___cls', 'mlm___cls']\n",
            "- This IS expected if you are initializing TFBertModel from the checkpoint of a model trained on another task or with another architecture (e.g. initializing a BertForSequenceClassification model from a BertForPreTraining model).\n",
            "- This IS NOT expected if you are initializing TFBertModel from the checkpoint of a model that you expect to be exactly identical (initializing a BertForSequenceClassification model from a BertForSequenceClassification model).\n",
            "All the layers of TFBertModel were initialized from the model checkpoint at bert-base-uncased.\n",
            "If your task is similar to the task the model of the checkpoint was trained on, you can already use TFBertModel for predictions without further training.\n"
          ]
        }
      ]
    },
    {
      "cell_type": "code",
      "source": [
        "best_model.summary()"
      ],
      "metadata": {
        "id": "-GD-xKKNC0ai",
        "colab": {
          "base_uri": "https://localhost:8080/"
        },
        "outputId": "42b66f2a-c786-4a61-843b-45c4bf17d0c3"
      },
      "execution_count": null,
      "outputs": [
        {
          "output_type": "stream",
          "name": "stdout",
          "text": [
            "Model: \"model\"\n",
            "__________________________________________________________________________________________________\n",
            " Layer (type)                   Output Shape         Param #     Connected to                     \n",
            "==================================================================================================\n",
            " input_ids (InputLayer)         [(None, 317)]        0           []                               \n",
            "                                                                                                  \n",
            " attention_mask (InputLayer)    [(None, 317)]        0           []                               \n",
            "                                                                                                  \n",
            " tf_bert_model (TFBertModel)    TFBaseModelOutputWi  109482240   ['input_ids[0][0]',              \n",
            "                                thPoolingAndCrossAt               'attention_mask[0][0]']         \n",
            "                                tentions(last_hidde                                               \n",
            "                                n_state=(None, 317,                                               \n",
            "                                 768),                                                            \n",
            "                                 pooler_output=(Non                                               \n",
            "                                e, 768),                                                          \n",
            "                                 past_key_values=No                                               \n",
            "                                ne, hidden_states=N                                               \n",
            "                                one, attentions=Non                                               \n",
            "                                e, cross_attentions                                               \n",
            "                                =None)                                                            \n",
            "                                                                                                  \n",
            " bidirectional (Bidirectional)  (None, 317, 128)     426496      ['tf_bert_model[0][0]']          \n",
            "                                                                                                  \n",
            " global_max_pooling1d (GlobalMa  (None, 128)         0           ['bidirectional[0][0]']          \n",
            " xPooling1D)                                                                                      \n",
            "                                                                                                  \n",
            " dropout_37 (Dropout)           (None, 128)          0           ['global_max_pooling1d[0][0]']   \n",
            "                                                                                                  \n",
            " dense (Dense)                  (None, 32)           4128        ['dropout_37[0][0]']             \n",
            "                                                                                                  \n",
            " outputs (Dense)                (None, 1)            33          ['dense[0][0]']                  \n",
            "                                                                                                  \n",
            "==================================================================================================\n",
            "Total params: 109,912,897\n",
            "Trainable params: 430,657\n",
            "Non-trainable params: 109,482,240\n",
            "__________________________________________________________________________________________________\n"
          ]
        }
      ]
    },
    {
      "cell_type": "markdown",
      "metadata": {
        "id": "au6R09KDTFsm"
      },
      "source": [
        "# Best Model Retraining on full dataset"
      ]
    },
    {
      "cell_type": "code",
      "source": [
        "# Train loss achieved with Model Selection\n",
        "train_thold= 0.0102"
      ],
      "metadata": {
        "id": "Kfs5OBKDDYQo"
      },
      "execution_count": null,
      "outputs": []
    },
    {
      "cell_type": "code",
      "source": [
        "# Stopping criterion (Retrain until the loss is above the threshold)\n",
        "\n",
        "class SOMT(Callback):\n",
        "\n",
        "    def __init__(self, model,  train_thold):\n",
        "        super(SOMT, self).__init__()\n",
        "        self.model=model        \n",
        "        self.train_thold=train_thold\n",
        "        \n",
        "    def on_epoch_end(self,epoch, logs={}): \n",
        "        tr_loss=logs.get('loss')\n",
        "        if tr_loss <= self.train_thold:\n",
        "            self.model.stop_training = True # stop training\n",
        "            print( f'\\nTraining stopped because loss reached the threshold')"
      ],
      "metadata": {
        "id": "qgW6P6sSB3Rl"
      },
      "execution_count": null,
      "outputs": []
    },
    {
      "cell_type": "code",
      "execution_count": null,
      "metadata": {
        "colab": {
          "base_uri": "https://localhost:8080/"
        },
        "id": "9v_X2-T-ZeNh",
        "outputId": "e205a3aa-7f3c-4442-ec64-ea5215d01f65"
      },
      "outputs": [
        {
          "output_type": "stream",
          "name": "stdout",
          "text": [
            "Epoch 1/30\n",
            "131/131 [==============================] - 443s 3s/step - loss: 0.3539 - accuracy: 0.8352\n",
            "Epoch 2/30\n",
            "131/131 [==============================] - 425s 3s/step - loss: 0.1889 - accuracy: 0.9318\n",
            "Epoch 3/30\n",
            "131/131 [==============================] - 424s 3s/step - loss: 0.1231 - accuracy: 0.9551\n",
            "Epoch 4/30\n",
            "131/131 [==============================] - 424s 3s/step - loss: 0.0974 - accuracy: 0.9644\n",
            "Epoch 5/30\n",
            "131/131 [==============================] - 424s 3s/step - loss: 0.0818 - accuracy: 0.9698\n",
            "Epoch 6/30\n",
            "131/131 [==============================] - 424s 3s/step - loss: 0.0666 - accuracy: 0.9778\n",
            "Epoch 7/30\n",
            "131/131 [==============================] - 424s 3s/step - loss: 0.0606 - accuracy: 0.9793\n",
            "Epoch 8/30\n",
            "131/131 [==============================] - 424s 3s/step - loss: 0.0526 - accuracy: 0.9816\n",
            "Epoch 9/30\n",
            "131/131 [==============================] - 424s 3s/step - loss: 0.0468 - accuracy: 0.9831\n",
            "Epoch 10/30\n",
            "131/131 [==============================] - 424s 3s/step - loss: 0.0388 - accuracy: 0.9844\n",
            "Epoch 11/30\n",
            "131/131 [==============================] - 424s 3s/step - loss: 0.0364 - accuracy: 0.9877\n",
            "Epoch 12/30\n",
            "131/131 [==============================] - 424s 3s/step - loss: 0.0308 - accuracy: 0.9895\n",
            "Epoch 13/30\n",
            "131/131 [==============================] - 424s 3s/step - loss: 0.0270 - accuracy: 0.9909\n",
            "Epoch 14/30\n",
            "131/131 [==============================] - 424s 3s/step - loss: 0.0237 - accuracy: 0.9920\n",
            "Epoch 15/30\n",
            "131/131 [==============================] - 425s 3s/step - loss: 0.0210 - accuracy: 0.9923\n",
            "Epoch 16/30\n",
            "131/131 [==============================] - 424s 3s/step - loss: 0.0164 - accuracy: 0.9944\n",
            "Epoch 17/30\n",
            "131/131 [==============================] - 424s 3s/step - loss: 0.0160 - accuracy: 0.9948\n",
            "Epoch 18/30\n",
            "131/131 [==============================] - 424s 3s/step - loss: 0.0153 - accuracy: 0.9939\n",
            "Epoch 19/30\n",
            "131/131 [==============================] - 424s 3s/step - loss: 0.0139 - accuracy: 0.9957\n",
            "Epoch 20/30\n",
            "131/131 [==============================] - 424s 3s/step - loss: 0.0103 - accuracy: 0.9967\n",
            "Epoch 21/30\n",
            "131/131 [==============================] - 424s 3s/step - loss: 0.0120 - accuracy: 0.9962\n",
            "Epoch 22/30\n",
            "131/131 [==============================] - ETA: 0s - loss: 0.0078 - accuracy: 0.9974\n",
            "Training stopped because loss reached the threshold\n",
            "131/131 [==============================] - 424s 3s/step - loss: 0.0078 - accuracy: 0.9974\n"
          ]
        }
      ],
      "source": [
        "# Retraining Best Model\n",
        "es = EarlyStopping(monitor='loss', patience=30, restore_best_weights=True, verbose=1)\n",
        "history = best_model.fit(train, batch_size=BATCH_SIZE, epochs=30, callbacks=[es, SOMT(best_model, train_thold)]) "
      ]
    },
    {
      "cell_type": "code",
      "source": [
        "# if the loss did not reach the threshold\n",
        "if len(history.history[\"loss\"])==30:\n",
        "  best_ep = np.argmin(history.history[\"loss\"])+1 \n",
        "else:\n",
        "  best_ep = np.argmin(history.history[\"loss\"][:-1])+1 "
      ],
      "metadata": {
        "id": "0hF8N4IsnJHB"
      },
      "execution_count": null,
      "outputs": []
    },
    {
      "cell_type": "code",
      "source": [
        "print(\"Model stopped at epoch\", best_ep)"
      ],
      "metadata": {
        "id": "PG2fAwiRKnnj",
        "colab": {
          "base_uri": "https://localhost:8080/"
        },
        "outputId": "c1a8abaa-0fa9-4f5e-fa17-8303c3ab08d0"
      },
      "execution_count": null,
      "outputs": [
        {
          "output_type": "stream",
          "name": "stdout",
          "text": [
            "Model stopped at epoch 20\n"
          ]
        }
      ]
    },
    {
      "cell_type": "code",
      "execution_count": null,
      "metadata": {
        "id": "vAYRiFbnGAqL",
        "colab": {
          "base_uri": "https://localhost:8080/",
          "height": 300
        },
        "outputId": "43fecc1c-0228-4432-9e76-6def726c5f3c"
      },
      "outputs": [
        {
          "output_type": "execute_result",
          "data": {
            "text/plain": [
              "<matplotlib.legend.Legend at 0x7f9f1d97c350>"
            ]
          },
          "metadata": {},
          "execution_count": 33
        },
        {
          "output_type": "display_data",
          "data": {
            "text/plain": [
              "<Figure size 432x288 with 1 Axes>"
            ],
            "image/png": "[encoded data removed]"
          },
          "metadata": {
            "needs_background": "light"
          }
        }
      ],
      "source": [
        "#Accuracy plot\n",
        "plt.plot(history.history[\"accuracy\"][0:best_ep], label='accuracy')       \n",
        "plt.xlabel('Epochs')\n",
        "plt.ylabel('Accuracy')\n",
        "plt.ylim([0.8,1])\n",
        "plt.xticks(np.arange(len(history.history[\"accuracy\"][0:best_ep])), np.arange(1, len(history.history[\"accuracy\"][0:best_ep])+1))\n",
        "plt.legend(loc = 'lower right')"
      ]
    },
    {
      "cell_type": "code",
      "execution_count": null,
      "metadata": {
        "id": "NHOV8K0MGO2_",
        "colab": {
          "base_uri": "https://localhost:8080/",
          "height": 300
        },
        "outputId": "de7aa1b0-7176-45a3-99f7-803e49b83b0e"
      },
      "outputs": [
        {
          "output_type": "execute_result",
          "data": {
            "text/plain": [
              "<matplotlib.legend.Legend at 0x7f9f1da36090>"
            ]
          },
          "metadata": {},
          "execution_count": 32
        },
        {
          "output_type": "display_data",
          "data": {
            "text/plain": [
              "<Figure size 432x288 with 1 Axes>"
            ],
            "image/png": "[encoded data removed]"
          },
          "metadata": {
            "needs_background": "light"
          }
        }
      ],
      "source": [
        "#Loss plot\n",
        "plt.plot(history.history[\"loss\"][0:best_ep], label='loss')       \n",
        "plt.xlabel('Epochs')\n",
        "plt.ylabel('Loss')\n",
        "plt.ylim([0,0.4])\n",
        "plt.xticks(np.arange(len(history.history[\"loss\"][0:best_ep])), np.arange(1, len(history.history[\"loss\"][0:best_ep])+1))\n",
        "plt.legend(loc = 'upper right')"
      ]
    },
    {
      "cell_type": "markdown",
      "metadata": {
        "id": "RXa2MqEQQ2ww"
      },
      "source": [
        "# Best Model Performance on Test Set\n"
      ]
    },
    {
      "cell_type": "markdown",
      "metadata": {
        "id": "SmrxIJ-i0S84"
      },
      "source": [
        "## Classification Threshold 0.50"
      ]
    },
    {
      "cell_type": "code",
      "execution_count": null,
      "metadata": {
        "id": "Fqfy5Fa_CLFq",
        "colab": {
          "base_uri": "https://localhost:8080/"
        },
        "outputId": "fbcb2f36-855c-4374-f8c0-d1bd0532d3e8"
      },
      "outputs": [
        {
          "output_type": "stream",
          "name": "stdout",
          "text": [
            "32/32 [==============================] - 95s 3s/step\n"
          ]
        }
      ],
      "source": [
        "pred = best_model.predict(test) > 0.5"
      ]
    },
    {
      "cell_type": "code",
      "source": [
        "# Getting the Classification Report\n",
        "print(classification_report(list(labelsT), pred, digits=4))"
      ],
      "metadata": {
        "id": "MLrPFXMXIX76",
        "colab": {
          "base_uri": "https://localhost:8080/"
        },
        "outputId": "443bdba5-2d04-4c7d-9b62-3ab80d83b10a"
      },
      "execution_count": null,
      "outputs": [
        {
          "output_type": "stream",
          "name": "stdout",
          "text": [
            "              precision    recall  f1-score   support\n",
            "\n",
            "           0     0.9864    0.9909    0.9887      1979\n",
            "           1     0.9912    0.9869    0.9890      2056\n",
            "\n",
            "    accuracy                         0.9888      4035\n",
            "   macro avg     0.9888    0.9889    0.9888      4035\n",
            "weighted avg     0.9889    0.9888    0.9888      4035\n",
            "\n"
          ]
        }
      ]
    },
    {
      "cell_type": "code",
      "execution_count": null,
      "metadata": {
        "id": "aRABTgJOCLFr",
        "colab": {
          "base_uri": "https://localhost:8080/"
        },
        "outputId": "895db579-feab-465b-981a-ced2bf66c861"
      },
      "outputs": [
        {
          "output_type": "stream",
          "name": "stdout",
          "text": [
            "Test Accuracy :  98.88 %\n"
          ]
        }
      ],
      "source": [
        "# Getting the Test Accuracy\n",
        "accuracy = accuracy_score(list(labelsT), pred)\n",
        "print(\"Test Accuracy : \", round(Decimal(accuracy*100),2),\"%\")"
      ]
    },
    {
      "cell_type": "code",
      "execution_count": null,
      "metadata": {
        "id": "4n2SFg45ww1f",
        "colab": {
          "base_uri": "https://localhost:8080/",
          "height": 297
        },
        "outputId": "494f3ea7-f241-4126-92d4-78871d0547af"
      },
      "outputs": [
        {
          "output_type": "display_data",
          "data": {
            "text/plain": [
              "<Figure size 432x288 with 2 Axes>"
            ],
            "image/png": "[encoded data removed]"
          },
          "metadata": {
            "needs_background": "light"
          }
        },
        {
          "output_type": "display_data",
          "data": {
            "text/plain": [
              "<Figure size 720x720 with 0 Axes>"
            ]
          },
          "metadata": {}
        }
      ],
      "source": [
        "# Getting The Confusion Matrix\n",
        "cm = confusion_matrix(list(labelsT), pred)\n",
        "sns.heatmap(cm, annot = True)\n",
        "plt.ylabel('Test label')\n",
        "plt.xlabel('Predicted label')\n",
        "plt.figure(figsize = (10, 10))\n",
        "plt.show()"
      ]
    },
    {
      "cell_type": "markdown",
      "source": [
        "# Best Model Performance on Test Set with different Classification Thresholds"
      ],
      "metadata": {
        "id": "v8YlYWVBSKxH"
      }
    },
    {
      "cell_type": "markdown",
      "metadata": {
        "id": "SpC-jcMQ0aDQ"
      },
      "source": [
        "## Classification Threshold 0.80"
      ]
    },
    {
      "cell_type": "code",
      "execution_count": null,
      "metadata": {
        "id": "9lZyJcySvpnC",
        "colab": {
          "base_uri": "https://localhost:8080/"
        },
        "outputId": "06658b90-0b0d-4189-9dfb-d379507b4734"
      },
      "outputs": [
        {
          "output_type": "stream",
          "name": "stdout",
          "text": [
            "32/32 [==============================] - 91s 3s/step\n"
          ]
        }
      ],
      "source": [
        "pred = (best_model.predict(test) > 0.8)"
      ]
    },
    {
      "cell_type": "code",
      "execution_count": null,
      "metadata": {
        "colab": {
          "base_uri": "https://localhost:8080/"
        },
        "id": "VOPJcDXLvpnE",
        "outputId": "b3e1aad4-db08-4632-cb3c-2384160a0172"
      },
      "outputs": [
        {
          "output_type": "stream",
          "name": "stdout",
          "text": [
            "              precision    recall  f1-score   support\n",
            "\n",
            "           0     0.9781    0.9944    0.9862      1979\n",
            "           1     0.9946    0.9786    0.9865      2056\n",
            "\n",
            "    accuracy                         0.9864      4035\n",
            "   macro avg     0.9863    0.9865    0.9864      4035\n",
            "weighted avg     0.9865    0.9864    0.9864      4035\n",
            "\n"
          ]
        }
      ],
      "source": [
        "# Getting the Classification Report\n",
        "print(classification_report(list(labelsT), pred, digits=4))"
      ]
    },
    {
      "cell_type": "code",
      "execution_count": null,
      "metadata": {
        "colab": {
          "base_uri": "https://localhost:8080/"
        },
        "id": "WjUcHez4voeu",
        "outputId": "0f31ba18-e4ab-4fe9-9f68-8c762fe59f2e"
      },
      "outputs": [
        {
          "output_type": "stream",
          "name": "stdout",
          "text": [
            "Test Accuracy :  98.64 %\n"
          ]
        }
      ],
      "source": [
        "# Getting the Test Accuracy\n",
        "accuracy = accuracy_score(list(labelsT), pred)\n",
        "print(\"Test Accuracy : \", round(Decimal(accuracy*100),2),\"%\")"
      ]
    },
    {
      "cell_type": "code",
      "execution_count": null,
      "metadata": {
        "colab": {
          "base_uri": "https://localhost:8080/",
          "height": 299
        },
        "id": "xEwdHhyFvoid",
        "outputId": "a09bca9c-b8fc-46e5-93db-c361abdd7b90"
      },
      "outputs": [
        {
          "output_type": "display_data",
          "data": {
            "text/plain": [
              "<Figure size 432x288 with 2 Axes>"
            ],
            "image/png": "[encoded data removed]"
          },
          "metadata": {
            "needs_background": "light"
          }
        },
        {
          "output_type": "display_data",
          "data": {
            "text/plain": [
              "<Figure size 720x720 with 0 Axes>"
            ]
          },
          "metadata": {}
        }
      ],
      "source": [
        "# Getting the Confusion Matrix\n",
        "cm = confusion_matrix(list(labelsT), pred)\n",
        "sns.heatmap(cm, annot = True)\n",
        "plt.ylabel('Test label')\n",
        "plt.xlabel('Predicted label')\n",
        "plt.figure(figsize = (10, 10))\n",
        "plt.show()"
      ]
    },
    {
      "cell_type": "markdown",
      "metadata": {
        "id": "InGebANf0eC0"
      },
      "source": [
        "## Classification Threshold 0.90"
      ]
    },
    {
      "cell_type": "code",
      "execution_count": null,
      "metadata": {
        "id": "CPyMQesi0lzV",
        "colab": {
          "base_uri": "https://localhost:8080/"
        },
        "outputId": "357372be-c4ec-4f17-f30b-60f05438b8ee"
      },
      "outputs": [
        {
          "output_type": "stream",
          "name": "stdout",
          "text": [
            "32/32 [==============================] - 91s 3s/step\n"
          ]
        }
      ],
      "source": [
        "pred = (best_model.predict(test) > 0.9)"
      ]
    },
    {
      "cell_type": "code",
      "execution_count": null,
      "metadata": {
        "colab": {
          "base_uri": "https://localhost:8080/"
        },
        "id": "aHF1aC680lzX",
        "outputId": "69aca668-d6ee-4c78-e8c1-52d86f39eb41"
      },
      "outputs": [
        {
          "output_type": "stream",
          "name": "stdout",
          "text": [
            "              precision    recall  f1-score   support\n",
            "\n",
            "           0     0.9757    0.9949    0.9852      1979\n",
            "           1     0.9950    0.9762    0.9855      2056\n",
            "\n",
            "    accuracy                         0.9854      4035\n",
            "   macro avg     0.9854    0.9856    0.9854      4035\n",
            "weighted avg     0.9856    0.9854    0.9854      4035\n",
            "\n"
          ]
        }
      ],
      "source": [
        "# Getting the Classification Report\n",
        "print(classification_report(list(labelsT), pred, digits=4))"
      ]
    },
    {
      "cell_type": "code",
      "execution_count": null,
      "metadata": {
        "colab": {
          "base_uri": "https://localhost:8080/"
        },
        "id": "2f0jJ1Lo0lzY",
        "outputId": "accc2c79-3093-4112-97c5-76d1e8492c1b"
      },
      "outputs": [
        {
          "output_type": "stream",
          "name": "stdout",
          "text": [
            "Test Accuracy :  98.54 %\n"
          ]
        }
      ],
      "source": [
        "# Getting the Test Accuracy\n",
        "accuracy = accuracy_score(list(labelsT), pred)\n",
        "print(\"Test Accuracy : \", round(Decimal(accuracy*100),2),\"%\")"
      ]
    },
    {
      "cell_type": "code",
      "execution_count": null,
      "metadata": {
        "colab": {
          "base_uri": "https://localhost:8080/",
          "height": 300
        },
        "id": "jZvu6Gvw0lzb",
        "outputId": "2976562d-ff3e-42b3-9ec5-1155d542c228"
      },
      "outputs": [
        {
          "output_type": "display_data",
          "data": {
            "text/plain": [
              "<Figure size 432x288 with 2 Axes>"
            ],
            "image/png": "[encoded data removed]"
          },
          "metadata": {
            "needs_background": "light"
          }
        },
        {
          "output_type": "display_data",
          "data": {
            "text/plain": [
              "<Figure size 720x720 with 0 Axes>"
            ]
          },
          "metadata": {}
        }
      ],
      "source": [
        "# Getting the Confusion Matrix\n",
        "cm = confusion_matrix(list(labelsT), pred)\n",
        "sns.heatmap(cm, annot = True)\n",
        "plt.ylabel('Test label')\n",
        "plt.xlabel('Predicted label')\n",
        "plt.figure(figsize = (10, 10))\n",
        "plt.show()"
      ]
    },
    {
      "cell_type": "markdown",
      "metadata": {
        "id": "384QCMNP0rh9"
      },
      "source": [
        "## Classification Threshold 0.95"
      ]
    },
    {
      "cell_type": "code",
      "execution_count": null,
      "metadata": {
        "id": "HaXD9jVf0t0P",
        "colab": {
          "base_uri": "https://localhost:8080/"
        },
        "outputId": "4f421c5f-9dad-429b-d8e6-eb8cb4388c34"
      },
      "outputs": [
        {
          "output_type": "stream",
          "name": "stdout",
          "text": [
            "32/32 [==============================] - 91s 3s/step\n"
          ]
        }
      ],
      "source": [
        "pred = (best_model.predict(test) > 0.95)"
      ]
    },
    {
      "cell_type": "code",
      "execution_count": null,
      "metadata": {
        "colab": {
          "base_uri": "https://localhost:8080/"
        },
        "id": "QGC6kS620t0U",
        "outputId": "cf59e152-5d6f-43ea-d49a-29f5654dad3d"
      },
      "outputs": [
        {
          "output_type": "stream",
          "name": "stdout",
          "text": [
            "              precision    recall  f1-score   support\n",
            "\n",
            "           0     0.9695    0.9965    0.9828      1979\n",
            "           1     0.9965    0.9698    0.9830      2056\n",
            "\n",
            "    accuracy                         0.9829      4035\n",
            "   macro avg     0.9830    0.9832    0.9829      4035\n",
            "weighted avg     0.9833    0.9829    0.9829      4035\n",
            "\n"
          ]
        }
      ],
      "source": [
        "# Getting the Classification Report\n",
        "print(classification_report(list(labelsT), pred, digits=4))"
      ]
    },
    {
      "cell_type": "code",
      "execution_count": null,
      "metadata": {
        "colab": {
          "base_uri": "https://localhost:8080/"
        },
        "id": "J_WkQ3KC0t0a",
        "outputId": "7dd961da-e593-410c-f745-5a6c2e8879a7"
      },
      "outputs": [
        {
          "output_type": "stream",
          "name": "stdout",
          "text": [
            "Test Accuracy :  98.29 %\n"
          ]
        }
      ],
      "source": [
        "# Getting the Test Accuracy\n",
        "accuracy = accuracy_score(list(labelsT), pred)\n",
        "print(\"Test Accuracy : \", round(Decimal(accuracy*100),2),\"%\")"
      ]
    },
    {
      "cell_type": "code",
      "execution_count": null,
      "metadata": {
        "id": "gXjMcuHb0t0e",
        "colab": {
          "base_uri": "https://localhost:8080/",
          "height": 296
        },
        "outputId": "1239c7cd-519d-4783-9978-a8e56e11ee5b"
      },
      "outputs": [
        {
          "output_type": "display_data",
          "data": {
            "text/plain": [
              "<Figure size 432x288 with 2 Axes>"
            ],
            "image/png": "[encoded data removed]"
          },
          "metadata": {
            "needs_background": "light"
          }
        },
        {
          "output_type": "display_data",
          "data": {
            "text/plain": [
              "<Figure size 720x720 with 0 Axes>"
            ]
          },
          "metadata": {}
        }
      ],
      "source": [
        "# Getting the Confusion Matrix\n",
        "cm = confusion_matrix(list(labelsT), pred)\n",
        "sns.heatmap(cm, annot = True)\n",
        "plt.ylabel('Test label')\n",
        "plt.xlabel('Predicted label')\n",
        "plt.figure(figsize = (10, 10))\n",
        "plt.show()"
      ]
    },
    {
      "cell_type": "markdown",
      "metadata": {
        "id": "hOb09ZI72ze-"
      },
      "source": [
        "## Classification Threshold 0.99"
      ]
    },
    {
      "cell_type": "code",
      "execution_count": null,
      "metadata": {
        "id": "Ihb-AvAR2zfB",
        "colab": {
          "base_uri": "https://localhost:8080/"
        },
        "outputId": "50ba01ad-7a1f-4f04-bf02-9004d873972c"
      },
      "outputs": [
        {
          "output_type": "stream",
          "name": "stdout",
          "text": [
            "32/32 [==============================] - 91s 3s/step\n"
          ]
        }
      ],
      "source": [
        "pred = (best_model.predict(test) > 0.99)"
      ]
    },
    {
      "cell_type": "code",
      "execution_count": null,
      "metadata": {
        "colab": {
          "base_uri": "https://localhost:8080/"
        },
        "id": "tQbt_3lr2zfC",
        "outputId": "cf24fac2-e961-40fb-c05b-a188959a1441"
      },
      "outputs": [
        {
          "output_type": "stream",
          "name": "stdout",
          "text": [
            "              precision    recall  f1-score   support\n",
            "\n",
            "           0     0.9597    0.9985    0.9787      1979\n",
            "           1     0.9985    0.9596    0.9787      2056\n",
            "\n",
            "    accuracy                         0.9787      4035\n",
            "   macro avg     0.9791    0.9791    0.9787      4035\n",
            "weighted avg     0.9795    0.9787    0.9787      4035\n",
            "\n"
          ]
        }
      ],
      "source": [
        "# Getting the Classification Report\n",
        "print(classification_report(list(labelsT), pred, digits=4))"
      ]
    },
    {
      "cell_type": "code",
      "execution_count": null,
      "metadata": {
        "id": "EpEI88NY2zfE",
        "colab": {
          "base_uri": "https://localhost:8080/"
        },
        "outputId": "54218f92-1616-4650-be8a-5ccb4dfeec17"
      },
      "outputs": [
        {
          "output_type": "stream",
          "name": "stdout",
          "text": [
            "Test Accuracy :  97.87 %\n"
          ]
        }
      ],
      "source": [
        "# Getting the Test Accuracy\n",
        "accuracy = accuracy_score(list(labelsT), pred)\n",
        "print(\"Test Accuracy : \", round(Decimal(accuracy*100),2),\"%\")"
      ]
    },
    {
      "cell_type": "code",
      "execution_count": null,
      "metadata": {
        "id": "n-5lbxzn2zfH",
        "colab": {
          "base_uri": "https://localhost:8080/",
          "height": 296
        },
        "outputId": "7bc3d5af-4ec4-4d07-a55e-a8f0193d1e65"
      },
      "outputs": [
        {
          "output_type": "display_data",
          "data": {
            "text/plain": [
              "<Figure size 432x288 with 2 Axes>"
            ],
            "image/png": "[encoded data removed]"
          },
          "metadata": {
            "needs_background": "light"
          }
        },
        {
          "output_type": "display_data",
          "data": {
            "text/plain": [
              "<Figure size 720x720 with 0 Axes>"
            ]
          },
          "metadata": {}
        }
      ],
      "source": [
        "# Getting the Confusion Matrix\n",
        "cm = confusion_matrix(list(labelsT), pred)\n",
        "sns.heatmap(cm, annot = True)\n",
        "plt.ylabel('Test label')\n",
        "plt.xlabel('Predicted label')\n",
        "plt.figure(figsize = (10, 10))\n",
        "plt.show()"
      ]
    }
  ]
}