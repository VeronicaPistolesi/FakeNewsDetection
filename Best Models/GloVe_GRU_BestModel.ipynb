{
  "cells": [
    {
      "cell_type": "code",
      "execution_count": null,
      "metadata": {
        "id": "q7feVVqlc_Hr",
        "colab": {
          "base_uri": "https://localhost:8080/"
        },
        "outputId": "65a28c65-d43f-489f-effd-7a5da4e1e6bb"
      },
      "outputs": [
        {
          "output_type": "stream",
          "name": "stdout",
          "text": [
            "Mounted at /content/drive\n"
          ]
        }
      ],
      "source": [
        "from google.colab import drive\n",
        "drive.mount('/content/drive')"
      ]
    },
    {
      "cell_type": "markdown",
      "source": [
        "# Libraries"
      ],
      "metadata": {
        "id": "oH1LiSCVO533"
      }
    },
    {
      "cell_type": "code",
      "execution_count": null,
      "metadata": {
        "id": "LuB6ODLFdNzP"
      },
      "outputs": [],
      "source": [
        "# Insert the directory\n",
        "import sys\n",
        "sys.path.insert(0,'/content/drive/Shareddrives/ProgettoHLT/FakeNewsDetection')"
      ]
    },
    {
      "cell_type": "code",
      "execution_count": null,
      "metadata": {
        "id": "-S-pI5KWhZw9"
      },
      "outputs": [],
      "source": [
        "import numpy as np\n",
        "import seaborn as sns\n",
        "import codecs\n",
        "from tqdm import tqdm\n",
        "from keras.models import load_model\n",
        "from tensorflow.keras.models import Sequential, Model\n",
        "from tensorflow.keras.layers import Dense, Flatten, Conv1D, GRU, Dropout, MaxPooling1D, Embedding, BatchNormalization\n",
        "from tensorflow.keras.callbacks import Callback\n",
        "from tensorflow.keras.callbacks import EarlyStopping\n",
        "from tensorflow.keras.optimizers import Adam\n",
        "from decimal import Decimal\n",
        "from sklearn.metrics import classification_report, accuracy_score\n",
        "from sklearn.metrics import confusion_matrix\n",
        "import matplotlib.pyplot as plt\n",
        "import warnings\n",
        "warnings.filterwarnings(\"ignore\")"
      ]
    },
    {
      "cell_type": "code",
      "execution_count": null,
      "metadata": {
        "id": "4l97cS3Bfe7H",
        "colab": {
          "base_uri": "https://localhost:8080/",
          "height": 434
        },
        "outputId": "0064d686-c6a2-405a-d8a3-092e5a092cc5"
      },
      "outputs": [
        {
          "output_type": "stream",
          "name": "stdout",
          "text": [
            "Drive already mounted at /content/drive; to attempt to forcibly remount, call drive.mount(\"/content/drive\", force_remount=True).\n",
            "Number of unique words:  123659\n"
          ]
        },
        {
          "output_type": "stream",
          "name": "stderr",
          "text": [
            "[nltk_data] Downloading package punkt to /root/nltk_data...\n",
            "[nltk_data]   Unzipping tokenizers/punkt.zip.\n"
          ]
        },
        {
          "output_type": "stream",
          "name": "stdout",
          "text": [
            "Number of news: 16646\n",
            "Median length of the news: 317\n"
          ]
        },
        {
          "output_type": "display_data",
          "data": {
            "text/plain": [
              "<Figure size 432x288 with 1 Axes>"
            ],
            "image/png": "[encoded data removed]"
          },
          "metadata": {
            "needs_background": "light"
          }
        },
        {
          "output_type": "stream",
          "name": "stdout",
          "text": [
            "Number of True News in the Training Set: 8323\n",
            "Number of Fake News in the Training Set: 8323\n"
          ]
        }
      ],
      "source": [
        "from data_preprocessing_fulldataset import unique_words, padded_train, padded_test, Y_train, Y_test, median, word_index"
      ]
    },
    {
      "cell_type": "markdown",
      "metadata": {
        "id": "tqjeEJm3AuMr"
      },
      "source": [
        "# Best Model"
      ]
    },
    {
      "cell_type": "markdown",
      "source": [
        "Pre-trained Word Embedding with GloVe"
      ],
      "metadata": {
        "id": "SF1xy0m1ibSw"
      }
    },
    {
      "cell_type": "code",
      "source": [
        "#load embeddings\n",
        "print('loading word embeddings...')\n",
        "embeddings_index = {}\n",
        "f = codecs.open('/content/drive/Shareddrives/ProgettoHLT/FakeNewsDetection/glove.42B.300d.txt', encoding='utf-8')\n",
        "for line in tqdm(f):\n",
        "    values = line.rstrip().rsplit(' ')\n",
        "    word = values[0]\n",
        "    coefs = np.asarray(values[1:], dtype='float32')\n",
        "    embeddings_index[word] = coefs\n",
        "f.close()\n",
        "print('found %s word vectors' % len(embeddings_index))"
      ],
      "metadata": {
        "colab": {
          "base_uri": "https://localhost:8080/"
        },
        "id": "kUrOf3P8pxoj",
        "outputId": "43f94462-9043-447b-f233-986e30e85db7"
      },
      "execution_count": null,
      "outputs": [
        {
          "output_type": "stream",
          "name": "stdout",
          "text": [
            "loading word embeddings...\n"
          ]
        },
        {
          "output_type": "stream",
          "name": "stderr",
          "text": [
            "1917495it [02:59, 10688.17it/s]"
          ]
        },
        {
          "output_type": "stream",
          "name": "stdout",
          "text": [
            "found 1917495 word vectors\n"
          ]
        },
        {
          "output_type": "stream",
          "name": "stderr",
          "text": [
            "\n"
          ]
        }
      ]
    },
    {
      "cell_type": "code",
      "source": [
        "#embedding matrix\n",
        "print('preparing embedding matrix...')\n",
        "words_not_found = []\n",
        "nb_words = min(unique_words, len(word_index))+1\n",
        "embedding_matrix = np.zeros((nb_words, 300))\n",
        "for word, i in word_index.items():\n",
        "    if i >= nb_words:\n",
        "        continue\n",
        "    embedding_vector = embeddings_index.get(word)\n",
        "    if (embedding_vector is not None) and len(embedding_vector) > 0:\n",
        "        # words not found in embedding index will be all-zeros.\n",
        "        embedding_matrix[i] = embedding_vector\n",
        "    else:\n",
        "        words_not_found.append(word)\n",
        "print('number of null word embeddings: %d' % np.sum(np.sum(embedding_matrix, axis=1) == 0))"
      ],
      "metadata": {
        "colab": {
          "base_uri": "https://localhost:8080/"
        },
        "id": "U_pav0JqpyWz",
        "outputId": "5b3dce00-289b-453f-f891-5baeae319b71"
      },
      "execution_count": null,
      "outputs": [
        {
          "output_type": "stream",
          "name": "stdout",
          "text": [
            "preparing embedding matrix...\n",
            "number of null word embeddings: 29840\n"
          ]
        }
      ]
    },
    {
      "cell_type": "code",
      "execution_count": null,
      "metadata": {
        "id": "Z0d7qNMLUCc3"
      },
      "outputs": [],
      "source": [
        "best_model = Sequential()\n",
        "\n",
        "best_model.add(Embedding(nb_words, output_dim = 300, input_length=median, weights=[embedding_matrix])) \n",
        "\n",
        "best_model.add(GRU(64))\n",
        "best_model.add(BatchNormalization())\n",
        "best_model.add(Dropout(0.3))\n",
        "\n",
        "best_model.add(Dense(128, activation=\"relu\"))\n",
        "best_model.add(Dense(1, activation='sigmoid'))\n",
        "\n",
        "best_model.compile(optimizer=Adam(learning_rate=0.005, clipnorm=1), loss=\"binary_crossentropy\", metrics=['accuracy'])"
      ]
    },
    {
      "cell_type": "code",
      "source": [
        "best_model.summary()"
      ],
      "metadata": {
        "id": "YOAwz3tTRNUZ",
        "colab": {
          "base_uri": "https://localhost:8080/"
        },
        "outputId": "59fb80ab-1392-4807-f298-cef5c8ea373d"
      },
      "execution_count": null,
      "outputs": [
        {
          "output_type": "stream",
          "name": "stdout",
          "text": [
            "Model: \"sequential\"\n",
            "_________________________________________________________________\n",
            " Layer (type)                Output Shape              Param #   \n",
            "=================================================================\n",
            " embedding (Embedding)       (None, 317, 300)          35958600  \n",
            "                                                                 \n",
            " gru (GRU)                   (None, 64)                70272     \n",
            "                                                                 \n",
            " batch_normalization (BatchN  (None, 64)               256       \n",
            " ormalization)                                                   \n",
            "                                                                 \n",
            " dropout (Dropout)           (None, 64)                0         \n",
            "                                                                 \n",
            " dense (Dense)               (None, 128)               8320      \n",
            "                                                                 \n",
            " dense_1 (Dense)             (None, 1)                 129       \n",
            "                                                                 \n",
            "=================================================================\n",
            "Total params: 36,037,577\n",
            "Trainable params: 36,037,449\n",
            "Non-trainable params: 128\n",
            "_________________________________________________________________\n"
          ]
        }
      ]
    },
    {
      "cell_type": "markdown",
      "metadata": {
        "id": "au6R09KDTFsm"
      },
      "source": [
        "# Best Model Retraining on full dataset"
      ]
    },
    {
      "cell_type": "code",
      "source": [
        "# Train loss achieved with Model Selection\n",
        "train_thold = 1.6606e-05"
      ],
      "metadata": {
        "id": "Kfs5OBKDDYQo"
      },
      "execution_count": null,
      "outputs": []
    },
    {
      "cell_type": "code",
      "source": [
        "# Stopping criterion (Retrain until the loss is above the threshold)\n",
        "\n",
        "class SOMT(Callback):\n",
        "\n",
        "    def __init__(self, model,  train_thold):\n",
        "        super(SOMT, self).__init__()\n",
        "        self.model=model        \n",
        "        self.train_thold=train_thold\n",
        "        \n",
        "    def on_epoch_end(self,epoch, logs={}): \n",
        "        tr_loss=logs.get('loss')\n",
        "        if tr_loss <= self.train_thold:\n",
        "            self.model.stop_training = True # stop training\n",
        "            print( f'\\nTraining stopped because loss reached the threshold')"
      ],
      "metadata": {
        "id": "4F8G_eHCs995"
      },
      "execution_count": null,
      "outputs": []
    },
    {
      "cell_type": "code",
      "source": [
        "Y_train = np.asarray(Y_train)"
      ],
      "metadata": {
        "id": "-XNXFVLnNfTf"
      },
      "execution_count": null,
      "outputs": []
    },
    {
      "cell_type": "code",
      "execution_count": null,
      "metadata": {
        "id": "9v_X2-T-ZeNh",
        "colab": {
          "base_uri": "https://localhost:8080/"
        },
        "outputId": "3f533629-6beb-4c13-b51b-4a0583ce3647"
      },
      "outputs": [
        {
          "output_type": "stream",
          "name": "stdout",
          "text": [
            "Epoch 1/30\n",
            "131/131 [==============================] - 14s 42ms/step - loss: 0.4074 - accuracy: 0.7889\n",
            "Epoch 2/30\n",
            "131/131 [==============================] - 5s 39ms/step - loss: 0.0374 - accuracy: 0.9870\n",
            "Epoch 3/30\n",
            "131/131 [==============================] - 5s 41ms/step - loss: 0.0041 - accuracy: 0.9987\n",
            "Epoch 4/30\n",
            "131/131 [==============================] - 5s 40ms/step - loss: 0.0012 - accuracy: 0.9996\n",
            "Epoch 5/30\n",
            "131/131 [==============================] - 5s 39ms/step - loss: 1.0144e-04 - accuracy: 1.0000\n",
            "Epoch 6/30\n",
            "131/131 [==============================] - 5s 40ms/step - loss: 7.4888e-05 - accuracy: 1.0000\n",
            "Epoch 7/30\n",
            "131/131 [==============================] - 5s 39ms/step - loss: 2.1425e-05 - accuracy: 1.0000\n",
            "Epoch 8/30\n",
            "131/131 [==============================] - ETA: 0s - loss: 9.9904e-06 - accuracy: 1.0000\n",
            "Training stopped because loss reached the threshold\n",
            "131/131 [==============================] - 5s 40ms/step - loss: 9.9904e-06 - accuracy: 1.0000\n"
          ]
        }
      ],
      "source": [
        "# Retraining Best Model\n",
        "es = EarlyStopping(monitor='loss', patience=30, restore_best_weights=True)\n",
        "history = best_model.fit(padded_train, Y_train, batch_size=128, epochs=30, callbacks=[SOMT(best_model, train_thold),es])"
      ]
    },
    {
      "cell_type": "code",
      "source": [
        "best_ep = np.argmin(history.history[\"loss\"][:-1])+1"
      ],
      "metadata": {
        "id": "0hF8N4IsnJHB"
      },
      "execution_count": null,
      "outputs": []
    },
    {
      "cell_type": "code",
      "execution_count": null,
      "metadata": {
        "colab": {
          "base_uri": "https://localhost:8080/",
          "height": 300
        },
        "outputId": "5ffeeb65-bed5-47cc-f6e0-203ee59cfa12",
        "id": "R4LhVn9Qsx5T"
      },
      "outputs": [
        {
          "output_type": "execute_result",
          "data": {
            "text/plain": [
              "<matplotlib.legend.Legend at 0x7fc6860a7cd0>"
            ]
          },
          "metadata": {},
          "execution_count": 14
        },
        {
          "output_type": "display_data",
          "data": {
            "text/plain": [
              "<Figure size 432x288 with 1 Axes>"
            ],
            "image/png": "[encoded data removed]"
          },
          "metadata": {
            "needs_background": "light"
          }
        }
      ],
      "source": [
        "#Accuracy plot\n",
        "plt.plot(history.history[\"accuracy\"][0:best_ep], label='accuracy')       \n",
        "plt.xlabel('Epochs')\n",
        "plt.ylabel('Accuracy')\n",
        "plt.ylim([0.5,1])\n",
        "plt.xticks(np.arange(len(history.history[\"accuracy\"][0:best_ep])), np.arange(1, len(history.history[\"accuracy\"][0:best_ep])+1))\n",
        "plt.legend(loc = 'lower right')"
      ]
    },
    {
      "cell_type": "code",
      "execution_count": null,
      "metadata": {
        "colab": {
          "base_uri": "https://localhost:8080/",
          "height": 300
        },
        "outputId": "9f6b17cc-ffb1-4423-93bd-5ee8d79cf043",
        "id": "EP_WqF6Wsx5V"
      },
      "outputs": [
        {
          "output_type": "execute_result",
          "data": {
            "text/plain": [
              "<matplotlib.legend.Legend at 0x7fc681f86110>"
            ]
          },
          "metadata": {},
          "execution_count": 15
        },
        {
          "output_type": "display_data",
          "data": {
            "text/plain": [
              "<Figure size 432x288 with 1 Axes>"
            ],
            "image/png": "[encoded data removed]"
          },
          "metadata": {
            "needs_background": "light"
          }
        }
      ],
      "source": [
        "#Loss plot\n",
        "plt.plot(history.history[\"loss\"][0:best_ep], label='loss')       \n",
        "plt.xlabel('Epochs')\n",
        "plt.ylabel('Loss')\n",
        "plt.ylim([0,0.5])\n",
        "plt.xticks(np.arange(len(history.history[\"loss\"][0:best_ep])), np.arange(1, len(history.history[\"loss\"][0:best_ep])+1))\n",
        "plt.legend(loc = 'upper right')"
      ]
    },
    {
      "cell_type": "markdown",
      "metadata": {
        "id": "RXa2MqEQQ2ww"
      },
      "source": [
        "# Best Model Performance on Test Set\n"
      ]
    },
    {
      "cell_type": "markdown",
      "metadata": {
        "id": "SmrxIJ-i0S84"
      },
      "source": [
        "## Classification Threshold 0.50"
      ]
    },
    {
      "cell_type": "code",
      "execution_count": null,
      "metadata": {
        "id": "xStw-VQHtEzA"
      },
      "outputs": [],
      "source": [
        "pred = (best_model.predict(padded_test) > 0.5)"
      ]
    },
    {
      "cell_type": "code",
      "execution_count": null,
      "metadata": {
        "id": "X4Du8kVKtF9G",
        "colab": {
          "base_uri": "https://localhost:8080/"
        },
        "outputId": "acc8b5a8-d328-4e18-f2eb-49caf0b1d439"
      },
      "outputs": [
        {
          "output_type": "stream",
          "name": "stdout",
          "text": [
            "              precision    recall  f1-score   support\n",
            "\n",
            "           0     0.9858    0.9833    0.9846      1979\n",
            "           1     0.9840    0.9864    0.9852      2056\n",
            "\n",
            "    accuracy                         0.9849      4035\n",
            "   macro avg     0.9849    0.9849    0.9849      4035\n",
            "weighted avg     0.9849    0.9849    0.9849      4035\n",
            "\n"
          ]
        }
      ],
      "source": [
        "# Getting the Classification Report\n",
        "print(classification_report(list(Y_test), pred, digits=4))"
      ]
    },
    {
      "cell_type": "code",
      "execution_count": null,
      "metadata": {
        "id": "TfuCww40voXa",
        "colab": {
          "base_uri": "https://localhost:8080/"
        },
        "outputId": "45a547e4-df8e-455e-fa1a-e5073962f657"
      },
      "outputs": [
        {
          "output_type": "stream",
          "name": "stdout",
          "text": [
            "Test Accuracy :  98.49 %\n"
          ]
        }
      ],
      "source": [
        "# Getting the Test Accuracy\n",
        "accuracy = accuracy_score(list(Y_test), pred)\n",
        "print(\"Test Accuracy : \", round(Decimal(accuracy*100),2),\"%\")"
      ]
    },
    {
      "cell_type": "code",
      "execution_count": null,
      "metadata": {
        "id": "4n2SFg45ww1f",
        "colab": {
          "base_uri": "https://localhost:8080/",
          "height": 297
        },
        "outputId": "cf65f53d-9dbf-4b60-d415-8cd5bf0b5a1d"
      },
      "outputs": [
        {
          "output_type": "display_data",
          "data": {
            "text/plain": [
              "<Figure size 432x288 with 2 Axes>"
            ],
            "image/png": "[encoded data removed]"
          },
          "metadata": {
            "needs_background": "light"
          }
        },
        {
          "output_type": "display_data",
          "data": {
            "text/plain": [
              "<Figure size 720x720 with 0 Axes>"
            ]
          },
          "metadata": {}
        }
      ],
      "source": [
        "# Getting The Confusion Matrix\n",
        "cm = confusion_matrix(list(Y_test), pred)\n",
        "sns.heatmap(cm, annot = True)\n",
        "plt.ylabel('Test label')\n",
        "plt.xlabel('Predicted label')\n",
        "plt.figure(figsize = (10, 10))\n",
        "plt.show()"
      ]
    },
    {
      "cell_type": "markdown",
      "source": [
        "# Best Model Performance on Test Set with different Classification Thresholds"
      ],
      "metadata": {
        "id": "v8YlYWVBSKxH"
      }
    },
    {
      "cell_type": "markdown",
      "metadata": {
        "id": "SpC-jcMQ0aDQ"
      },
      "source": [
        "## Classification Threshold 0.80"
      ]
    },
    {
      "cell_type": "code",
      "execution_count": null,
      "metadata": {
        "id": "9lZyJcySvpnC"
      },
      "outputs": [],
      "source": [
        "pred = (best_model.predict(padded_test) > 0.8)"
      ]
    },
    {
      "cell_type": "code",
      "execution_count": null,
      "metadata": {
        "id": "VOPJcDXLvpnE",
        "colab": {
          "base_uri": "https://localhost:8080/"
        },
        "outputId": "4f53f38d-a48e-4e81-9733-464d3f87de57"
      },
      "outputs": [
        {
          "output_type": "stream",
          "name": "stdout",
          "text": [
            "              precision    recall  f1-score   support\n",
            "\n",
            "           0     0.9839    0.9869    0.9854      1979\n",
            "           1     0.9873    0.9844    0.9859      2056\n",
            "\n",
            "    accuracy                         0.9856      4035\n",
            "   macro avg     0.9856    0.9856    0.9856      4035\n",
            "weighted avg     0.9856    0.9856    0.9856      4035\n",
            "\n"
          ]
        }
      ],
      "source": [
        "# Getting the Classification Report\n",
        "print(classification_report(list(Y_test), pred, digits=4))"
      ]
    },
    {
      "cell_type": "code",
      "execution_count": null,
      "metadata": {
        "id": "WjUcHez4voeu",
        "colab": {
          "base_uri": "https://localhost:8080/"
        },
        "outputId": "9392e30b-a09d-4953-d028-a69548fc3482"
      },
      "outputs": [
        {
          "output_type": "stream",
          "name": "stdout",
          "text": [
            "Test Accuracy :  98.56 %\n"
          ]
        }
      ],
      "source": [
        "# Getting the Test Accuracy\n",
        "accuracy = accuracy_score(list(Y_test), pred)\n",
        "print(\"Test Accuracy : \", round(Decimal(accuracy*100),2),\"%\")"
      ]
    },
    {
      "cell_type": "code",
      "execution_count": null,
      "metadata": {
        "id": "xEwdHhyFvoid",
        "colab": {
          "base_uri": "https://localhost:8080/",
          "height": 159
        },
        "outputId": "d5f5aa40-b36f-4550-a02b-3af314b8385b"
      },
      "outputs": [
        {
          "output_type": "display_data",
          "data": {
            "text/plain": [
              "<Figure size 432x288 with 2 Axes>"
            ],
            "image/png": "[encoded data removed]"
          },
          "metadata": {
            "needs_background": "light"
          }
        },
        {
          "output_type": "display_data",
          "data": {
            "text/plain": [
              "<Figure size 720x720 with 0 Axes>"
            ]
          },
          "metadata": {}
        }
      ],
      "source": [
        "# Getting the Confusion Matrix\n",
        "cm = confusion_matrix(list(Y_test), pred)\n",
        "sns.heatmap(cm, annot = True)\n",
        "plt.ylabel('Test label')\n",
        "plt.xlabel('Predicted label')\n",
        "plt.figure(figsize = (10, 10))\n",
        "plt.show()"
      ]
    },
    {
      "cell_type": "markdown",
      "metadata": {
        "id": "InGebANf0eC0"
      },
      "source": [
        "## Classification Threshold 0.90"
      ]
    },
    {
      "cell_type": "code",
      "execution_count": null,
      "metadata": {
        "id": "CPyMQesi0lzV"
      },
      "outputs": [],
      "source": [
        "pred = (best_model.predict(padded_test) > 0.9)"
      ]
    },
    {
      "cell_type": "code",
      "execution_count": null,
      "metadata": {
        "id": "aHF1aC680lzX",
        "colab": {
          "base_uri": "https://localhost:8080/"
        },
        "outputId": "0be3f375-6bbf-45f5-d63d-37a9b0078406"
      },
      "outputs": [
        {
          "output_type": "stream",
          "name": "stdout",
          "text": [
            "              precision    recall  f1-score   support\n",
            "\n",
            "           0     0.9824    0.9879    0.9851      1979\n",
            "           1     0.9883    0.9830    0.9856      2056\n",
            "\n",
            "    accuracy                         0.9854      4035\n",
            "   macro avg     0.9853    0.9854    0.9854      4035\n",
            "weighted avg     0.9854    0.9854    0.9854      4035\n",
            "\n"
          ]
        }
      ],
      "source": [
        "# Getting the Classification Report\n",
        "print(classification_report(list(Y_test), pred, digits=4))"
      ]
    },
    {
      "cell_type": "code",
      "execution_count": null,
      "metadata": {
        "id": "2f0jJ1Lo0lzY",
        "colab": {
          "base_uri": "https://localhost:8080/"
        },
        "outputId": "7d2440a9-03a2-4109-f53a-8c66ddefecbb"
      },
      "outputs": [
        {
          "output_type": "stream",
          "name": "stdout",
          "text": [
            "Test Accuracy :  98.54 %\n"
          ]
        }
      ],
      "source": [
        "# Getting the Test Accuracy\n",
        "accuracy = accuracy_score(list(Y_test), pred)\n",
        "print(\"Test Accuracy : \", round(Decimal(accuracy*100),2),\"%\")"
      ]
    },
    {
      "cell_type": "code",
      "execution_count": null,
      "metadata": {
        "id": "jZvu6Gvw0lzb",
        "colab": {
          "base_uri": "https://localhost:8080/",
          "height": 159
        },
        "outputId": "35f3ba20-ce51-4d31-f746-3fd4ceb72e6e"
      },
      "outputs": [
        {
          "output_type": "display_data",
          "data": {
            "text/plain": [
              "<Figure size 432x288 with 2 Axes>"
            ],
            "image/png": "[encoded data removed]"
          },
          "metadata": {
            "needs_background": "light"
          }
        },
        {
          "output_type": "display_data",
          "data": {
            "text/plain": [
              "<Figure size 720x720 with 0 Axes>"
            ]
          },
          "metadata": {}
        }
      ],
      "source": [
        "# Getting the Confusion Matrix\n",
        "cm = confusion_matrix(list(Y_test), pred)\n",
        "sns.heatmap(cm, annot = True)\n",
        "plt.ylabel('Test label')\n",
        "plt.xlabel('Predicted label')\n",
        "plt.figure(figsize = (10, 10))\n",
        "plt.show()"
      ]
    },
    {
      "cell_type": "markdown",
      "metadata": {
        "id": "384QCMNP0rh9"
      },
      "source": [
        "## Classification Threshold 0.95"
      ]
    },
    {
      "cell_type": "code",
      "execution_count": null,
      "metadata": {
        "id": "HaXD9jVf0t0P"
      },
      "outputs": [],
      "source": [
        "pred = (best_model.predict(padded_test) > 0.95)"
      ]
    },
    {
      "cell_type": "code",
      "execution_count": null,
      "metadata": {
        "id": "QGC6kS620t0U",
        "colab": {
          "base_uri": "https://localhost:8080/"
        },
        "outputId": "5f85d50c-914c-4b02-927e-f6a9f84245fe"
      },
      "outputs": [
        {
          "output_type": "stream",
          "name": "stdout",
          "text": [
            "              precision    recall  f1-score   support\n",
            "\n",
            "           0     0.9810    0.9894    0.9852      1979\n",
            "           1     0.9897    0.9815    0.9856      2056\n",
            "\n",
            "    accuracy                         0.9854      4035\n",
            "   macro avg     0.9853    0.9855    0.9854      4035\n",
            "weighted avg     0.9854    0.9854    0.9854      4035\n",
            "\n"
          ]
        }
      ],
      "source": [
        "# Getting the Classification Report\n",
        "print(classification_report(list(Y_test), pred, digits=4))"
      ]
    },
    {
      "cell_type": "code",
      "execution_count": null,
      "metadata": {
        "id": "J_WkQ3KC0t0a",
        "colab": {
          "base_uri": "https://localhost:8080/"
        },
        "outputId": "e8d47132-596a-4fd5-aadc-6873a885706c"
      },
      "outputs": [
        {
          "output_type": "stream",
          "name": "stdout",
          "text": [
            "Test Accuracy :  98.54 %\n"
          ]
        }
      ],
      "source": [
        "# Getting the Test Accuracy\n",
        "accuracy = accuracy_score(list(Y_test), pred)\n",
        "print(\"Test Accuracy : \", round(Decimal(accuracy*100),2),\"%\")"
      ]
    },
    {
      "cell_type": "code",
      "execution_count": null,
      "metadata": {
        "id": "gXjMcuHb0t0e",
        "colab": {
          "base_uri": "https://localhost:8080/",
          "height": 159
        },
        "outputId": "06e53096-0f0e-4df2-f33d-0e78f73b50f7"
      },
      "outputs": [
        {
          "output_type": "display_data",
          "data": {
            "text/plain": [
              "<Figure size 432x288 with 2 Axes>"
            ],
            "image/png": "[encoded data removed]"
          },
          "metadata": {
            "needs_background": "light"
          }
        },
        {
          "output_type": "display_data",
          "data": {
            "text/plain": [
              "<Figure size 720x720 with 0 Axes>"
            ]
          },
          "metadata": {}
        }
      ],
      "source": [
        "# Getting the Confusion Matrix\n",
        "cm = confusion_matrix(list(Y_test), pred)\n",
        "sns.heatmap(cm, annot = True)\n",
        "plt.ylabel('Test label')\n",
        "plt.xlabel('Predicted label')\n",
        "plt.figure(figsize = (10, 10))\n",
        "plt.show()"
      ]
    },
    {
      "cell_type": "markdown",
      "metadata": {
        "id": "hOb09ZI72ze-"
      },
      "source": [
        "## Classification Threshold 0.99"
      ]
    },
    {
      "cell_type": "code",
      "execution_count": null,
      "metadata": {
        "id": "Ihb-AvAR2zfB"
      },
      "outputs": [],
      "source": [
        "pred = (best_model.predict(padded_test) > 0.99)"
      ]
    },
    {
      "cell_type": "code",
      "execution_count": null,
      "metadata": {
        "id": "tQbt_3lr2zfC",
        "colab": {
          "base_uri": "https://localhost:8080/"
        },
        "outputId": "508d6505-09d3-4328-9101-e4f4fbb7936c"
      },
      "outputs": [
        {
          "output_type": "stream",
          "name": "stdout",
          "text": [
            "              precision    recall  f1-score   support\n",
            "\n",
            "           0     0.9761    0.9924    0.9842      1979\n",
            "           1     0.9926    0.9767    0.9846      2056\n",
            "\n",
            "    accuracy                         0.9844      4035\n",
            "   macro avg     0.9844    0.9845    0.9844      4035\n",
            "weighted avg     0.9845    0.9844    0.9844      4035\n",
            "\n"
          ]
        }
      ],
      "source": [
        "# Getting the Classification Report\n",
        "print(classification_report(list(Y_test), pred, digits=4))"
      ]
    },
    {
      "cell_type": "code",
      "execution_count": null,
      "metadata": {
        "id": "EpEI88NY2zfE",
        "colab": {
          "base_uri": "https://localhost:8080/"
        },
        "outputId": "37d883e0-fc4f-4c80-cd41-f1f4a5580de8"
      },
      "outputs": [
        {
          "output_type": "stream",
          "name": "stdout",
          "text": [
            "Test Accuracy :  98.44 %\n"
          ]
        }
      ],
      "source": [
        "# Getting the Test Accuracy\n",
        "accuracy = accuracy_score(list(Y_test), pred)\n",
        "print(\"Test Accuracy : \", round(Decimal(accuracy*100),2),\"%\")"
      ]
    },
    {
      "cell_type": "code",
      "execution_count": null,
      "metadata": {
        "id": "n-5lbxzn2zfH",
        "colab": {
          "base_uri": "https://localhost:8080/",
          "height": 159
        },
        "outputId": "0d7ba1a6-3b2e-43c0-9b3e-c7d8871a66fe"
      },
      "outputs": [
        {
          "output_type": "display_data",
          "data": {
            "text/plain": [
              "<Figure size 432x288 with 2 Axes>"
            ],
            "image/png": "[encoded data removed]"
          },
          "metadata": {
            "needs_background": "light"
          }
        },
        {
          "output_type": "display_data",
          "data": {
            "text/plain": [
              "<Figure size 720x720 with 0 Axes>"
            ]
          },
          "metadata": {}
        }
      ],
      "source": [
        "# Getting the Confusion Matrix\n",
        "cm = confusion_matrix(list(Y_test), pred)\n",
        "sns.heatmap(cm, annot = True)\n",
        "plt.ylabel('Test label')\n",
        "plt.xlabel('Predicted label')\n",
        "plt.figure(figsize = (10, 10))\n",
        "plt.show()"
      ]
    }
  ],
  "metadata": {
    "colab": {
      "collapsed_sections": [
        "SmrxIJ-i0S84",
        "SpC-jcMQ0aDQ",
        "InGebANf0eC0",
        "384QCMNP0rh9",
        "hOb09ZI72ze-"
      ],
      "provenance": []
    },
    "kernelspec": {
      "display_name": "Python 3",
      "name": "python3"
    },
    "language_info": {
      "name": "python"
    },
    "gpuClass": "standard",
    "accelerator": "GPU"
  },
  "nbformat": 4,
  "nbformat_minor": 0
}