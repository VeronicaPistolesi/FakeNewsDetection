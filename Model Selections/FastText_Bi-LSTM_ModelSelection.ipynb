{
  "cells": [
    {
      "cell_type": "code",
      "execution_count": 1,
      "metadata": {
        "colab": {
          "base_uri": "https://localhost:8080/"
        },
        "id": "q7feVVqlc_Hr",
        "outputId": "1e7765b6-5b6d-4a46-a52a-1ebb6dad1af7"
      },
      "outputs": [
        {
          "output_type": "stream",
          "name": "stdout",
          "text": [
            "Mounted at /content/drive\n"
          ]
        }
      ],
      "source": [
        "from google.colab import drive\n",
        "drive.mount('/content/drive')"
      ]
    },
    {
      "cell_type": "markdown",
      "source": [
        "# Libraries"
      ],
      "metadata": {
        "id": "oH1LiSCVO533"
      }
    },
    {
      "cell_type": "code",
      "execution_count": 2,
      "metadata": {
        "id": "LuB6ODLFdNzP"
      },
      "outputs": [],
      "source": [
        "# Insert the directory\n",
        "import sys\n",
        "sys.path.insert(0,'/content/drive/Shareddrives/ProgettoHLT/FakeNewsDetection')"
      ]
    },
    {
      "cell_type": "code",
      "execution_count": 3,
      "metadata": {
        "id": "dpahpq_WS8I6",
        "colab": {
          "base_uri": "https://localhost:8080/"
        },
        "outputId": "43a22a27-bff0-4113-b9dd-86710cb122f4"
      },
      "outputs": [
        {
          "output_type": "stream",
          "name": "stdout",
          "text": [
            "Looking in indexes: https://pypi.org/simple, https://us-python.pkg.dev/colab-wheels/public/simple/\n",
            "Collecting keras_tuner\n",
            "  Downloading keras_tuner-1.1.3-py3-none-any.whl (135 kB)\n",
            "\u001b[K     |████████████████████████████████| 135 kB 5.0 MB/s \n",
            "\u001b[?25hRequirement already satisfied: requests in /usr/local/lib/python3.7/dist-packages (from keras_tuner) (2.23.0)\n",
            "Requirement already satisfied: tensorboard in /usr/local/lib/python3.7/dist-packages (from keras_tuner) (2.8.0)\n",
            "Requirement already satisfied: numpy in /usr/local/lib/python3.7/dist-packages (from keras_tuner) (1.21.6)\n",
            "Collecting kt-legacy\n",
            "  Downloading kt_legacy-1.0.4-py3-none-any.whl (9.6 kB)\n",
            "Requirement already satisfied: ipython in /usr/local/lib/python3.7/dist-packages (from keras_tuner) (7.9.0)\n",
            "Requirement already satisfied: packaging in /usr/local/lib/python3.7/dist-packages (from keras_tuner) (21.3)\n",
            "Requirement already satisfied: pickleshare in /usr/local/lib/python3.7/dist-packages (from ipython->keras_tuner) (0.7.5)\n",
            "Requirement already satisfied: decorator in /usr/local/lib/python3.7/dist-packages (from ipython->keras_tuner) (4.4.2)\n",
            "Requirement already satisfied: setuptools>=18.5 in /usr/local/lib/python3.7/dist-packages (from ipython->keras_tuner) (57.4.0)\n",
            "Requirement already satisfied: backcall in /usr/local/lib/python3.7/dist-packages (from ipython->keras_tuner) (0.2.0)\n",
            "Collecting jedi>=0.10\n",
            "  Downloading jedi-0.18.1-py2.py3-none-any.whl (1.6 MB)\n",
            "\u001b[K     |████████████████████████████████| 1.6 MB 41.7 MB/s \n",
            "\u001b[?25hRequirement already satisfied: prompt-toolkit<2.1.0,>=2.0.0 in /usr/local/lib/python3.7/dist-packages (from ipython->keras_tuner) (2.0.10)\n",
            "Requirement already satisfied: traitlets>=4.2 in /usr/local/lib/python3.7/dist-packages (from ipython->keras_tuner) (5.1.1)\n",
            "Requirement already satisfied: pygments in /usr/local/lib/python3.7/dist-packages (from ipython->keras_tuner) (2.6.1)\n",
            "Requirement already satisfied: pexpect in /usr/local/lib/python3.7/dist-packages (from ipython->keras_tuner) (4.8.0)\n",
            "Requirement already satisfied: parso<0.9.0,>=0.8.0 in /usr/local/lib/python3.7/dist-packages (from jedi>=0.10->ipython->keras_tuner) (0.8.3)\n",
            "Requirement already satisfied: wcwidth in /usr/local/lib/python3.7/dist-packages (from prompt-toolkit<2.1.0,>=2.0.0->ipython->keras_tuner) (0.2.5)\n",
            "Requirement already satisfied: six>=1.9.0 in /usr/local/lib/python3.7/dist-packages (from prompt-toolkit<2.1.0,>=2.0.0->ipython->keras_tuner) (1.15.0)\n",
            "Requirement already satisfied: pyparsing!=3.0.5,>=2.0.2 in /usr/local/lib/python3.7/dist-packages (from packaging->keras_tuner) (3.0.9)\n",
            "Requirement already satisfied: ptyprocess>=0.5 in /usr/local/lib/python3.7/dist-packages (from pexpect->ipython->keras_tuner) (0.7.0)\n",
            "Requirement already satisfied: urllib3!=1.25.0,!=1.25.1,<1.26,>=1.21.1 in /usr/local/lib/python3.7/dist-packages (from requests->keras_tuner) (1.24.3)\n",
            "Requirement already satisfied: chardet<4,>=3.0.2 in /usr/local/lib/python3.7/dist-packages (from requests->keras_tuner) (3.0.4)\n",
            "Requirement already satisfied: idna<3,>=2.5 in /usr/local/lib/python3.7/dist-packages (from requests->keras_tuner) (2.10)\n",
            "Requirement already satisfied: certifi>=2017.4.17 in /usr/local/lib/python3.7/dist-packages (from requests->keras_tuner) (2022.6.15)\n",
            "Requirement already satisfied: protobuf>=3.6.0 in /usr/local/lib/python3.7/dist-packages (from tensorboard->keras_tuner) (3.17.3)\n",
            "Requirement already satisfied: werkzeug>=0.11.15 in /usr/local/lib/python3.7/dist-packages (from tensorboard->keras_tuner) (1.0.1)\n",
            "Requirement already satisfied: tensorboard-data-server<0.7.0,>=0.6.0 in /usr/local/lib/python3.7/dist-packages (from tensorboard->keras_tuner) (0.6.1)\n",
            "Requirement already satisfied: google-auth-oauthlib<0.5,>=0.4.1 in /usr/local/lib/python3.7/dist-packages (from tensorboard->keras_tuner) (0.4.6)\n",
            "Requirement already satisfied: google-auth<3,>=1.6.3 in /usr/local/lib/python3.7/dist-packages (from tensorboard->keras_tuner) (1.35.0)\n",
            "Requirement already satisfied: grpcio>=1.24.3 in /usr/local/lib/python3.7/dist-packages (from tensorboard->keras_tuner) (1.48.1)\n",
            "Requirement already satisfied: markdown>=2.6.8 in /usr/local/lib/python3.7/dist-packages (from tensorboard->keras_tuner) (3.4.1)\n",
            "Requirement already satisfied: wheel>=0.26 in /usr/local/lib/python3.7/dist-packages (from tensorboard->keras_tuner) (0.37.1)\n",
            "Requirement already satisfied: absl-py>=0.4 in /usr/local/lib/python3.7/dist-packages (from tensorboard->keras_tuner) (1.2.0)\n",
            "Requirement already satisfied: tensorboard-plugin-wit>=1.6.0 in /usr/local/lib/python3.7/dist-packages (from tensorboard->keras_tuner) (1.8.1)\n",
            "Requirement already satisfied: cachetools<5.0,>=2.0.0 in /usr/local/lib/python3.7/dist-packages (from google-auth<3,>=1.6.3->tensorboard->keras_tuner) (4.2.4)\n",
            "Requirement already satisfied: rsa<5,>=3.1.4 in /usr/local/lib/python3.7/dist-packages (from google-auth<3,>=1.6.3->tensorboard->keras_tuner) (4.9)\n",
            "Requirement already satisfied: pyasn1-modules>=0.2.1 in /usr/local/lib/python3.7/dist-packages (from google-auth<3,>=1.6.3->tensorboard->keras_tuner) (0.2.8)\n",
            "Requirement already satisfied: requests-oauthlib>=0.7.0 in /usr/local/lib/python3.7/dist-packages (from google-auth-oauthlib<0.5,>=0.4.1->tensorboard->keras_tuner) (1.3.1)\n",
            "Requirement already satisfied: importlib-metadata>=4.4 in /usr/local/lib/python3.7/dist-packages (from markdown>=2.6.8->tensorboard->keras_tuner) (4.12.0)\n",
            "Requirement already satisfied: zipp>=0.5 in /usr/local/lib/python3.7/dist-packages (from importlib-metadata>=4.4->markdown>=2.6.8->tensorboard->keras_tuner) (3.8.1)\n",
            "Requirement already satisfied: typing-extensions>=3.6.4 in /usr/local/lib/python3.7/dist-packages (from importlib-metadata>=4.4->markdown>=2.6.8->tensorboard->keras_tuner) (4.1.1)\n",
            "Requirement already satisfied: pyasn1<0.5.0,>=0.4.6 in /usr/local/lib/python3.7/dist-packages (from pyasn1-modules>=0.2.1->google-auth<3,>=1.6.3->tensorboard->keras_tuner) (0.4.8)\n",
            "Requirement already satisfied: oauthlib>=3.0.0 in /usr/local/lib/python3.7/dist-packages (from requests-oauthlib>=0.7.0->google-auth-oauthlib<0.5,>=0.4.1->tensorboard->keras_tuner) (3.2.0)\n",
            "Installing collected packages: jedi, kt-legacy, keras-tuner\n",
            "Successfully installed jedi-0.18.1 keras-tuner-1.1.3 kt-legacy-1.0.4\n"
          ]
        }
      ],
      "source": [
        "pip install keras_tuner"
      ]
    },
    {
      "cell_type": "code",
      "execution_count": 4,
      "metadata": {
        "id": "-S-pI5KWhZw9"
      },
      "outputs": [],
      "source": [
        "import numpy as np\n",
        "import seaborn as sns\n",
        "import codecs\n",
        "from tqdm import tqdm\n",
        "from tensorflow.keras.models import Sequential, Model\n",
        "from tensorflow.keras.layers import Dense, Embedding, LSTM, Bidirectional, Dropout, GlobalMaxPool1D\n",
        "from tensorflow.keras.callbacks import EarlyStopping\n",
        "from tensorflow.keras.optimizers import Adam\n",
        "from keras_tuner.tuners import RandomSearch\n",
        "from keras_tuner import HyperModel, Objective\n",
        "from decimal import Decimal\n",
        "from sklearn.metrics import classification_report, accuracy_score\n",
        "from sklearn.metrics import confusion_matrix\n",
        "import warnings\n",
        "warnings.filterwarnings(\"ignore\")"
      ]
    },
    {
      "cell_type": "code",
      "execution_count": 5,
      "metadata": {
        "id": "4l97cS3Bfe7H",
        "colab": {
          "base_uri": "https://localhost:8080/",
          "height": 1000
        },
        "outputId": "1e1a4b3e-d58f-4ae7-dd53-e7ebc6ea4a1e"
      },
      "outputs": [
        {
          "output_type": "stream",
          "name": "stdout",
          "text": [
            "Drive already mounted at /content/drive; to attempt to forcibly remount, call drive.mount(\"/content/drive\", force_remount=True).\n"
          ]
        },
        {
          "output_type": "display_data",
          "data": {
            "text/plain": [
              "                                                    text  label\n",
              "0      dark agenda behind globalism open border altma...      0\n",
              "1      america poor still get shaft sami jamil jadall...      0\n",
              "2      number accuser grow former miss finland accuse...      0\n",
              "3      heroic prego advertisement replaces refresh we...      0\n",
              "4      russia syria debbie reynolds thursday even bri...      1\n",
              "...                                                  ...    ...\n",
              "16641  comment cost selfdriving taxi really sixtyseve...      0\n",
              "16642  interest duterte get billion china get money j...      0\n",
              "16643  forget encyclopaedia get pokiespedia home win ...      0\n",
              "16644  u election race huma abedin connection minute ...      0\n",
              "16645  shameful obama legacy white man beat viciously...      0\n",
              "\n",
              "[16646 rows x 2 columns]"
            ],
            "text/html": [
              "\n",
              "  <div id=\"df-0869aa24-fb94-4883-889d-fb69054e1412\">\n",
              "    <div class=\"colab-df-container\">\n",
              "      <div>\n",
              "<style scoped>\n",
              "    .dataframe tbody tr th:only-of-type {\n",
              "        vertical-align: middle;\n",
              "    }\n",
              "\n",
              "    .dataframe tbody tr th {\n",
              "        vertical-align: top;\n",
              "    }\n",
              "\n",
              "    .dataframe thead th {\n",
              "        text-align: right;\n",
              "    }\n",
              "</style>\n",
              "<table border=\"1\" class=\"dataframe\">\n",
              "  <thead>\n",
              "    <tr style=\"text-align: right;\">\n",
              "      <th></th>\n",
              "      <th>text</th>\n",
              "      <th>label</th>\n",
              "    </tr>\n",
              "  </thead>\n",
              "  <tbody>\n",
              "    <tr>\n",
              "      <th>0</th>\n",
              "      <td>dark agenda behind globalism open border altma...</td>\n",
              "      <td>0</td>\n",
              "    </tr>\n",
              "    <tr>\n",
              "      <th>1</th>\n",
              "      <td>america poor still get shaft sami jamil jadall...</td>\n",
              "      <td>0</td>\n",
              "    </tr>\n",
              "    <tr>\n",
              "      <th>2</th>\n",
              "      <td>number accuser grow former miss finland accuse...</td>\n",
              "      <td>0</td>\n",
              "    </tr>\n",
              "    <tr>\n",
              "      <th>3</th>\n",
              "      <td>heroic prego advertisement replaces refresh we...</td>\n",
              "      <td>0</td>\n",
              "    </tr>\n",
              "    <tr>\n",
              "      <th>4</th>\n",
              "      <td>russia syria debbie reynolds thursday even bri...</td>\n",
              "      <td>1</td>\n",
              "    </tr>\n",
              "    <tr>\n",
              "      <th>...</th>\n",
              "      <td>...</td>\n",
              "      <td>...</td>\n",
              "    </tr>\n",
              "    <tr>\n",
              "      <th>16641</th>\n",
              "      <td>comment cost selfdriving taxi really sixtyseve...</td>\n",
              "      <td>0</td>\n",
              "    </tr>\n",
              "    <tr>\n",
              "      <th>16642</th>\n",
              "      <td>interest duterte get billion china get money j...</td>\n",
              "      <td>0</td>\n",
              "    </tr>\n",
              "    <tr>\n",
              "      <th>16643</th>\n",
              "      <td>forget encyclopaedia get pokiespedia home win ...</td>\n",
              "      <td>0</td>\n",
              "    </tr>\n",
              "    <tr>\n",
              "      <th>16644</th>\n",
              "      <td>u election race huma abedin connection minute ...</td>\n",
              "      <td>0</td>\n",
              "    </tr>\n",
              "    <tr>\n",
              "      <th>16645</th>\n",
              "      <td>shameful obama legacy white man beat viciously...</td>\n",
              "      <td>0</td>\n",
              "    </tr>\n",
              "  </tbody>\n",
              "</table>\n",
              "<p>16646 rows × 2 columns</p>\n",
              "</div>\n",
              "      <button class=\"colab-df-convert\" onclick=\"convertToInteractive('df-0869aa24-fb94-4883-889d-fb69054e1412')\"\n",
              "              title=\"Convert this dataframe to an interactive table.\"\n",
              "              style=\"display:none;\">\n",
              "        \n",
              "  <svg xmlns=\"http://www.w3.org/2000/svg\" height=\"24px\"viewBox=\"0 0 24 24\"\n",
              "       width=\"24px\">\n",
              "    <path d=\"M0 0h24v24H0V0z\" fill=\"none\"/>\n",
              "    <path d=\"M18.56 5.44l.94 2.06.94-2.06 2.06-.94-2.06-.94-.94-2.06-.94 2.06-2.06.94zm-11 1L8.5 8.5l.94-2.06 2.06-.94-2.06-.94L8.5 2.5l-.94 2.06-2.06.94zm10 10l.94 2.06.94-2.06 2.06-.94-2.06-.94-.94-2.06-.94 2.06-2.06.94z\"/><path d=\"M17.41 7.96l-1.37-1.37c-.4-.4-.92-.59-1.43-.59-.52 0-1.04.2-1.43.59L10.3 9.45l-7.72 7.72c-.78.78-.78 2.05 0 2.83L4 21.41c.39.39.9.59 1.41.59.51 0 1.02-.2 1.41-.59l7.78-7.78 2.81-2.81c.8-.78.8-2.07 0-2.86zM5.41 20L4 18.59l7.72-7.72 1.47 1.35L5.41 20z\"/>\n",
              "  </svg>\n",
              "      </button>\n",
              "      \n",
              "  <style>\n",
              "    .colab-df-container {\n",
              "      display:flex;\n",
              "      flex-wrap:wrap;\n",
              "      gap: 12px;\n",
              "    }\n",
              "\n",
              "    .colab-df-convert {\n",
              "      background-color: #E8F0FE;\n",
              "      border: none;\n",
              "      border-radius: 50%;\n",
              "      cursor: pointer;\n",
              "      display: none;\n",
              "      fill: #1967D2;\n",
              "      height: 32px;\n",
              "      padding: 0 0 0 0;\n",
              "      width: 32px;\n",
              "    }\n",
              "\n",
              "    .colab-df-convert:hover {\n",
              "      background-color: #E2EBFA;\n",
              "      box-shadow: 0px 1px 2px rgba(60, 64, 67, 0.3), 0px 1px 3px 1px rgba(60, 64, 67, 0.15);\n",
              "      fill: #174EA6;\n",
              "    }\n",
              "\n",
              "    [theme=dark] .colab-df-convert {\n",
              "      background-color: #3B4455;\n",
              "      fill: #D2E3FC;\n",
              "    }\n",
              "\n",
              "    [theme=dark] .colab-df-convert:hover {\n",
              "      background-color: #434B5C;\n",
              "      box-shadow: 0px 1px 3px 1px rgba(0, 0, 0, 0.15);\n",
              "      filter: drop-shadow(0px 1px 2px rgba(0, 0, 0, 0.3));\n",
              "      fill: #FFFFFF;\n",
              "    }\n",
              "  </style>\n",
              "\n",
              "      <script>\n",
              "        const buttonEl =\n",
              "          document.querySelector('#df-0869aa24-fb94-4883-889d-fb69054e1412 button.colab-df-convert');\n",
              "        buttonEl.style.display =\n",
              "          google.colab.kernel.accessAllowed ? 'block' : 'none';\n",
              "\n",
              "        async function convertToInteractive(key) {\n",
              "          const element = document.querySelector('#df-0869aa24-fb94-4883-889d-fb69054e1412');\n",
              "          const dataTable =\n",
              "            await google.colab.kernel.invokeFunction('convertToInteractive',\n",
              "                                                     [key], {});\n",
              "          if (!dataTable) return;\n",
              "\n",
              "          const docLinkHtml = 'Like what you see? Visit the ' +\n",
              "            '<a target=\"_blank\" href=https://colab.research.google.com/notebooks/data_table.ipynb>data table notebook</a>'\n",
              "            + ' to learn more about interactive tables.';\n",
              "          element.innerHTML = '';\n",
              "          dataTable['output_type'] = 'display_data';\n",
              "          await google.colab.output.renderOutput(dataTable, element);\n",
              "          const docLink = document.createElement('div');\n",
              "          docLink.innerHTML = docLinkHtml;\n",
              "          element.appendChild(docLink);\n",
              "        }\n",
              "      </script>\n",
              "    </div>\n",
              "  </div>\n",
              "  "
            ]
          },
          "metadata": {}
        },
        {
          "output_type": "stream",
          "name": "stdout",
          "text": [
            "Number of unique words:  123659\n"
          ]
        },
        {
          "output_type": "stream",
          "name": "stderr",
          "text": [
            "[nltk_data] Downloading package punkt to /root/nltk_data...\n",
            "[nltk_data]   Unzipping tokenizers/punkt.zip.\n"
          ]
        },
        {
          "output_type": "stream",
          "name": "stdout",
          "text": [
            "Number of news: 16646\n",
            "Max length of the news: 10211 tokens\n",
            "Min length of the news: 2 tokens\n",
            "Mean length of the news: 426 tokens\n",
            "Standard Deviation of the news: 443.92 tokens\n",
            "Median length of the news: 317\n",
            "Number of outliers: 561\n",
            "Percentage outliers 3.37 %\n"
          ]
        },
        {
          "output_type": "display_data",
          "data": {
            "text/plain": [
              "<Figure size 1440x288 with 1 Axes>"
            ],
            "image/png": "[encoded data removed]"
          },
          "metadata": {
            "needs_background": "light"
          }
        },
        {
          "output_type": "display_data",
          "data": {
            "text/plain": [
              "<Figure size 1296x288 with 1 Axes>"
            ],
            "image/png": "[encoded data removed]"
          },
          "metadata": {
            "needs_background": "light"
          }
        },
        {
          "output_type": "stream",
          "name": "stdout",
          "text": [
            "Training Set shape: (13316, 3)\n",
            "Validation Set shape: (3330, 3)\n",
            "Test Set shape: (4035, 2)\n"
          ]
        },
        {
          "output_type": "display_data",
          "data": {
            "text/plain": [
              "<Figure size 432x288 with 1 Axes>"
            ],
            "image/png": "[encoded data removed]"
          },
          "metadata": {
            "needs_background": "light"
          }
        },
        {
          "output_type": "stream",
          "name": "stdout",
          "text": [
            "Number of True News in the Training Set: 6658\n",
            "Number of Fake News in the Training Set: 6658\n"
          ]
        },
        {
          "output_type": "display_data",
          "data": {
            "text/plain": [
              "<Figure size 432x288 with 1 Axes>"
            ],
            "image/png": "[encoded data removed]"
          },
          "metadata": {
            "needs_background": "light"
          }
        },
        {
          "output_type": "stream",
          "name": "stdout",
          "text": [
            "Number of True News in the Validation Set: 1665\n",
            "Number of Fake News in the Validation Set: 1665\n"
          ]
        }
      ],
      "source": [
        "from data_preprocessing import unique_words, padded_train, padded_val, padded_test, Y_train, Y_val, Y_test, median, word_index"
      ]
    },
    {
      "cell_type": "markdown",
      "metadata": {
        "id": "tqjeEJm3AuMr"
      },
      "source": [
        "# Model Selection"
      ]
    },
    {
      "cell_type": "markdown",
      "source": [
        "Pre-trained Word Embedding with FastText"
      ],
      "metadata": {
        "id": "SF1xy0m1ibSw"
      }
    },
    {
      "cell_type": "code",
      "source": [
        "#load embeddings\n",
        "print('loading word embeddings...')\n",
        "embeddings_index = {}\n",
        "f = codecs.open('/content/drive/Shareddrives/ProgettoHLT/FakeNewsDetection/wiki-news-300d-1M.vec', encoding='utf-8')\n",
        "for line in tqdm(f):\n",
        "    values = line.rstrip().rsplit(' ')\n",
        "    word = values[0]\n",
        "    coefs = np.asarray(values[1:], dtype='float32')\n",
        "    embeddings_index[word] = coefs\n",
        "f.close()\n",
        "print('found %s word vectors' % len(embeddings_index))"
      ],
      "metadata": {
        "id": "8J5Cn__4ii1k",
        "colab": {
          "base_uri": "https://localhost:8080/"
        },
        "outputId": "ecb50c4c-1c4e-420a-f9f3-f7eafcf3ca30"
      },
      "execution_count": 6,
      "outputs": [
        {
          "output_type": "stream",
          "name": "stdout",
          "text": [
            "loading word embeddings...\n"
          ]
        },
        {
          "output_type": "stream",
          "name": "stderr",
          "text": [
            "999995it [01:21, 12256.50it/s]"
          ]
        },
        {
          "output_type": "stream",
          "name": "stdout",
          "text": [
            "found 999995 word vectors\n"
          ]
        },
        {
          "output_type": "stream",
          "name": "stderr",
          "text": [
            "\n"
          ]
        }
      ]
    },
    {
      "cell_type": "code",
      "source": [
        "#embedding matrix\n",
        "print('preparing embedding matrix...')\n",
        "words_not_found = []\n",
        "nb_words = min(unique_words, len(word_index))+1\n",
        "embedding_matrix = np.zeros((nb_words, 300))\n",
        "for word, i in word_index.items():\n",
        "    if i >= nb_words:\n",
        "        continue\n",
        "    embedding_vector = embeddings_index.get(word)\n",
        "    if (embedding_vector is not None) and len(embedding_vector) > 0:\n",
        "        # words not found in embedding index will be all-zeros.\n",
        "        embedding_matrix[i] = embedding_vector\n",
        "    else:\n",
        "        words_not_found.append(word)\n",
        "print('number of null word embeddings: %d' % np.sum(np.sum(embedding_matrix, axis=1) == 0))"
      ],
      "metadata": {
        "id": "0Mm4BwYOioDk",
        "colab": {
          "base_uri": "https://localhost:8080/"
        },
        "outputId": "ed7c5865-24a2-46ad-8b65-a04407a02e01"
      },
      "execution_count": 7,
      "outputs": [
        {
          "output_type": "stream",
          "name": "stdout",
          "text": [
            "preparing embedding matrix...\n",
            "number of null word embeddings: 50608\n"
          ]
        }
      ]
    },
    {
      "cell_type": "code",
      "execution_count": 8,
      "metadata": {
        "id": "Z0d7qNMLUCc3"
      },
      "outputs": [],
      "source": [
        "class MyHyperModel(HyperModel):\n",
        "\n",
        "  def build(self, hp):\n",
        "\n",
        "    model = Sequential()\n",
        "    \n",
        "    model.add(Embedding(nb_words, weights=[embedding_matrix], output_dim = 300, input_length=median))                                  \n",
        "    \n",
        "    model.add(Bidirectional(LSTM(units=hp.Choice('LSTM_units', values=[32, 64, 128]), return_sequences= True)))\n",
        "    model.add(GlobalMaxPool1D())\n",
        "    model.add(Dropout(rate=hp.Choice('rate_dropout', values=[0.1, 0.2, 0.3, 0.4, 0.5]))) \n",
        "   \n",
        "    model.add(Dense(units=hp.Choice('dense_units', values=[32, 64, 128]), activation=\"relu\"))\n",
        "    model.add(Dense(1,activation= 'sigmoid'))\n",
        "    \n",
        "    model.compile(optimizer=Adam(lr= hp.Choice('learning_rate', values=[1e-4, 0.5e-3, 1e-3, 0.5e-2, 1e-2]), clipnorm= hp.Choice('clip_norm', values= [1, 3, 5])), loss=\"binary_crossentropy\", metrics=['accuracy'])\n",
        "\n",
        "    return model"
      ]
    },
    {
      "cell_type": "code",
      "source": [
        "# Add BatchSize HyperParameter via overriding \"run_trial\"\n",
        "class MyTuner(RandomSearch):\n",
        "  def run_trial(self, trial, *args, **kwargs):\n",
        "    kwargs['batch_size'] = trial.hyperparameters.Choice('batch_size', values=[16, 32, 64, 128]) \n",
        "    return super(MyTuner, self).run_trial(trial, *args, **kwargs)"
      ],
      "metadata": {
        "id": "vBrHkY5Rh8jQ"
      },
      "execution_count": 9,
      "outputs": []
    },
    {
      "cell_type": "code",
      "source": [
        "# Random Search setting\n",
        "tuner = MyTuner(\n",
        "    MyHyperModel(),\n",
        "    objective = Objective('val_accuracy', 'max'), \n",
        "    max_trials = 60,                                                 \n",
        "    executions_per_trial = 1,\n",
        "    overwrite=True\n",
        ")"
      ],
      "metadata": {
        "id": "X5iPSUqjM4LO"
      },
      "execution_count": 10,
      "outputs": []
    },
    {
      "cell_type": "code",
      "execution_count": 11,
      "metadata": {
        "id": "pxS4DMQwGAHt",
        "colab": {
          "base_uri": "https://localhost:8080/"
        },
        "outputId": "c1bbe959-2d89-44e7-c855-593b7a99192d"
      },
      "outputs": [
        {
          "output_type": "stream",
          "name": "stdout",
          "text": [
            "Search space summary\n",
            "Default search space size: 5\n",
            "LSTM_units (Choice)\n",
            "{'default': 32, 'conditions': [], 'values': [32, 64, 128], 'ordered': True}\n",
            "rate_dropout (Choice)\n",
            "{'default': 0.1, 'conditions': [], 'values': [0.1, 0.2, 0.3, 0.4, 0.5], 'ordered': True}\n",
            "dense_units (Choice)\n",
            "{'default': 32, 'conditions': [], 'values': [32, 64, 128], 'ordered': True}\n",
            "learning_rate (Choice)\n",
            "{'default': 0.0001, 'conditions': [], 'values': [0.0001, 0.0005, 0.001, 0.005, 0.01], 'ordered': True}\n",
            "clip_norm (Choice)\n",
            "{'default': 1, 'conditions': [], 'values': [1, 3, 5], 'ordered': True}\n"
          ]
        }
      ],
      "source": [
        "tuner.search_space_summary(extended=True)"
      ]
    },
    {
      "cell_type": "code",
      "source": [
        "Y_train = np.asarray(Y_train)"
      ],
      "metadata": {
        "id": "-XNXFVLnNfTf"
      },
      "execution_count": 12,
      "outputs": []
    },
    {
      "cell_type": "code",
      "execution_count": 13,
      "metadata": {
        "id": "SEdds6i0-ohn",
        "colab": {
          "base_uri": "https://localhost:8080/"
        },
        "outputId": "efa6a6bf-b854-40c2-ba85-dd668ecf5aa2"
      },
      "outputs": [
        {
          "output_type": "stream",
          "name": "stdout",
          "text": [
            "Trial 60 Complete [00h 01m 56s]\n",
            "val_accuracy: 0.9834834933280945\n",
            "\n",
            "Best val_accuracy So Far: 0.9885885715484619\n",
            "Total elapsed time: 02h 34m 53s\n"
          ]
        }
      ],
      "source": [
        "# Random Search execution\n",
        "es = EarlyStopping(monitor='val_accuracy', patience=3, mode='max', restore_best_weights=True, verbose=1)\n",
        "tuner.search(padded_train, Y_train, epochs=20, validation_data=(padded_val, Y_val), callbacks=[es]) "
      ]
    },
    {
      "cell_type": "code",
      "execution_count": 14,
      "metadata": {
        "id": "7htktOVmbClK",
        "colab": {
          "base_uri": "https://localhost:8080/"
        },
        "outputId": "b82fe63d-f63b-48a5-991e-19905b132d8f"
      },
      "outputs": [
        {
          "output_type": "stream",
          "name": "stdout",
          "text": [
            "Results summary\n",
            "Results in ./untitled_project\n",
            "Showing 10 best trials\n",
            "<keras_tuner.engine.objective.Objective object at 0x7f9be83d2490>\n",
            "Trial summary\n",
            "Hyperparameters:\n",
            "LSTM_units: 64\n",
            "rate_dropout: 0.3\n",
            "dense_units: 32\n",
            "learning_rate: 0.005\n",
            "clip_norm: 3\n",
            "batch_size: 128\n",
            "Score: 0.9885885715484619\n",
            "Trial summary\n",
            "Hyperparameters:\n",
            "LSTM_units: 128\n",
            "rate_dropout: 0.3\n",
            "dense_units: 128\n",
            "learning_rate: 0.005\n",
            "clip_norm: 5\n",
            "batch_size: 32\n",
            "Score: 0.9873873591423035\n",
            "Trial summary\n",
            "Hyperparameters:\n",
            "LSTM_units: 128\n",
            "rate_dropout: 0.1\n",
            "dense_units: 32\n",
            "learning_rate: 0.0005\n",
            "clip_norm: 1\n",
            "batch_size: 16\n",
            "Score: 0.9864864945411682\n",
            "Trial summary\n",
            "Hyperparameters:\n",
            "LSTM_units: 128\n",
            "rate_dropout: 0.1\n",
            "dense_units: 32\n",
            "learning_rate: 0.001\n",
            "clip_norm: 3\n",
            "batch_size: 32\n",
            "Score: 0.9864864945411682\n",
            "Trial summary\n",
            "Hyperparameters:\n",
            "LSTM_units: 32\n",
            "rate_dropout: 0.3\n",
            "dense_units: 64\n",
            "learning_rate: 0.001\n",
            "clip_norm: 1\n",
            "batch_size: 16\n",
            "Score: 0.9861862063407898\n",
            "Trial summary\n",
            "Hyperparameters:\n",
            "LSTM_units: 64\n",
            "rate_dropout: 0.2\n",
            "dense_units: 32\n",
            "learning_rate: 0.01\n",
            "clip_norm: 3\n",
            "batch_size: 64\n",
            "Score: 0.9849849939346313\n",
            "Trial summary\n",
            "Hyperparameters:\n",
            "LSTM_units: 32\n",
            "rate_dropout: 0.2\n",
            "dense_units: 128\n",
            "learning_rate: 0.001\n",
            "clip_norm: 1\n",
            "batch_size: 16\n",
            "Score: 0.9843843579292297\n",
            "Trial summary\n",
            "Hyperparameters:\n",
            "LSTM_units: 64\n",
            "rate_dropout: 0.3\n",
            "dense_units: 32\n",
            "learning_rate: 0.001\n",
            "clip_norm: 3\n",
            "batch_size: 32\n",
            "Score: 0.9840840697288513\n",
            "Trial summary\n",
            "Hyperparameters:\n",
            "LSTM_units: 32\n",
            "rate_dropout: 0.1\n",
            "dense_units: 64\n",
            "learning_rate: 0.005\n",
            "clip_norm: 1\n",
            "batch_size: 16\n",
            "Score: 0.9837837815284729\n",
            "Trial summary\n",
            "Hyperparameters:\n",
            "LSTM_units: 32\n",
            "rate_dropout: 0.5\n",
            "dense_units: 128\n",
            "learning_rate: 0.005\n",
            "clip_norm: 1\n",
            "batch_size: 64\n",
            "Score: 0.9837837815284729\n"
          ]
        }
      ],
      "source": [
        "# Random Search 10 best results\n",
        "tuner.results_summary() "
      ]
    },
    {
      "cell_type": "code",
      "source": [
        "# Focus on Best Trial\n",
        "tuner.oracle.get_best_trials()[0].get_state()"
      ],
      "metadata": {
        "id": "3Ty8rkpE4fxt",
        "colab": {
          "base_uri": "https://localhost:8080/"
        },
        "outputId": "d553fad1-7cb3-4b8a-dc1f-ff77fdd50b03"
      },
      "execution_count": 15,
      "outputs": [
        {
          "output_type": "execute_result",
          "data": {
            "text/plain": [
              "{'trial_id': '46',\n",
              " 'hyperparameters': {'space': [{'class_name': 'Choice',\n",
              "    'config': {'name': 'LSTM_units',\n",
              "     'default': 32,\n",
              "     'conditions': [],\n",
              "     'values': [32, 64, 128],\n",
              "     'ordered': True}},\n",
              "   {'class_name': 'Choice',\n",
              "    'config': {'name': 'rate_dropout',\n",
              "     'default': 0.1,\n",
              "     'conditions': [],\n",
              "     'values': [0.1, 0.2, 0.3, 0.4, 0.5],\n",
              "     'ordered': True}},\n",
              "   {'class_name': 'Choice',\n",
              "    'config': {'name': 'dense_units',\n",
              "     'default': 32,\n",
              "     'conditions': [],\n",
              "     'values': [32, 64, 128],\n",
              "     'ordered': True}},\n",
              "   {'class_name': 'Choice',\n",
              "    'config': {'name': 'learning_rate',\n",
              "     'default': 0.0001,\n",
              "     'conditions': [],\n",
              "     'values': [0.0001, 0.0005, 0.001, 0.005, 0.01],\n",
              "     'ordered': True}},\n",
              "   {'class_name': 'Choice',\n",
              "    'config': {'name': 'clip_norm',\n",
              "     'default': 1,\n",
              "     'conditions': [],\n",
              "     'values': [1, 3, 5],\n",
              "     'ordered': True}},\n",
              "   {'class_name': 'Choice',\n",
              "    'config': {'name': 'batch_size',\n",
              "     'default': 16,\n",
              "     'conditions': [],\n",
              "     'values': [16, 32, 64, 128],\n",
              "     'ordered': True}}],\n",
              "  'values': {'LSTM_units': 64,\n",
              "   'rate_dropout': 0.3,\n",
              "   'dense_units': 32,\n",
              "   'learning_rate': 0.005,\n",
              "   'clip_norm': 3,\n",
              "   'batch_size': 128}},\n",
              " 'metrics': {'metrics': {'loss': {'direction': 'min',\n",
              "    'observations': [{'value': [1.2318671906541567e-05], 'step': 12}]},\n",
              "   'accuracy': {'direction': 'max',\n",
              "    'observations': [{'value': [1.0], 'step': 12}]},\n",
              "   'val_loss': {'direction': 'min',\n",
              "    'observations': [{'value': [0.05942053347826004], 'step': 12}]},\n",
              "   'val_accuracy': {'direction': 'max',\n",
              "    'observations': [{'value': [0.9885885715484619], 'step': 12}]}}},\n",
              " 'score': 0.9885885715484619,\n",
              " 'best_step': 12,\n",
              " 'status': 'COMPLETED'}"
            ]
          },
          "metadata": {},
          "execution_count": 15
        }
      ]
    },
    {
      "cell_type": "code",
      "source": [
        "# Best HyperParameters\n",
        "best_hps = tuner.get_best_hyperparameters()[0]"
      ],
      "metadata": {
        "id": "rp9LxZuuRE3W"
      },
      "execution_count": 16,
      "outputs": []
    },
    {
      "cell_type": "code",
      "execution_count": 17,
      "metadata": {
        "id": "oR8YXuMdRE3Y",
        "colab": {
          "base_uri": "https://localhost:8080/"
        },
        "outputId": "5d539038-1581-44f6-ae1a-7d75815f8b8f"
      },
      "outputs": [
        {
          "output_type": "execute_result",
          "data": {
            "text/plain": [
              "{'LSTM_units': 64,\n",
              " 'rate_dropout': 0.3,\n",
              " 'dense_units': 32,\n",
              " 'learning_rate': 0.005,\n",
              " 'clip_norm': 3,\n",
              " 'batch_size': 128}"
            ]
          },
          "metadata": {},
          "execution_count": 17
        }
      ],
      "source": [
        "best_hps.values"
      ]
    },
    {
      "cell_type": "code",
      "source": [
        "# Best Model\n",
        "best_model = tuner.hypermodel.build(best_hps)"
      ],
      "metadata": {
        "id": "rqhSlRR1zJHq"
      },
      "execution_count": 18,
      "outputs": []
    },
    {
      "cell_type": "code",
      "source": [
        "best_model.summary()"
      ],
      "metadata": {
        "colab": {
          "base_uri": "https://localhost:8080/"
        },
        "outputId": "d314bc26-1f7c-4e89-bb81-d12bebb4371c",
        "id": "IgYZW2zTTQkm"
      },
      "execution_count": 19,
      "outputs": [
        {
          "output_type": "stream",
          "name": "stdout",
          "text": [
            "Model: \"sequential_1\"\n",
            "_________________________________________________________________\n",
            " Layer (type)                Output Shape              Param #   \n",
            "=================================================================\n",
            " embedding_1 (Embedding)     (None, 317, 300)          32112300  \n",
            "                                                                 \n",
            " bidirectional_1 (Bidirectio  (None, 317, 128)         186880    \n",
            " nal)                                                            \n",
            "                                                                 \n",
            " global_max_pooling1d_1 (Glo  (None, 128)              0         \n",
            " balMaxPooling1D)                                                \n",
            "                                                                 \n",
            " dropout_1 (Dropout)         (None, 128)               0         \n",
            "                                                                 \n",
            " dense_2 (Dense)             (None, 32)                4128      \n",
            "                                                                 \n",
            " dense_3 (Dense)             (None, 1)                 33        \n",
            "                                                                 \n",
            "=================================================================\n",
            "Total params: 32,303,341\n",
            "Trainable params: 32,303,341\n",
            "Non-trainable params: 0\n",
            "_________________________________________________________________\n"
          ]
        }
      ]
    }
  ],
  "metadata": {
    "colab": {
      "collapsed_sections": [],
      "provenance": []
    },
    "kernelspec": {
      "display_name": "Python 3",
      "name": "python3"
    },
    "language_info": {
      "name": "python"
    },
    "gpuClass": "standard",
    "accelerator": "GPU"
  },
  "nbformat": 4,
  "nbformat_minor": 0
}